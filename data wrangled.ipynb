{
 "cells": [
  {
   "cell_type": "markdown",
   "id": "b8763cf1-ea65-49c5-9c0f-45e7ddbabc0a",
   "metadata": {
    "tags": []
   },
   "source": [
    "# Are We Going to Last?\n",
    "## Predicting Divorce Rates Based on Self Reported Levels of Negative Communication Patterns"
   ]
  },
  {
   "cell_type": "markdown",
   "id": "43cb7486-7c77-4566-9e16-478ece12cc3b",
   "metadata": {},
   "source": [
    "**Introduction** - Every newlywed couple has asked themselves at least once: are we going to last? We use the Divorce Prediction Dataset to predict whether a couple will get divorced. The dataset contains responses from 150 couples from Turkey on 54 questions about their relationship. The responses are on a  5 point scale (0=Never, 1=Seldom, 2=Averagely, 3=Frequently, 4=Always). \n",
    "\n",
    "John Gottman is a renowned psychologist who is widely recognized for his work in martial relationships. His research highlights four major predictors of divorce which he refers to as \"Four Horsemen of the Apocalypse\" - critcism, contempt, defensiveness and stonewalling. \n",
    "\n",
    "Our team has selected questions from the Divorce Prediction Dataset that meet the criteria of one of these negative communication patterns. Our goals is to use classification to train the dataset and then predict if a couple will get divorced based on their score across these four negative communication patterns."
   ]
  },
  {
   "cell_type": "markdown",
   "id": "9a5826a7-a1c5-4c66-b48b-abe33fcc438f",
   "metadata": {},
   "source": [
    "**Method** - The variables used in our analysis are as follows:\n",
    "1. Divorce- This is a dummy variable that takes the value of 1 for divorce and 0 for Married \n",
    "2. Criticism- This includes couple's score (0-4) across questions that show criticism. John Gottman describe criticism as attacking your partner’s character instead of voicing a complaint. \n",
    "3. Contempt- This includes couple's score (0-4) across questions that show contempt. Contempt is described as assuming a position of moral superiority while criticising. \n",
    "4. Defensiveness This includes couple's score (0-4) across questions that show defensiveness. Defensiveness is described as not taking your partner’s concerns seriously and not taking responsibility for your mistakes.\n",
    "5. Stonewalling- This includes couple's score (0-4) across questions that show stonewalling. Stonewalling is described as withdrawing from the interaction, shutting down, and not responding to your partner.\n",
    "\n",
    "We are using knn classification to predict if a couple will divorce or not as we are identifying between two classes(1 and 0) instead predicting a number. \n",
    "\n",
    "To visualize our data, we will use a grouped bar graph where each group represents the marriage status (divorced or married), each group has data from the 4 variables with corresponding average scores in those categories shown on the y-axis. This would be a visually simplistic way to compare overall scores between the married and divorced cohorts, determine which variable (or communication pattern) correlates the strongest with the outcome of divorce.\n",
    "\n",
    "**Expected Outcomes and Significance**\n",
    "\n",
    "We expect to find out how likely couples are to get a divorce based on how they answer these questions. \n",
    "The impact of these findings could astronomically change the way couples about to get married feel about their relationship and help them look at their compatibility and how they approach their relationship. It also could potentially give new couples the information they need to target their weaker areas in their relationship allowing them to properly tackle issues and arguments that may arise in their marriage, in turn helping lower their chances of divorce. \n",
    "\n",
    "Possible future questions this could lead to could include: should certain couples get married?  Are specific personality types and people better suited together? Is there a way to change how people deal with communication if they score worse in order to save their marriage? \n"
   ]
  },
  {
   "cell_type": "markdown",
   "id": "47363c60-71d3-4288-a5df-184c26ef159f",
   "metadata": {},
   "source": [
    "**Preliminary Exploratory Data Analysis:**"
   ]
  },
  {
   "cell_type": "markdown",
   "id": "48ce9d1e-3fe1-48d9-bc2e-b5a2e18559ac",
   "metadata": {},
   "source": [
    "**Step 1** - Downloading the data into R "
   ]
  },
  {
   "cell_type": "code",
   "execution_count": 1,
   "id": "ab689022-73be-4d40-971d-3ea5131e77f9",
   "metadata": {
    "tags": []
   },
   "outputs": [
    {
     "name": "stderr",
     "output_type": "stream",
     "text": [
      "\n",
      "Attaching package: ‘dplyr’\n",
      "\n",
      "\n",
      "The following objects are masked from ‘package:stats’:\n",
      "\n",
      "    filter, lag\n",
      "\n",
      "\n",
      "The following objects are masked from ‘package:base’:\n",
      "\n",
      "    intersect, setdiff, setequal, union\n",
      "\n",
      "\n",
      "── \u001b[1mAttaching packages\u001b[22m ─────────────────────────────────────── tidyverse 1.3.1 ──\n",
      "\n",
      "\u001b[32m✔\u001b[39m \u001b[34mggplot2\u001b[39m 3.3.6     \u001b[32m✔\u001b[39m \u001b[34mpurrr  \u001b[39m 0.3.4\n",
      "\u001b[32m✔\u001b[39m \u001b[34mtibble \u001b[39m 3.1.7     \u001b[32m✔\u001b[39m \u001b[34mstringr\u001b[39m 1.4.0\n",
      "\u001b[32m✔\u001b[39m \u001b[34mtidyr  \u001b[39m 1.2.0     \u001b[32m✔\u001b[39m \u001b[34mforcats\u001b[39m 0.5.1\n",
      "\u001b[32m✔\u001b[39m \u001b[34mreadr  \u001b[39m 2.1.2     \n",
      "\n",
      "── \u001b[1mConflicts\u001b[22m ────────────────────────────────────────── tidyverse_conflicts() ──\n",
      "\u001b[31m✖\u001b[39m \u001b[34mdplyr\u001b[39m::\u001b[32mfilter()\u001b[39m masks \u001b[34mstats\u001b[39m::filter()\n",
      "\u001b[31m✖\u001b[39m \u001b[34mdplyr\u001b[39m::\u001b[32mlag()\u001b[39m    masks \u001b[34mstats\u001b[39m::lag()\n",
      "\n",
      "── \u001b[1mAttaching packages\u001b[22m ────────────────────────────────────── tidymodels 1.0.0 ──\n",
      "\n",
      "\u001b[32m✔\u001b[39m \u001b[34mbroom       \u001b[39m 1.0.0     \u001b[32m✔\u001b[39m \u001b[34mrsample     \u001b[39m 1.0.0\n",
      "\u001b[32m✔\u001b[39m \u001b[34mdials       \u001b[39m 1.0.0     \u001b[32m✔\u001b[39m \u001b[34mtune        \u001b[39m 1.0.0\n",
      "\u001b[32m✔\u001b[39m \u001b[34minfer       \u001b[39m 1.0.2     \u001b[32m✔\u001b[39m \u001b[34mworkflows   \u001b[39m 1.0.0\n",
      "\u001b[32m✔\u001b[39m \u001b[34mmodeldata   \u001b[39m 1.0.0     \u001b[32m✔\u001b[39m \u001b[34mworkflowsets\u001b[39m 1.0.0\n",
      "\u001b[32m✔\u001b[39m \u001b[34mparsnip     \u001b[39m 1.0.0     \u001b[32m✔\u001b[39m \u001b[34myardstick   \u001b[39m 1.0.0\n",
      "\u001b[32m✔\u001b[39m \u001b[34mrecipes     \u001b[39m 1.0.1     \n",
      "\n",
      "── \u001b[1mConflicts\u001b[22m ───────────────────────────────────────── tidymodels_conflicts() ──\n",
      "\u001b[31m✖\u001b[39m \u001b[34mscales\u001b[39m::\u001b[32mdiscard()\u001b[39m masks \u001b[34mpurrr\u001b[39m::discard()\n",
      "\u001b[31m✖\u001b[39m \u001b[34mdplyr\u001b[39m::\u001b[32mfilter()\u001b[39m   masks \u001b[34mstats\u001b[39m::filter()\n",
      "\u001b[31m✖\u001b[39m \u001b[34mrecipes\u001b[39m::\u001b[32mfixed()\u001b[39m  masks \u001b[34mstringr\u001b[39m::fixed()\n",
      "\u001b[31m✖\u001b[39m \u001b[34mdplyr\u001b[39m::\u001b[32mlag()\u001b[39m      masks \u001b[34mstats\u001b[39m::lag()\n",
      "\u001b[31m✖\u001b[39m \u001b[34myardstick\u001b[39m::\u001b[32mspec()\u001b[39m masks \u001b[34mreadr\u001b[39m::spec()\n",
      "\u001b[31m✖\u001b[39m \u001b[34mrecipes\u001b[39m::\u001b[32mstep()\u001b[39m   masks \u001b[34mstats\u001b[39m::step()\n",
      "\u001b[34m•\u001b[39m Use suppressPackageStartupMessages() to eliminate package startup messages\n",
      "\n"
     ]
    }
   ],
   "source": [
    "library(dplyr)\n",
    "library(tidyverse)\n",
    "library(repr)\n",
    "library(tidymodels)"
   ]
  },
  {
   "cell_type": "code",
   "execution_count": 2,
   "id": "f89b5e01-b711-418a-8a17-fe72516420fd",
   "metadata": {
    "tags": []
   },
   "outputs": [
    {
     "name": "stderr",
     "output_type": "stream",
     "text": [
      "\u001b[1mRows: \u001b[22m\u001b[34m170\u001b[39m \u001b[1mColumns: \u001b[22m\u001b[34m55\u001b[39m\n",
      "\u001b[36m──\u001b[39m \u001b[1mColumn specification\u001b[22m \u001b[36m────────────────────────────────────────────────────────\u001b[39m\n",
      "\u001b[1mDelimiter:\u001b[22m \";\"\n",
      "\u001b[32mdbl\u001b[39m (55): Q1, Q2, Q3, Q4, Q5, Q6, Q7, Q8, Q9, Q10, Q11, Q12, Q13, Q14, Q15, ...\n",
      "\n",
      "\u001b[36mℹ\u001b[39m Use `spec()` to retrieve the full column specification for this data.\n",
      "\u001b[36mℹ\u001b[39m Specify the column types or set `show_col_types = FALSE` to quiet this message.\n"
     ]
    },
    {
     "data": {
      "text/html": [
       "<table class=\"dataframe\">\n",
       "<caption>A tibble: 6 × 55</caption>\n",
       "<thead>\n",
       "\t<tr><th scope=col>Q1</th><th scope=col>Q2</th><th scope=col>Q3</th><th scope=col>Q4</th><th scope=col>Q5</th><th scope=col>Q6</th><th scope=col>Q7</th><th scope=col>Q8</th><th scope=col>Q9</th><th scope=col>Q10</th><th scope=col>⋯</th><th scope=col>Q46</th><th scope=col>Q47</th><th scope=col>Q48</th><th scope=col>Q49</th><th scope=col>Q50</th><th scope=col>Q51</th><th scope=col>Q52</th><th scope=col>Q53</th><th scope=col>Q54</th><th scope=col>Divorce</th></tr>\n",
       "\t<tr><th scope=col>&lt;dbl&gt;</th><th scope=col>&lt;dbl&gt;</th><th scope=col>&lt;dbl&gt;</th><th scope=col>&lt;dbl&gt;</th><th scope=col>&lt;dbl&gt;</th><th scope=col>&lt;dbl&gt;</th><th scope=col>&lt;dbl&gt;</th><th scope=col>&lt;dbl&gt;</th><th scope=col>&lt;dbl&gt;</th><th scope=col>&lt;dbl&gt;</th><th scope=col>⋯</th><th scope=col>&lt;dbl&gt;</th><th scope=col>&lt;dbl&gt;</th><th scope=col>&lt;dbl&gt;</th><th scope=col>&lt;dbl&gt;</th><th scope=col>&lt;dbl&gt;</th><th scope=col>&lt;dbl&gt;</th><th scope=col>&lt;dbl&gt;</th><th scope=col>&lt;dbl&gt;</th><th scope=col>&lt;dbl&gt;</th><th scope=col>&lt;dbl&gt;</th></tr>\n",
       "</thead>\n",
       "<tbody>\n",
       "\t<tr><td>2</td><td>2</td><td>4</td><td>1</td><td>0</td><td>0</td><td>0</td><td>0</td><td>0</td><td>0</td><td>⋯</td><td>2</td><td>1</td><td>3</td><td>3</td><td>3</td><td>2</td><td>3</td><td>2</td><td>1</td><td>1</td></tr>\n",
       "\t<tr><td>4</td><td>4</td><td>4</td><td>4</td><td>4</td><td>0</td><td>0</td><td>4</td><td>4</td><td>4</td><td>⋯</td><td>2</td><td>2</td><td>3</td><td>4</td><td>4</td><td>4</td><td>4</td><td>2</td><td>2</td><td>1</td></tr>\n",
       "\t<tr><td>2</td><td>2</td><td>2</td><td>2</td><td>1</td><td>3</td><td>2</td><td>1</td><td>1</td><td>2</td><td>⋯</td><td>3</td><td>2</td><td>3</td><td>1</td><td>1</td><td>1</td><td>2</td><td>2</td><td>2</td><td>1</td></tr>\n",
       "\t<tr><td>3</td><td>2</td><td>3</td><td>2</td><td>3</td><td>3</td><td>3</td><td>3</td><td>3</td><td>3</td><td>⋯</td><td>2</td><td>2</td><td>3</td><td>3</td><td>3</td><td>3</td><td>2</td><td>2</td><td>2</td><td>1</td></tr>\n",
       "\t<tr><td>2</td><td>2</td><td>1</td><td>1</td><td>1</td><td>1</td><td>0</td><td>0</td><td>0</td><td>0</td><td>⋯</td><td>2</td><td>1</td><td>2</td><td>3</td><td>2</td><td>2</td><td>2</td><td>1</td><td>0</td><td>1</td></tr>\n",
       "\t<tr><td>0</td><td>0</td><td>1</td><td>0</td><td>0</td><td>2</td><td>0</td><td>0</td><td>0</td><td>1</td><td>⋯</td><td>2</td><td>2</td><td>1</td><td>2</td><td>1</td><td>1</td><td>1</td><td>2</td><td>0</td><td>1</td></tr>\n",
       "</tbody>\n",
       "</table>\n"
      ],
      "text/latex": [
       "A tibble: 6 × 55\n",
       "\\begin{tabular}{lllllllllllllllllllll}\n",
       " Q1 & Q2 & Q3 & Q4 & Q5 & Q6 & Q7 & Q8 & Q9 & Q10 & ⋯ & Q46 & Q47 & Q48 & Q49 & Q50 & Q51 & Q52 & Q53 & Q54 & Divorce\\\\\n",
       " <dbl> & <dbl> & <dbl> & <dbl> & <dbl> & <dbl> & <dbl> & <dbl> & <dbl> & <dbl> & ⋯ & <dbl> & <dbl> & <dbl> & <dbl> & <dbl> & <dbl> & <dbl> & <dbl> & <dbl> & <dbl>\\\\\n",
       "\\hline\n",
       "\t 2 & 2 & 4 & 1 & 0 & 0 & 0 & 0 & 0 & 0 & ⋯ & 2 & 1 & 3 & 3 & 3 & 2 & 3 & 2 & 1 & 1\\\\\n",
       "\t 4 & 4 & 4 & 4 & 4 & 0 & 0 & 4 & 4 & 4 & ⋯ & 2 & 2 & 3 & 4 & 4 & 4 & 4 & 2 & 2 & 1\\\\\n",
       "\t 2 & 2 & 2 & 2 & 1 & 3 & 2 & 1 & 1 & 2 & ⋯ & 3 & 2 & 3 & 1 & 1 & 1 & 2 & 2 & 2 & 1\\\\\n",
       "\t 3 & 2 & 3 & 2 & 3 & 3 & 3 & 3 & 3 & 3 & ⋯ & 2 & 2 & 3 & 3 & 3 & 3 & 2 & 2 & 2 & 1\\\\\n",
       "\t 2 & 2 & 1 & 1 & 1 & 1 & 0 & 0 & 0 & 0 & ⋯ & 2 & 1 & 2 & 3 & 2 & 2 & 2 & 1 & 0 & 1\\\\\n",
       "\t 0 & 0 & 1 & 0 & 0 & 2 & 0 & 0 & 0 & 1 & ⋯ & 2 & 2 & 1 & 2 & 1 & 1 & 1 & 2 & 0 & 1\\\\\n",
       "\\end{tabular}\n"
      ],
      "text/markdown": [
       "\n",
       "A tibble: 6 × 55\n",
       "\n",
       "| Q1 &lt;dbl&gt; | Q2 &lt;dbl&gt; | Q3 &lt;dbl&gt; | Q4 &lt;dbl&gt; | Q5 &lt;dbl&gt; | Q6 &lt;dbl&gt; | Q7 &lt;dbl&gt; | Q8 &lt;dbl&gt; | Q9 &lt;dbl&gt; | Q10 &lt;dbl&gt; | ⋯ ⋯ | Q46 &lt;dbl&gt; | Q47 &lt;dbl&gt; | Q48 &lt;dbl&gt; | Q49 &lt;dbl&gt; | Q50 &lt;dbl&gt; | Q51 &lt;dbl&gt; | Q52 &lt;dbl&gt; | Q53 &lt;dbl&gt; | Q54 &lt;dbl&gt; | Divorce &lt;dbl&gt; |\n",
       "|---|---|---|---|---|---|---|---|---|---|---|---|---|---|---|---|---|---|---|---|---|\n",
       "| 2 | 2 | 4 | 1 | 0 | 0 | 0 | 0 | 0 | 0 | ⋯ | 2 | 1 | 3 | 3 | 3 | 2 | 3 | 2 | 1 | 1 |\n",
       "| 4 | 4 | 4 | 4 | 4 | 0 | 0 | 4 | 4 | 4 | ⋯ | 2 | 2 | 3 | 4 | 4 | 4 | 4 | 2 | 2 | 1 |\n",
       "| 2 | 2 | 2 | 2 | 1 | 3 | 2 | 1 | 1 | 2 | ⋯ | 3 | 2 | 3 | 1 | 1 | 1 | 2 | 2 | 2 | 1 |\n",
       "| 3 | 2 | 3 | 2 | 3 | 3 | 3 | 3 | 3 | 3 | ⋯ | 2 | 2 | 3 | 3 | 3 | 3 | 2 | 2 | 2 | 1 |\n",
       "| 2 | 2 | 1 | 1 | 1 | 1 | 0 | 0 | 0 | 0 | ⋯ | 2 | 1 | 2 | 3 | 2 | 2 | 2 | 1 | 0 | 1 |\n",
       "| 0 | 0 | 1 | 0 | 0 | 2 | 0 | 0 | 0 | 1 | ⋯ | 2 | 2 | 1 | 2 | 1 | 1 | 1 | 2 | 0 | 1 |\n",
       "\n"
      ],
      "text/plain": [
       "  Q1 Q2 Q3 Q4 Q5 Q6 Q7 Q8 Q9 Q10 ⋯ Q46 Q47 Q48 Q49 Q50 Q51 Q52 Q53 Q54 Divorce\n",
       "1 2  2  4  1  0  0  0  0  0  0   ⋯ 2   1   3   3   3   2   3   2   1   1      \n",
       "2 4  4  4  4  4  0  0  4  4  4   ⋯ 2   2   3   4   4   4   4   2   2   1      \n",
       "3 2  2  2  2  1  3  2  1  1  2   ⋯ 3   2   3   1   1   1   2   2   2   1      \n",
       "4 3  2  3  2  3  3  3  3  3  3   ⋯ 2   2   3   3   3   3   2   2   2   1      \n",
       "5 2  2  1  1  1  1  0  0  0  0   ⋯ 2   1   2   3   2   2   2   1   0   1      \n",
       "6 0  0  1  0  0  2  0  0  0  1   ⋯ 2   2   1   2   1   1   1   2   0   1      "
      ]
     },
     "metadata": {},
     "output_type": "display_data"
    }
   ],
   "source": [
    "my_url <- \"https://raw.githubusercontent.com/apurva-b/dsci100-project-58/main/divorce_data.csv\"\n",
    "data <- read_delim(my_url, delim = \";\")\n",
    "head(data)"
   ]
  },
  {
   "cell_type": "markdown",
   "id": "692472a4-5c4d-494b-b643-b833a4928542",
   "metadata": {},
   "source": [
    "**Step 2** - Selecting the columns that are relevant to our research question and mutate the data so that the Divorce column is read as a factor instead of an integer\n"
   ]
  },
  {
   "cell_type": "code",
   "execution_count": 3,
   "id": "d1e73314-58df-4ab2-8e4d-ddc9e7bd1da6",
   "metadata": {
    "tags": []
   },
   "outputs": [],
   "source": [
    "data <- data |> \n",
    "    mutate(Divorce = as_factor(Divorce))\n",
    "\n",
    "selected_data <- select(data, Divorce, Q32:Q37, Q52, Q31, Q38, Q41, Q48, Q53, Q54, Q49, Q50, Q51, Q42:Q47 )"
   ]
  },
  {
   "cell_type": "code",
   "execution_count": 4,
   "id": "3ecdc643-ba7d-402c-84e6-d80531e767aa",
   "metadata": {
    "tags": []
   },
   "outputs": [
    {
     "data": {
      "text/html": [
       "<table class=\"dataframe\">\n",
       "<caption>A tibble: 6 × 23</caption>\n",
       "<thead>\n",
       "\t<tr><th scope=col>Divorce</th><th scope=col>Q32</th><th scope=col>Q33</th><th scope=col>Q34</th><th scope=col>Q35</th><th scope=col>Q36</th><th scope=col>Q37</th><th scope=col>Q52</th><th scope=col>Q31</th><th scope=col>Q38</th><th scope=col>⋯</th><th scope=col>Q54</th><th scope=col>Q49</th><th scope=col>Q50</th><th scope=col>Q51</th><th scope=col>Q42</th><th scope=col>Q43</th><th scope=col>Q44</th><th scope=col>Q45</th><th scope=col>Q46</th><th scope=col>Q47</th></tr>\n",
       "\t<tr><th scope=col>&lt;fct&gt;</th><th scope=col>&lt;dbl&gt;</th><th scope=col>&lt;dbl&gt;</th><th scope=col>&lt;dbl&gt;</th><th scope=col>&lt;dbl&gt;</th><th scope=col>&lt;dbl&gt;</th><th scope=col>&lt;dbl&gt;</th><th scope=col>&lt;dbl&gt;</th><th scope=col>&lt;dbl&gt;</th><th scope=col>&lt;dbl&gt;</th><th scope=col>⋯</th><th scope=col>&lt;dbl&gt;</th><th scope=col>&lt;dbl&gt;</th><th scope=col>&lt;dbl&gt;</th><th scope=col>&lt;dbl&gt;</th><th scope=col>&lt;dbl&gt;</th><th scope=col>&lt;dbl&gt;</th><th scope=col>&lt;dbl&gt;</th><th scope=col>&lt;dbl&gt;</th><th scope=col>&lt;dbl&gt;</th><th scope=col>&lt;dbl&gt;</th></tr>\n",
       "</thead>\n",
       "<tbody>\n",
       "\t<tr><td>1</td><td>2</td><td>1</td><td>2</td><td>0</td><td>1</td><td>2</td><td>3</td><td>1</td><td>1</td><td>⋯</td><td>1</td><td>3</td><td>3</td><td>2</td><td>1</td><td>1</td><td>2</td><td>3</td><td>2</td><td>1</td></tr>\n",
       "\t<tr><td>1</td><td>4</td><td>2</td><td>3</td><td>0</td><td>2</td><td>3</td><td>4</td><td>0</td><td>4</td><td>⋯</td><td>2</td><td>4</td><td>4</td><td>4</td><td>2</td><td>3</td><td>4</td><td>2</td><td>2</td><td>2</td></tr>\n",
       "\t<tr><td>1</td><td>3</td><td>1</td><td>1</td><td>1</td><td>1</td><td>2</td><td>2</td><td>3</td><td>1</td><td>⋯</td><td>2</td><td>1</td><td>1</td><td>1</td><td>3</td><td>2</td><td>3</td><td>2</td><td>3</td><td>2</td></tr>\n",
       "\t<tr><td>1</td><td>3</td><td>2</td><td>2</td><td>1</td><td>1</td><td>3</td><td>2</td><td>2</td><td>3</td><td>⋯</td><td>2</td><td>3</td><td>3</td><td>3</td><td>2</td><td>3</td><td>2</td><td>3</td><td>2</td><td>2</td></tr>\n",
       "\t<tr><td>1</td><td>1</td><td>1</td><td>1</td><td>0</td><td>0</td><td>0</td><td>2</td><td>1</td><td>0</td><td>⋯</td><td>0</td><td>3</td><td>2</td><td>2</td><td>2</td><td>3</td><td>0</td><td>2</td><td>2</td><td>1</td></tr>\n",
       "\t<tr><td>1</td><td>1</td><td>1</td><td>1</td><td>1</td><td>1</td><td>1</td><td>1</td><td>4</td><td>2</td><td>⋯</td><td>0</td><td>2</td><td>1</td><td>1</td><td>1</td><td>2</td><td>3</td><td>0</td><td>2</td><td>2</td></tr>\n",
       "</tbody>\n",
       "</table>\n"
      ],
      "text/latex": [
       "A tibble: 6 × 23\n",
       "\\begin{tabular}{lllllllllllllllllllll}\n",
       " Divorce & Q32 & Q33 & Q34 & Q35 & Q36 & Q37 & Q52 & Q31 & Q38 & ⋯ & Q54 & Q49 & Q50 & Q51 & Q42 & Q43 & Q44 & Q45 & Q46 & Q47\\\\\n",
       " <fct> & <dbl> & <dbl> & <dbl> & <dbl> & <dbl> & <dbl> & <dbl> & <dbl> & <dbl> & ⋯ & <dbl> & <dbl> & <dbl> & <dbl> & <dbl> & <dbl> & <dbl> & <dbl> & <dbl> & <dbl>\\\\\n",
       "\\hline\n",
       "\t 1 & 2 & 1 & 2 & 0 & 1 & 2 & 3 & 1 & 1 & ⋯ & 1 & 3 & 3 & 2 & 1 & 1 & 2 & 3 & 2 & 1\\\\\n",
       "\t 1 & 4 & 2 & 3 & 0 & 2 & 3 & 4 & 0 & 4 & ⋯ & 2 & 4 & 4 & 4 & 2 & 3 & 4 & 2 & 2 & 2\\\\\n",
       "\t 1 & 3 & 1 & 1 & 1 & 1 & 2 & 2 & 3 & 1 & ⋯ & 2 & 1 & 1 & 1 & 3 & 2 & 3 & 2 & 3 & 2\\\\\n",
       "\t 1 & 3 & 2 & 2 & 1 & 1 & 3 & 2 & 2 & 3 & ⋯ & 2 & 3 & 3 & 3 & 2 & 3 & 2 & 3 & 2 & 2\\\\\n",
       "\t 1 & 1 & 1 & 1 & 0 & 0 & 0 & 2 & 1 & 0 & ⋯ & 0 & 3 & 2 & 2 & 2 & 3 & 0 & 2 & 2 & 1\\\\\n",
       "\t 1 & 1 & 1 & 1 & 1 & 1 & 1 & 1 & 4 & 2 & ⋯ & 0 & 2 & 1 & 1 & 1 & 2 & 3 & 0 & 2 & 2\\\\\n",
       "\\end{tabular}\n"
      ],
      "text/markdown": [
       "\n",
       "A tibble: 6 × 23\n",
       "\n",
       "| Divorce &lt;fct&gt; | Q32 &lt;dbl&gt; | Q33 &lt;dbl&gt; | Q34 &lt;dbl&gt; | Q35 &lt;dbl&gt; | Q36 &lt;dbl&gt; | Q37 &lt;dbl&gt; | Q52 &lt;dbl&gt; | Q31 &lt;dbl&gt; | Q38 &lt;dbl&gt; | ⋯ ⋯ | Q54 &lt;dbl&gt; | Q49 &lt;dbl&gt; | Q50 &lt;dbl&gt; | Q51 &lt;dbl&gt; | Q42 &lt;dbl&gt; | Q43 &lt;dbl&gt; | Q44 &lt;dbl&gt; | Q45 &lt;dbl&gt; | Q46 &lt;dbl&gt; | Q47 &lt;dbl&gt; |\n",
       "|---|---|---|---|---|---|---|---|---|---|---|---|---|---|---|---|---|---|---|---|---|\n",
       "| 1 | 2 | 1 | 2 | 0 | 1 | 2 | 3 | 1 | 1 | ⋯ | 1 | 3 | 3 | 2 | 1 | 1 | 2 | 3 | 2 | 1 |\n",
       "| 1 | 4 | 2 | 3 | 0 | 2 | 3 | 4 | 0 | 4 | ⋯ | 2 | 4 | 4 | 4 | 2 | 3 | 4 | 2 | 2 | 2 |\n",
       "| 1 | 3 | 1 | 1 | 1 | 1 | 2 | 2 | 3 | 1 | ⋯ | 2 | 1 | 1 | 1 | 3 | 2 | 3 | 2 | 3 | 2 |\n",
       "| 1 | 3 | 2 | 2 | 1 | 1 | 3 | 2 | 2 | 3 | ⋯ | 2 | 3 | 3 | 3 | 2 | 3 | 2 | 3 | 2 | 2 |\n",
       "| 1 | 1 | 1 | 1 | 0 | 0 | 0 | 2 | 1 | 0 | ⋯ | 0 | 3 | 2 | 2 | 2 | 3 | 0 | 2 | 2 | 1 |\n",
       "| 1 | 1 | 1 | 1 | 1 | 1 | 1 | 1 | 4 | 2 | ⋯ | 0 | 2 | 1 | 1 | 1 | 2 | 3 | 0 | 2 | 2 |\n",
       "\n"
      ],
      "text/plain": [
       "  Divorce Q32 Q33 Q34 Q35 Q36 Q37 Q52 Q31 Q38 ⋯ Q54 Q49 Q50 Q51 Q42 Q43 Q44 Q45\n",
       "1 1       2   1   2   0   1   2   3   1   1   ⋯ 1   3   3   2   1   1   2   3  \n",
       "2 1       4   2   3   0   2   3   4   0   4   ⋯ 2   4   4   4   2   3   4   2  \n",
       "3 1       3   1   1   1   1   2   2   3   1   ⋯ 2   1   1   1   3   2   3   2  \n",
       "4 1       3   2   2   1   1   3   2   2   3   ⋯ 2   3   3   3   2   3   2   3  \n",
       "5 1       1   1   1   0   0   0   2   1   0   ⋯ 0   3   2   2   2   3   0   2  \n",
       "6 1       1   1   1   1   1   1   1   4   2   ⋯ 0   2   1   1   1   2   3   0  \n",
       "  Q46 Q47\n",
       "1 2   1  \n",
       "2 2   2  \n",
       "3 3   2  \n",
       "4 2   2  \n",
       "5 2   1  \n",
       "6 2   2  "
      ]
     },
     "metadata": {},
     "output_type": "display_data"
    }
   ],
   "source": [
    "head(selected_data)"
   ]
  },
  {
   "cell_type": "markdown",
   "id": "10148753-8a63-4b55-a01f-af5a85a37028",
   "metadata": {},
   "source": [
    "**Step 3** - Creating a new column for each negative communication style by averaging the score for the questions relevant for them. \n",
    "\n",
    "For example- Creating a column named Contempt that includes the average score of all the questions that correspond to having contempt in a relationship"
   ]
  },
  {
   "cell_type": "code",
   "execution_count": 5,
   "id": "3890fb62-9286-440b-98f2-7dec17c997de",
   "metadata": {
    "tags": []
   },
   "outputs": [],
   "source": [
    "mutated_data <- selected_data %>%\n",
    "mutate( \n",
    "    Criticism= rowMeans(across(2:8)), \n",
    "    Contempt= rowMeans(across(9:14)), \n",
    "    Defensiveness= rowMeans(across(15:17)), \n",
    "    Stonewalling = rowMeans(across(18:23)))"
   ]
  },
  {
   "cell_type": "code",
   "execution_count": 6,
   "id": "b594d338-3a66-4a0a-84ff-efb54ab82489",
   "metadata": {
    "tags": []
   },
   "outputs": [
    {
     "data": {
      "text/html": [
       "<table class=\"dataframe\">\n",
       "<caption>A tibble: 6 × 27</caption>\n",
       "<thead>\n",
       "\t<tr><th scope=col>Divorce</th><th scope=col>Q32</th><th scope=col>Q33</th><th scope=col>Q34</th><th scope=col>Q35</th><th scope=col>Q36</th><th scope=col>Q37</th><th scope=col>Q52</th><th scope=col>Q31</th><th scope=col>Q38</th><th scope=col>⋯</th><th scope=col>Q42</th><th scope=col>Q43</th><th scope=col>Q44</th><th scope=col>Q45</th><th scope=col>Q46</th><th scope=col>Q47</th><th scope=col>Criticism</th><th scope=col>Contempt</th><th scope=col>Defensiveness</th><th scope=col>Stonewalling</th></tr>\n",
       "\t<tr><th scope=col>&lt;fct&gt;</th><th scope=col>&lt;dbl&gt;</th><th scope=col>&lt;dbl&gt;</th><th scope=col>&lt;dbl&gt;</th><th scope=col>&lt;dbl&gt;</th><th scope=col>&lt;dbl&gt;</th><th scope=col>&lt;dbl&gt;</th><th scope=col>&lt;dbl&gt;</th><th scope=col>&lt;dbl&gt;</th><th scope=col>&lt;dbl&gt;</th><th scope=col>⋯</th><th scope=col>&lt;dbl&gt;</th><th scope=col>&lt;dbl&gt;</th><th scope=col>&lt;dbl&gt;</th><th scope=col>&lt;dbl&gt;</th><th scope=col>&lt;dbl&gt;</th><th scope=col>&lt;dbl&gt;</th><th scope=col>&lt;dbl&gt;</th><th scope=col>&lt;dbl&gt;</th><th scope=col>&lt;dbl&gt;</th><th scope=col>&lt;dbl&gt;</th></tr>\n",
       "</thead>\n",
       "<tbody>\n",
       "\t<tr><td>1</td><td>2</td><td>1</td><td>2</td><td>0</td><td>1</td><td>2</td><td>3</td><td>1</td><td>1</td><td>⋯</td><td>1</td><td>1</td><td>2</td><td>3</td><td>2</td><td>1</td><td>1.5714286</td><td>1.6666667</td><td>2.666667</td><td>1.666667</td></tr>\n",
       "\t<tr><td>1</td><td>4</td><td>2</td><td>3</td><td>0</td><td>2</td><td>3</td><td>4</td><td>0</td><td>4</td><td>⋯</td><td>2</td><td>3</td><td>4</td><td>2</td><td>2</td><td>2</td><td>2.5714286</td><td>2.1666667</td><td>4.000000</td><td>2.500000</td></tr>\n",
       "\t<tr><td>1</td><td>3</td><td>1</td><td>1</td><td>1</td><td>1</td><td>2</td><td>2</td><td>3</td><td>1</td><td>⋯</td><td>3</td><td>2</td><td>3</td><td>2</td><td>3</td><td>2</td><td>1.5714286</td><td>2.3333333</td><td>1.000000</td><td>2.500000</td></tr>\n",
       "\t<tr><td>1</td><td>3</td><td>2</td><td>2</td><td>1</td><td>1</td><td>3</td><td>2</td><td>2</td><td>3</td><td>⋯</td><td>2</td><td>3</td><td>2</td><td>3</td><td>2</td><td>2</td><td>2.0000000</td><td>2.3333333</td><td>3.000000</td><td>2.333333</td></tr>\n",
       "\t<tr><td>1</td><td>1</td><td>1</td><td>1</td><td>0</td><td>0</td><td>0</td><td>2</td><td>1</td><td>0</td><td>⋯</td><td>2</td><td>3</td><td>0</td><td>2</td><td>2</td><td>1</td><td>0.7142857</td><td>0.6666667</td><td>2.333333</td><td>1.666667</td></tr>\n",
       "\t<tr><td>1</td><td>1</td><td>1</td><td>1</td><td>1</td><td>1</td><td>1</td><td>1</td><td>4</td><td>2</td><td>⋯</td><td>1</td><td>2</td><td>3</td><td>0</td><td>2</td><td>2</td><td>1.0000000</td><td>1.8333333</td><td>1.333333</td><td>1.666667</td></tr>\n",
       "</tbody>\n",
       "</table>\n"
      ],
      "text/latex": [
       "A tibble: 6 × 27\n",
       "\\begin{tabular}{lllllllllllllllllllll}\n",
       " Divorce & Q32 & Q33 & Q34 & Q35 & Q36 & Q37 & Q52 & Q31 & Q38 & ⋯ & Q42 & Q43 & Q44 & Q45 & Q46 & Q47 & Criticism & Contempt & Defensiveness & Stonewalling\\\\\n",
       " <fct> & <dbl> & <dbl> & <dbl> & <dbl> & <dbl> & <dbl> & <dbl> & <dbl> & <dbl> & ⋯ & <dbl> & <dbl> & <dbl> & <dbl> & <dbl> & <dbl> & <dbl> & <dbl> & <dbl> & <dbl>\\\\\n",
       "\\hline\n",
       "\t 1 & 2 & 1 & 2 & 0 & 1 & 2 & 3 & 1 & 1 & ⋯ & 1 & 1 & 2 & 3 & 2 & 1 & 1.5714286 & 1.6666667 & 2.666667 & 1.666667\\\\\n",
       "\t 1 & 4 & 2 & 3 & 0 & 2 & 3 & 4 & 0 & 4 & ⋯ & 2 & 3 & 4 & 2 & 2 & 2 & 2.5714286 & 2.1666667 & 4.000000 & 2.500000\\\\\n",
       "\t 1 & 3 & 1 & 1 & 1 & 1 & 2 & 2 & 3 & 1 & ⋯ & 3 & 2 & 3 & 2 & 3 & 2 & 1.5714286 & 2.3333333 & 1.000000 & 2.500000\\\\\n",
       "\t 1 & 3 & 2 & 2 & 1 & 1 & 3 & 2 & 2 & 3 & ⋯ & 2 & 3 & 2 & 3 & 2 & 2 & 2.0000000 & 2.3333333 & 3.000000 & 2.333333\\\\\n",
       "\t 1 & 1 & 1 & 1 & 0 & 0 & 0 & 2 & 1 & 0 & ⋯ & 2 & 3 & 0 & 2 & 2 & 1 & 0.7142857 & 0.6666667 & 2.333333 & 1.666667\\\\\n",
       "\t 1 & 1 & 1 & 1 & 1 & 1 & 1 & 1 & 4 & 2 & ⋯ & 1 & 2 & 3 & 0 & 2 & 2 & 1.0000000 & 1.8333333 & 1.333333 & 1.666667\\\\\n",
       "\\end{tabular}\n"
      ],
      "text/markdown": [
       "\n",
       "A tibble: 6 × 27\n",
       "\n",
       "| Divorce &lt;fct&gt; | Q32 &lt;dbl&gt; | Q33 &lt;dbl&gt; | Q34 &lt;dbl&gt; | Q35 &lt;dbl&gt; | Q36 &lt;dbl&gt; | Q37 &lt;dbl&gt; | Q52 &lt;dbl&gt; | Q31 &lt;dbl&gt; | Q38 &lt;dbl&gt; | ⋯ ⋯ | Q42 &lt;dbl&gt; | Q43 &lt;dbl&gt; | Q44 &lt;dbl&gt; | Q45 &lt;dbl&gt; | Q46 &lt;dbl&gt; | Q47 &lt;dbl&gt; | Criticism &lt;dbl&gt; | Contempt &lt;dbl&gt; | Defensiveness &lt;dbl&gt; | Stonewalling &lt;dbl&gt; |\n",
       "|---|---|---|---|---|---|---|---|---|---|---|---|---|---|---|---|---|---|---|---|---|\n",
       "| 1 | 2 | 1 | 2 | 0 | 1 | 2 | 3 | 1 | 1 | ⋯ | 1 | 1 | 2 | 3 | 2 | 1 | 1.5714286 | 1.6666667 | 2.666667 | 1.666667 |\n",
       "| 1 | 4 | 2 | 3 | 0 | 2 | 3 | 4 | 0 | 4 | ⋯ | 2 | 3 | 4 | 2 | 2 | 2 | 2.5714286 | 2.1666667 | 4.000000 | 2.500000 |\n",
       "| 1 | 3 | 1 | 1 | 1 | 1 | 2 | 2 | 3 | 1 | ⋯ | 3 | 2 | 3 | 2 | 3 | 2 | 1.5714286 | 2.3333333 | 1.000000 | 2.500000 |\n",
       "| 1 | 3 | 2 | 2 | 1 | 1 | 3 | 2 | 2 | 3 | ⋯ | 2 | 3 | 2 | 3 | 2 | 2 | 2.0000000 | 2.3333333 | 3.000000 | 2.333333 |\n",
       "| 1 | 1 | 1 | 1 | 0 | 0 | 0 | 2 | 1 | 0 | ⋯ | 2 | 3 | 0 | 2 | 2 | 1 | 0.7142857 | 0.6666667 | 2.333333 | 1.666667 |\n",
       "| 1 | 1 | 1 | 1 | 1 | 1 | 1 | 1 | 4 | 2 | ⋯ | 1 | 2 | 3 | 0 | 2 | 2 | 1.0000000 | 1.8333333 | 1.333333 | 1.666667 |\n",
       "\n"
      ],
      "text/plain": [
       "  Divorce Q32 Q33 Q34 Q35 Q36 Q37 Q52 Q31 Q38 ⋯ Q42 Q43 Q44 Q45 Q46 Q47\n",
       "1 1       2   1   2   0   1   2   3   1   1   ⋯ 1   1   2   3   2   1  \n",
       "2 1       4   2   3   0   2   3   4   0   4   ⋯ 2   3   4   2   2   2  \n",
       "3 1       3   1   1   1   1   2   2   3   1   ⋯ 3   2   3   2   3   2  \n",
       "4 1       3   2   2   1   1   3   2   2   3   ⋯ 2   3   2   3   2   2  \n",
       "5 1       1   1   1   0   0   0   2   1   0   ⋯ 2   3   0   2   2   1  \n",
       "6 1       1   1   1   1   1   1   1   4   2   ⋯ 1   2   3   0   2   2  \n",
       "  Criticism Contempt  Defensiveness Stonewalling\n",
       "1 1.5714286 1.6666667 2.666667      1.666667    \n",
       "2 2.5714286 2.1666667 4.000000      2.500000    \n",
       "3 1.5714286 2.3333333 1.000000      2.500000    \n",
       "4 2.0000000 2.3333333 3.000000      2.333333    \n",
       "5 0.7142857 0.6666667 2.333333      1.666667    \n",
       "6 1.0000000 1.8333333 1.333333      1.666667    "
      ]
     },
     "metadata": {},
     "output_type": "display_data"
    }
   ],
   "source": [
    "head(mutated_data)"
   ]
  },
  {
   "cell_type": "markdown",
   "id": "bb755ca6-30c0-492f-9269-221187d60b62",
   "metadata": {},
   "source": [
    "**Step 4** - Selecting the columns relevant for our analysis"
   ]
  },
  {
   "cell_type": "code",
   "execution_count": 7,
   "id": "4bf11909-cea7-4a0d-ad65-c8d297d622a6",
   "metadata": {
    "tags": []
   },
   "outputs": [],
   "source": [
    "final_dataset <- select(mutated_data, Divorce, Criticism, Contempt, Defensiveness, Stonewalling)"
   ]
  },
  {
   "cell_type": "code",
   "execution_count": 8,
   "id": "3a4d24fd-d00c-4c0a-a112-5054446ff860",
   "metadata": {
    "tags": []
   },
   "outputs": [
    {
     "data": {
      "text/html": [
       "<table class=\"dataframe\">\n",
       "<caption>A tibble: 6 × 5</caption>\n",
       "<thead>\n",
       "\t<tr><th scope=col>Divorce</th><th scope=col>Criticism</th><th scope=col>Contempt</th><th scope=col>Defensiveness</th><th scope=col>Stonewalling</th></tr>\n",
       "\t<tr><th scope=col>&lt;fct&gt;</th><th scope=col>&lt;dbl&gt;</th><th scope=col>&lt;dbl&gt;</th><th scope=col>&lt;dbl&gt;</th><th scope=col>&lt;dbl&gt;</th></tr>\n",
       "</thead>\n",
       "<tbody>\n",
       "\t<tr><td>1</td><td>1.5714286</td><td>1.6666667</td><td>2.666667</td><td>1.666667</td></tr>\n",
       "\t<tr><td>1</td><td>2.5714286</td><td>2.1666667</td><td>4.000000</td><td>2.500000</td></tr>\n",
       "\t<tr><td>1</td><td>1.5714286</td><td>2.3333333</td><td>1.000000</td><td>2.500000</td></tr>\n",
       "\t<tr><td>1</td><td>2.0000000</td><td>2.3333333</td><td>3.000000</td><td>2.333333</td></tr>\n",
       "\t<tr><td>1</td><td>0.7142857</td><td>0.6666667</td><td>2.333333</td><td>1.666667</td></tr>\n",
       "\t<tr><td>1</td><td>1.0000000</td><td>1.8333333</td><td>1.333333</td><td>1.666667</td></tr>\n",
       "</tbody>\n",
       "</table>\n"
      ],
      "text/latex": [
       "A tibble: 6 × 5\n",
       "\\begin{tabular}{lllll}\n",
       " Divorce & Criticism & Contempt & Defensiveness & Stonewalling\\\\\n",
       " <fct> & <dbl> & <dbl> & <dbl> & <dbl>\\\\\n",
       "\\hline\n",
       "\t 1 & 1.5714286 & 1.6666667 & 2.666667 & 1.666667\\\\\n",
       "\t 1 & 2.5714286 & 2.1666667 & 4.000000 & 2.500000\\\\\n",
       "\t 1 & 1.5714286 & 2.3333333 & 1.000000 & 2.500000\\\\\n",
       "\t 1 & 2.0000000 & 2.3333333 & 3.000000 & 2.333333\\\\\n",
       "\t 1 & 0.7142857 & 0.6666667 & 2.333333 & 1.666667\\\\\n",
       "\t 1 & 1.0000000 & 1.8333333 & 1.333333 & 1.666667\\\\\n",
       "\\end{tabular}\n"
      ],
      "text/markdown": [
       "\n",
       "A tibble: 6 × 5\n",
       "\n",
       "| Divorce &lt;fct&gt; | Criticism &lt;dbl&gt; | Contempt &lt;dbl&gt; | Defensiveness &lt;dbl&gt; | Stonewalling &lt;dbl&gt; |\n",
       "|---|---|---|---|---|\n",
       "| 1 | 1.5714286 | 1.6666667 | 2.666667 | 1.666667 |\n",
       "| 1 | 2.5714286 | 2.1666667 | 4.000000 | 2.500000 |\n",
       "| 1 | 1.5714286 | 2.3333333 | 1.000000 | 2.500000 |\n",
       "| 1 | 2.0000000 | 2.3333333 | 3.000000 | 2.333333 |\n",
       "| 1 | 0.7142857 | 0.6666667 | 2.333333 | 1.666667 |\n",
       "| 1 | 1.0000000 | 1.8333333 | 1.333333 | 1.666667 |\n",
       "\n"
      ],
      "text/plain": [
       "  Divorce Criticism Contempt  Defensiveness Stonewalling\n",
       "1 1       1.5714286 1.6666667 2.666667      1.666667    \n",
       "2 1       2.5714286 2.1666667 4.000000      2.500000    \n",
       "3 1       1.5714286 2.3333333 1.000000      2.500000    \n",
       "4 1       2.0000000 2.3333333 3.000000      2.333333    \n",
       "5 1       0.7142857 0.6666667 2.333333      1.666667    \n",
       "6 1       1.0000000 1.8333333 1.333333      1.666667    "
      ]
     },
     "metadata": {},
     "output_type": "display_data"
    }
   ],
   "source": [
    "head(final_dataset)"
   ]
  },
  {
   "cell_type": "markdown",
   "id": "1a0b6882-a8ca-4f28-be2d-d961a3677be1",
   "metadata": {},
   "source": [
    "**Step 5** - The graph is split into 75% training data and 25% testing data as it is a good split in order to train the data while making sure the testing data is large enough."
   ]
  },
  {
   "cell_type": "code",
   "execution_count": 9,
   "id": "ed375872-ba6e-4bb7-8d65-375661cbfc3d",
   "metadata": {},
   "outputs": [
    {
     "data": {
      "text/html": [
       "<table class=\"dataframe\">\n",
       "<caption>A tibble: 6 × 5</caption>\n",
       "<thead>\n",
       "\t<tr><th scope=col>Divorce</th><th scope=col>Criticism</th><th scope=col>Contempt</th><th scope=col>Defensiveness</th><th scope=col>Stonewalling</th></tr>\n",
       "\t<tr><th scope=col>&lt;fct&gt;</th><th scope=col>&lt;dbl&gt;</th><th scope=col>&lt;dbl&gt;</th><th scope=col>&lt;dbl&gt;</th><th scope=col>&lt;dbl&gt;</th></tr>\n",
       "</thead>\n",
       "<tbody>\n",
       "\t<tr><td>0</td><td>0.1428571</td><td>0.6666667</td><td>0.0000000</td><td>0.8333333</td></tr>\n",
       "\t<tr><td>0</td><td>0.4285714</td><td>0.8333333</td><td>0.3333333</td><td>0.5000000</td></tr>\n",
       "\t<tr><td>0</td><td>0.0000000</td><td>0.6666667</td><td>0.0000000</td><td>0.0000000</td></tr>\n",
       "\t<tr><td>0</td><td>0.7142857</td><td>1.0000000</td><td>1.0000000</td><td>0.1666667</td></tr>\n",
       "\t<tr><td>0</td><td>0.2857143</td><td>0.1666667</td><td>0.0000000</td><td>1.1666667</td></tr>\n",
       "\t<tr><td>0</td><td>0.1428571</td><td>0.3333333</td><td>1.0000000</td><td>1.0000000</td></tr>\n",
       "</tbody>\n",
       "</table>\n"
      ],
      "text/latex": [
       "A tibble: 6 × 5\n",
       "\\begin{tabular}{lllll}\n",
       " Divorce & Criticism & Contempt & Defensiveness & Stonewalling\\\\\n",
       " <fct> & <dbl> & <dbl> & <dbl> & <dbl>\\\\\n",
       "\\hline\n",
       "\t 0 & 0.1428571 & 0.6666667 & 0.0000000 & 0.8333333\\\\\n",
       "\t 0 & 0.4285714 & 0.8333333 & 0.3333333 & 0.5000000\\\\\n",
       "\t 0 & 0.0000000 & 0.6666667 & 0.0000000 & 0.0000000\\\\\n",
       "\t 0 & 0.7142857 & 1.0000000 & 1.0000000 & 0.1666667\\\\\n",
       "\t 0 & 0.2857143 & 0.1666667 & 0.0000000 & 1.1666667\\\\\n",
       "\t 0 & 0.1428571 & 0.3333333 & 1.0000000 & 1.0000000\\\\\n",
       "\\end{tabular}\n"
      ],
      "text/markdown": [
       "\n",
       "A tibble: 6 × 5\n",
       "\n",
       "| Divorce &lt;fct&gt; | Criticism &lt;dbl&gt; | Contempt &lt;dbl&gt; | Defensiveness &lt;dbl&gt; | Stonewalling &lt;dbl&gt; |\n",
       "|---|---|---|---|---|\n",
       "| 0 | 0.1428571 | 0.6666667 | 0.0000000 | 0.8333333 |\n",
       "| 0 | 0.4285714 | 0.8333333 | 0.3333333 | 0.5000000 |\n",
       "| 0 | 0.0000000 | 0.6666667 | 0.0000000 | 0.0000000 |\n",
       "| 0 | 0.7142857 | 1.0000000 | 1.0000000 | 0.1666667 |\n",
       "| 0 | 0.2857143 | 0.1666667 | 0.0000000 | 1.1666667 |\n",
       "| 0 | 0.1428571 | 0.3333333 | 1.0000000 | 1.0000000 |\n",
       "\n"
      ],
      "text/plain": [
       "  Divorce Criticism Contempt  Defensiveness Stonewalling\n",
       "1 0       0.1428571 0.6666667 0.0000000     0.8333333   \n",
       "2 0       0.4285714 0.8333333 0.3333333     0.5000000   \n",
       "3 0       0.0000000 0.6666667 0.0000000     0.0000000   \n",
       "4 0       0.7142857 1.0000000 1.0000000     0.1666667   \n",
       "5 0       0.2857143 0.1666667 0.0000000     1.1666667   \n",
       "6 0       0.1428571 0.3333333 1.0000000     1.0000000   "
      ]
     },
     "metadata": {},
     "output_type": "display_data"
    },
    {
     "data": {
      "text/html": [
       "<table class=\"dataframe\">\n",
       "<caption>A tibble: 6 × 5</caption>\n",
       "<thead>\n",
       "\t<tr><th scope=col>Divorce</th><th scope=col>Criticism</th><th scope=col>Contempt</th><th scope=col>Defensiveness</th><th scope=col>Stonewalling</th></tr>\n",
       "\t<tr><th scope=col>&lt;fct&gt;</th><th scope=col>&lt;dbl&gt;</th><th scope=col>&lt;dbl&gt;</th><th scope=col>&lt;dbl&gt;</th><th scope=col>&lt;dbl&gt;</th></tr>\n",
       "</thead>\n",
       "<tbody>\n",
       "\t<tr><td>1</td><td>1.571429</td><td>1.666667</td><td>2.666667</td><td>1.666667</td></tr>\n",
       "\t<tr><td>1</td><td>1.571429</td><td>2.000000</td><td>1.666667</td><td>1.666667</td></tr>\n",
       "\t<tr><td>1</td><td>4.000000</td><td>4.000000</td><td>4.000000</td><td>4.000000</td></tr>\n",
       "\t<tr><td>1</td><td>4.000000</td><td>4.000000</td><td>4.000000</td><td>4.000000</td></tr>\n",
       "\t<tr><td>1</td><td>4.000000</td><td>4.000000</td><td>4.000000</td><td>4.000000</td></tr>\n",
       "\t<tr><td>1</td><td>4.000000</td><td>4.000000</td><td>4.000000</td><td>4.000000</td></tr>\n",
       "</tbody>\n",
       "</table>\n"
      ],
      "text/latex": [
       "A tibble: 6 × 5\n",
       "\\begin{tabular}{lllll}\n",
       " Divorce & Criticism & Contempt & Defensiveness & Stonewalling\\\\\n",
       " <fct> & <dbl> & <dbl> & <dbl> & <dbl>\\\\\n",
       "\\hline\n",
       "\t 1 & 1.571429 & 1.666667 & 2.666667 & 1.666667\\\\\n",
       "\t 1 & 1.571429 & 2.000000 & 1.666667 & 1.666667\\\\\n",
       "\t 1 & 4.000000 & 4.000000 & 4.000000 & 4.000000\\\\\n",
       "\t 1 & 4.000000 & 4.000000 & 4.000000 & 4.000000\\\\\n",
       "\t 1 & 4.000000 & 4.000000 & 4.000000 & 4.000000\\\\\n",
       "\t 1 & 4.000000 & 4.000000 & 4.000000 & 4.000000\\\\\n",
       "\\end{tabular}\n"
      ],
      "text/markdown": [
       "\n",
       "A tibble: 6 × 5\n",
       "\n",
       "| Divorce &lt;fct&gt; | Criticism &lt;dbl&gt; | Contempt &lt;dbl&gt; | Defensiveness &lt;dbl&gt; | Stonewalling &lt;dbl&gt; |\n",
       "|---|---|---|---|---|\n",
       "| 1 | 1.571429 | 1.666667 | 2.666667 | 1.666667 |\n",
       "| 1 | 1.571429 | 2.000000 | 1.666667 | 1.666667 |\n",
       "| 1 | 4.000000 | 4.000000 | 4.000000 | 4.000000 |\n",
       "| 1 | 4.000000 | 4.000000 | 4.000000 | 4.000000 |\n",
       "| 1 | 4.000000 | 4.000000 | 4.000000 | 4.000000 |\n",
       "| 1 | 4.000000 | 4.000000 | 4.000000 | 4.000000 |\n",
       "\n"
      ],
      "text/plain": [
       "  Divorce Criticism Contempt Defensiveness Stonewalling\n",
       "1 1       1.571429  1.666667 2.666667      1.666667    \n",
       "2 1       1.571429  2.000000 1.666667      1.666667    \n",
       "3 1       4.000000  4.000000 4.000000      4.000000    \n",
       "4 1       4.000000  4.000000 4.000000      4.000000    \n",
       "5 1       4.000000  4.000000 4.000000      4.000000    \n",
       "6 1       4.000000  4.000000 4.000000      4.000000    "
      ]
     },
     "metadata": {},
     "output_type": "display_data"
    }
   ],
   "source": [
    "#Training the data\n",
    "\n",
    "set.seed(2023)\n",
    "\n",
    "divorce_split <- initial_split(final_dataset, prop = 0.75, strata = Divorce)   \n",
    " divorce_train <- training(divorce_split)    \n",
    " divorce_test <- testing(divorce_split) \n",
    " head(divorce_train)\n",
    " head(divorce_test)"
   ]
  },
  {
   "cell_type": "markdown",
   "id": "51999352-3729-43f5-8db6-7073b1d6939c",
   "metadata": {
    "tags": []
   },
   "source": [
    "**Exploratory Data Analysis Using Training Data**"
   ]
  },
  {
   "cell_type": "markdown",
   "id": "19af2407-a7be-4d4a-8010-b21998a7ce44",
   "metadata": {},
   "source": [
    "**Step 6** - The training data is summarized into a table that shows the mean of the 4 variables separated into class(1 meaning divorced and 0 meaning married). "
   ]
  },
  {
   "cell_type": "code",
   "execution_count": 10,
   "id": "2bb89302-7111-4ce0-813c-cd7ab195e571",
   "metadata": {},
   "outputs": [
    {
     "data": {
      "text/html": [
       "<table class=\"dataframe\">\n",
       "<caption>A tibble: 2 × 5</caption>\n",
       "<thead>\n",
       "\t<tr><th scope=col>Divorce</th><th scope=col>Criticism</th><th scope=col>Contempt</th><th scope=col>Defensiveness</th><th scope=col>Stonewalling</th></tr>\n",
       "\t<tr><th scope=col>&lt;fct&gt;</th><th scope=col>&lt;dbl&gt;</th><th scope=col>&lt;dbl&gt;</th><th scope=col>&lt;dbl&gt;</th><th scope=col>&lt;dbl&gt;</th></tr>\n",
       "</thead>\n",
       "<tbody>\n",
       "\t<tr><td>0</td><td>0.609375</td><td>0.9296875</td><td>1.375000</td><td>1.364583</td></tr>\n",
       "\t<tr><td>1</td><td>3.321995</td><td>3.3809524</td><td>3.439153</td><td>3.351852</td></tr>\n",
       "</tbody>\n",
       "</table>\n"
      ],
      "text/latex": [
       "A tibble: 2 × 5\n",
       "\\begin{tabular}{lllll}\n",
       " Divorce & Criticism & Contempt & Defensiveness & Stonewalling\\\\\n",
       " <fct> & <dbl> & <dbl> & <dbl> & <dbl>\\\\\n",
       "\\hline\n",
       "\t 0 & 0.609375 & 0.9296875 & 1.375000 & 1.364583\\\\\n",
       "\t 1 & 3.321995 & 3.3809524 & 3.439153 & 3.351852\\\\\n",
       "\\end{tabular}\n"
      ],
      "text/markdown": [
       "\n",
       "A tibble: 2 × 5\n",
       "\n",
       "| Divorce &lt;fct&gt; | Criticism &lt;dbl&gt; | Contempt &lt;dbl&gt; | Defensiveness &lt;dbl&gt; | Stonewalling &lt;dbl&gt; |\n",
       "|---|---|---|---|---|\n",
       "| 0 | 0.609375 | 0.9296875 | 1.375000 | 1.364583 |\n",
       "| 1 | 3.321995 | 3.3809524 | 3.439153 | 3.351852 |\n",
       "\n"
      ],
      "text/plain": [
       "  Divorce Criticism Contempt  Defensiveness Stonewalling\n",
       "1 0       0.609375  0.9296875 1.375000      1.364583    \n",
       "2 1       3.321995  3.3809524 3.439153      3.351852    "
      ]
     },
     "metadata": {},
     "output_type": "display_data"
    }
   ],
   "source": [
    "summary_divorce <- divorce_train |>\n",
    "    group_by(Divorce) |>\n",
    "    summarise(across(c(\"Criticism\", \"Contempt\", \"Defensiveness\", \"Stonewalling\"), ~mean(.x, na.rm = TRUE)))\n",
    "summary_divorce"
   ]
  },
  {
   "cell_type": "markdown",
   "id": "fa108ab3-d65c-47f2-b24d-6a3c57157809",
   "metadata": {},
   "source": [
    "**Visualization Using Training Data**"
   ]
  },
  {
   "cell_type": "markdown",
   "id": "b504bcf4-fed2-41d0-b653-99550e84d657",
   "metadata": {},
   "source": [
    "**Step 7** - A pivot table is created from the summarized data to group the 4 predictors under a column and corresponding average scores under another to aid in data visualization in Step 8"
   ]
  },
  {
   "cell_type": "code",
   "execution_count": 40,
   "id": "01ddc3ba-4f93-4f4f-ab62-5793996e8723",
   "metadata": {},
   "outputs": [
    {
     "data": {
      "text/html": [
       "<table class=\"dataframe\">\n",
       "<caption>A tibble: 8 × 3</caption>\n",
       "<thead>\n",
       "\t<tr><th scope=col>Divorce</th><th scope=col>Predictor</th><th scope=col>Score</th></tr>\n",
       "\t<tr><th scope=col>&lt;fct&gt;</th><th scope=col>&lt;chr&gt;</th><th scope=col>&lt;dbl&gt;</th></tr>\n",
       "</thead>\n",
       "<tbody>\n",
       "\t<tr><td>0</td><td>Criticism    </td><td>0.6093750</td></tr>\n",
       "\t<tr><td>0</td><td>Contempt     </td><td>0.9296875</td></tr>\n",
       "\t<tr><td>0</td><td>Defensiveness</td><td>1.3750000</td></tr>\n",
       "\t<tr><td>0</td><td>Stonewalling </td><td>1.3645833</td></tr>\n",
       "\t<tr><td>1</td><td>Criticism    </td><td>3.3219955</td></tr>\n",
       "\t<tr><td>1</td><td>Contempt     </td><td>3.3809524</td></tr>\n",
       "\t<tr><td>1</td><td>Defensiveness</td><td>3.4391534</td></tr>\n",
       "\t<tr><td>1</td><td>Stonewalling </td><td>3.3518519</td></tr>\n",
       "</tbody>\n",
       "</table>\n"
      ],
      "text/latex": [
       "A tibble: 8 × 3\n",
       "\\begin{tabular}{lll}\n",
       " Divorce & Predictor & Score\\\\\n",
       " <fct> & <chr> & <dbl>\\\\\n",
       "\\hline\n",
       "\t 0 & Criticism     & 0.6093750\\\\\n",
       "\t 0 & Contempt      & 0.9296875\\\\\n",
       "\t 0 & Defensiveness & 1.3750000\\\\\n",
       "\t 0 & Stonewalling  & 1.3645833\\\\\n",
       "\t 1 & Criticism     & 3.3219955\\\\\n",
       "\t 1 & Contempt      & 3.3809524\\\\\n",
       "\t 1 & Defensiveness & 3.4391534\\\\\n",
       "\t 1 & Stonewalling  & 3.3518519\\\\\n",
       "\\end{tabular}\n"
      ],
      "text/markdown": [
       "\n",
       "A tibble: 8 × 3\n",
       "\n",
       "| Divorce &lt;fct&gt; | Predictor &lt;chr&gt; | Score &lt;dbl&gt; |\n",
       "|---|---|---|\n",
       "| 0 | Criticism     | 0.6093750 |\n",
       "| 0 | Contempt      | 0.9296875 |\n",
       "| 0 | Defensiveness | 1.3750000 |\n",
       "| 0 | Stonewalling  | 1.3645833 |\n",
       "| 1 | Criticism     | 3.3219955 |\n",
       "| 1 | Contempt      | 3.3809524 |\n",
       "| 1 | Defensiveness | 3.4391534 |\n",
       "| 1 | Stonewalling  | 3.3518519 |\n",
       "\n"
      ],
      "text/plain": [
       "  Divorce Predictor     Score    \n",
       "1 0       Criticism     0.6093750\n",
       "2 0       Contempt      0.9296875\n",
       "3 0       Defensiveness 1.3750000\n",
       "4 0       Stonewalling  1.3645833\n",
       "5 1       Criticism     3.3219955\n",
       "6 1       Contempt      3.3809524\n",
       "7 1       Defensiveness 3.4391534\n",
       "8 1       Stonewalling  3.3518519"
      ]
     },
     "metadata": {},
     "output_type": "display_data"
    }
   ],
   "source": [
    "divorce_train_longer <- summary_divorce |>\n",
    "                  pivot_longer(cols = -Divorce, names_to = \"Predictor\", values_to = \"Score\")\n",
    "divorce_train_longer\n",
    "               "
   ]
  },
  {
   "cell_type": "markdown",
   "id": "ca2638fb-0d7c-44f4-ac10-714fb6b4dcb9",
   "metadata": {},
   "source": [
    "**Step 8** - The training data can be visualized using a bar graph that compares distributions of the scores from each variable (the four predictors of divorce) and state of marriage (eg. divorce or married)."
   ]
  },
  {
   "cell_type": "code",
   "execution_count": 41,
   "id": "dd094e66-347e-49e8-ae83-72a8b1e752a0",
   "metadata": {},
   "outputs": [
    {
     "data": {
      "image/png": "[encoded data removed]",
      "text/plain": [
       "plot without title"
      ]
     },
     "metadata": {
      "image/png": {
       "height": 300,
       "width": 900
      }
     },
     "output_type": "display_data"
    }
   ],
   "source": [
    "# load necessary package to create visuaization \n",
    "library (ggplot2)\n",
    "\n",
    "# Creating a bar graph showing average scores across the divorce predictors, grouped by marriage status\n",
    "divorce_train_plot <- ggplot(divorce_longer, aes(x = Divorce, y = Score, fill = Predictor)) +\n",
    "                        geom_bar(stat = \"identity\", position = \"dodge\", width = 0.6) +\n",
    "                        labs(x = \"Marriage Status (1 = Married, 0 = Divorced)\", y = \"Average Score\", fill = \"Predictor\") +\n",
    "                        ggtitle(\"Average Scores for Divorce Predictors by Marriage Status\")+\n",
    "                        theme(text = element_text(size=17))\n",
    "divorce_train_plot\n",
    "\n",
    "                        \n"
   ]
  },
  {
   "cell_type": "code",
   "execution_count": null,
   "id": "7c7ac191-bbe2-4c4a-8e2f-349b7ca4ab0e",
   "metadata": {},
   "outputs": [],
   "source": []
  }
 ],
 "metadata": {
  "kernelspec": {
   "display_name": "R",
   "language": "R",
   "name": "ir"
  },
  "language_info": {
   "codemirror_mode": "r",
   "file_extension": ".r",
   "mimetype": "text/x-r-source",
   "name": "R",
   "pygments_lexer": "r",
   "version": "4.1.3"
  }
 },
 "nbformat": 4,
 "nbformat_minor": 5
}
