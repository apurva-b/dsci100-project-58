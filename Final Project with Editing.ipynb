{
 "cells": [
  {
   "cell_type": "code",
   "execution_count": 12,
   "id": "ab689022-73be-4d40-971d-3ea5131e77f9",
   "metadata": {
    "tags": []
   },
   "outputs": [],
   "source": [
    "library(dplyr)\n",
    "library(tidyverse)\n",
    "library(repr)\n",
    "library(tidymodels)\n",
    "library(rsample)\n",
    "library(tibble)\n",
    "library(rsample)"
   ]
  },
  {
   "cell_type": "markdown",
   "id": "b8763cf1-ea65-49c5-9c0f-45e7ddbabc0a",
   "metadata": {
    "tags": []
   },
   "source": [
    "# Are We Going to Last?\n",
    "## Predicting Divorce Rates Based on Self Reported Levels of Negative Communication Patterns"
   ]
  },
  {
   "cell_type": "markdown",
   "id": "43cb7486-7c77-4566-9e16-478ece12cc3b",
   "metadata": {},
   "source": [
    "#### **Introduction**\n",
    "Every newlywed couple has asked themselves at least once: are we going to last? We use the Divorce Prediction Dataset to see how well we can predict whether a couple will get divorced. The dataset contains responses from 150 couples from Turkey on 54 questions about their relationship. The responses are on a  5 point scale (0=Never, 1=Seldom, 2=Averagely, 3=Frequently, 4=Always). John Gottman is a renowned psychologist who is widely recognized for his work in maritial relationships. His research highlights four major predictors of divorce which he refers to as \"Four Horsemen of the Apocalypse\" - critcism, contempt, defensiveness and stonewalling. Our team has selected questions from the Divorce Prediction Dataset that meet the criteria of these negative communication patterns. Our goals is to find out how well we can predict whether or not a couple will get divorced based on their score across these four negative communication patterns. Our research findings could inform the field of marital counselling and also highlight the negative impact of bad communication patterns on the success of relationships. It also could potentially give new couples the information they need to target their weaker areas in their relationship allowing them to properly tackle issues and arguments that may arise in their marriage, in turn helping lower their chances of divorce. "
   ]
  },
  {
   "cell_type": "markdown",
   "id": "48ce9d1e-3fe1-48d9-bc2e-b5a2e18559ac",
   "metadata": {},
   "source": [
    "#### **Reading, Selecting and Mutating Data**\n",
    "\n",
    "After reading in the data, we have selected the column called \"Divorce\" which a dummy variable that takes the value 1 for divorce and 0 for married. We have also selected the questions that are relevant to fall in one of four categories- criticism, contempt, defensiveness or stonewalling. We use the following definitions for the variables as described by John Gottman-\n",
    "1. Criticism - attacking your partner’s character instead of voicing a complaint. \n",
    "2. Contempty- assuming a position of moral superiority while criticising. \n",
    "3. Defensiveness- not taking your partner’s concerns seriously and not taking responsibility for your mistakes.\n",
    "4. Stonewalling- withdrawing from the interaction, shutting down, and not responding to your partner.\n",
    "\n",
    "\n",
    "\n",
    "Since, there are more than one question corresponding to each communication style, we took the average of the scores. \n",
    "\n",
    "Finally, we converted the variable \"Divorce\" into a factor type, indicating that it represents a categorical variable with specific categories rather than a continuous or numerical variable."
   ]
  },
  {
   "cell_type": "code",
   "execution_count": 13,
   "id": "f89b5e01-b711-418a-8a17-fe72516420fd",
   "metadata": {
    "tags": []
   },
   "outputs": [
    {
     "name": "stderr",
     "output_type": "stream",
     "text": [
      "\u001b[1mRows: \u001b[22m\u001b[34m170\u001b[39m \u001b[1mColumns: \u001b[22m\u001b[34m55\u001b[39m\n",
      "\u001b[36m──\u001b[39m \u001b[1mColumn specification\u001b[22m \u001b[36m────────────────────────────────────────────────────────\u001b[39m\n",
      "\u001b[1mDelimiter:\u001b[22m \";\"\n",
      "\u001b[32mdbl\u001b[39m (55): Q1, Q2, Q3, Q4, Q5, Q6, Q7, Q8, Q9, Q10, Q11, Q12, Q13, Q14, Q15, ...\n",
      "\n",
      "\u001b[36mℹ\u001b[39m Use `spec()` to retrieve the full column specification for this data.\n",
      "\u001b[36mℹ\u001b[39m Specify the column types or set `show_col_types = FALSE` to quiet this message.\n"
     ]
    },
    {
     "data": {
      "text/html": [
       "<table class=\"dataframe\">\n",
       "<caption>A tibble: 6 × 55</caption>\n",
       "<thead>\n",
       "\t<tr><th scope=col>Q1</th><th scope=col>Q2</th><th scope=col>Q3</th><th scope=col>Q4</th><th scope=col>Q5</th><th scope=col>Q6</th><th scope=col>Q7</th><th scope=col>Q8</th><th scope=col>Q9</th><th scope=col>Q10</th><th scope=col>⋯</th><th scope=col>Q46</th><th scope=col>Q47</th><th scope=col>Q48</th><th scope=col>Q49</th><th scope=col>Q50</th><th scope=col>Q51</th><th scope=col>Q52</th><th scope=col>Q53</th><th scope=col>Q54</th><th scope=col>Divorce</th></tr>\n",
       "\t<tr><th scope=col>&lt;dbl&gt;</th><th scope=col>&lt;dbl&gt;</th><th scope=col>&lt;dbl&gt;</th><th scope=col>&lt;dbl&gt;</th><th scope=col>&lt;dbl&gt;</th><th scope=col>&lt;dbl&gt;</th><th scope=col>&lt;dbl&gt;</th><th scope=col>&lt;dbl&gt;</th><th scope=col>&lt;dbl&gt;</th><th scope=col>&lt;dbl&gt;</th><th scope=col>⋯</th><th scope=col>&lt;dbl&gt;</th><th scope=col>&lt;dbl&gt;</th><th scope=col>&lt;dbl&gt;</th><th scope=col>&lt;dbl&gt;</th><th scope=col>&lt;dbl&gt;</th><th scope=col>&lt;dbl&gt;</th><th scope=col>&lt;dbl&gt;</th><th scope=col>&lt;dbl&gt;</th><th scope=col>&lt;dbl&gt;</th><th scope=col>&lt;dbl&gt;</th></tr>\n",
       "</thead>\n",
       "<tbody>\n",
       "\t<tr><td>2</td><td>2</td><td>4</td><td>1</td><td>0</td><td>0</td><td>0</td><td>0</td><td>0</td><td>0</td><td>⋯</td><td>2</td><td>1</td><td>3</td><td>3</td><td>3</td><td>2</td><td>3</td><td>2</td><td>1</td><td>1</td></tr>\n",
       "\t<tr><td>4</td><td>4</td><td>4</td><td>4</td><td>4</td><td>0</td><td>0</td><td>4</td><td>4</td><td>4</td><td>⋯</td><td>2</td><td>2</td><td>3</td><td>4</td><td>4</td><td>4</td><td>4</td><td>2</td><td>2</td><td>1</td></tr>\n",
       "\t<tr><td>2</td><td>2</td><td>2</td><td>2</td><td>1</td><td>3</td><td>2</td><td>1</td><td>1</td><td>2</td><td>⋯</td><td>3</td><td>2</td><td>3</td><td>1</td><td>1</td><td>1</td><td>2</td><td>2</td><td>2</td><td>1</td></tr>\n",
       "\t<tr><td>3</td><td>2</td><td>3</td><td>2</td><td>3</td><td>3</td><td>3</td><td>3</td><td>3</td><td>3</td><td>⋯</td><td>2</td><td>2</td><td>3</td><td>3</td><td>3</td><td>3</td><td>2</td><td>2</td><td>2</td><td>1</td></tr>\n",
       "\t<tr><td>2</td><td>2</td><td>1</td><td>1</td><td>1</td><td>1</td><td>0</td><td>0</td><td>0</td><td>0</td><td>⋯</td><td>2</td><td>1</td><td>2</td><td>3</td><td>2</td><td>2</td><td>2</td><td>1</td><td>0</td><td>1</td></tr>\n",
       "\t<tr><td>0</td><td>0</td><td>1</td><td>0</td><td>0</td><td>2</td><td>0</td><td>0</td><td>0</td><td>1</td><td>⋯</td><td>2</td><td>2</td><td>1</td><td>2</td><td>1</td><td>1</td><td>1</td><td>2</td><td>0</td><td>1</td></tr>\n",
       "</tbody>\n",
       "</table>\n"
      ],
      "text/latex": [
       "A tibble: 6 × 55\n",
       "\\begin{tabular}{lllllllllllllllllllll}\n",
       " Q1 & Q2 & Q3 & Q4 & Q5 & Q6 & Q7 & Q8 & Q9 & Q10 & ⋯ & Q46 & Q47 & Q48 & Q49 & Q50 & Q51 & Q52 & Q53 & Q54 & Divorce\\\\\n",
       " <dbl> & <dbl> & <dbl> & <dbl> & <dbl> & <dbl> & <dbl> & <dbl> & <dbl> & <dbl> & ⋯ & <dbl> & <dbl> & <dbl> & <dbl> & <dbl> & <dbl> & <dbl> & <dbl> & <dbl> & <dbl>\\\\\n",
       "\\hline\n",
       "\t 2 & 2 & 4 & 1 & 0 & 0 & 0 & 0 & 0 & 0 & ⋯ & 2 & 1 & 3 & 3 & 3 & 2 & 3 & 2 & 1 & 1\\\\\n",
       "\t 4 & 4 & 4 & 4 & 4 & 0 & 0 & 4 & 4 & 4 & ⋯ & 2 & 2 & 3 & 4 & 4 & 4 & 4 & 2 & 2 & 1\\\\\n",
       "\t 2 & 2 & 2 & 2 & 1 & 3 & 2 & 1 & 1 & 2 & ⋯ & 3 & 2 & 3 & 1 & 1 & 1 & 2 & 2 & 2 & 1\\\\\n",
       "\t 3 & 2 & 3 & 2 & 3 & 3 & 3 & 3 & 3 & 3 & ⋯ & 2 & 2 & 3 & 3 & 3 & 3 & 2 & 2 & 2 & 1\\\\\n",
       "\t 2 & 2 & 1 & 1 & 1 & 1 & 0 & 0 & 0 & 0 & ⋯ & 2 & 1 & 2 & 3 & 2 & 2 & 2 & 1 & 0 & 1\\\\\n",
       "\t 0 & 0 & 1 & 0 & 0 & 2 & 0 & 0 & 0 & 1 & ⋯ & 2 & 2 & 1 & 2 & 1 & 1 & 1 & 2 & 0 & 1\\\\\n",
       "\\end{tabular}\n"
      ],
      "text/markdown": [
       "\n",
       "A tibble: 6 × 55\n",
       "\n",
       "| Q1 &lt;dbl&gt; | Q2 &lt;dbl&gt; | Q3 &lt;dbl&gt; | Q4 &lt;dbl&gt; | Q5 &lt;dbl&gt; | Q6 &lt;dbl&gt; | Q7 &lt;dbl&gt; | Q8 &lt;dbl&gt; | Q9 &lt;dbl&gt; | Q10 &lt;dbl&gt; | ⋯ ⋯ | Q46 &lt;dbl&gt; | Q47 &lt;dbl&gt; | Q48 &lt;dbl&gt; | Q49 &lt;dbl&gt; | Q50 &lt;dbl&gt; | Q51 &lt;dbl&gt; | Q52 &lt;dbl&gt; | Q53 &lt;dbl&gt; | Q54 &lt;dbl&gt; | Divorce &lt;dbl&gt; |\n",
       "|---|---|---|---|---|---|---|---|---|---|---|---|---|---|---|---|---|---|---|---|---|\n",
       "| 2 | 2 | 4 | 1 | 0 | 0 | 0 | 0 | 0 | 0 | ⋯ | 2 | 1 | 3 | 3 | 3 | 2 | 3 | 2 | 1 | 1 |\n",
       "| 4 | 4 | 4 | 4 | 4 | 0 | 0 | 4 | 4 | 4 | ⋯ | 2 | 2 | 3 | 4 | 4 | 4 | 4 | 2 | 2 | 1 |\n",
       "| 2 | 2 | 2 | 2 | 1 | 3 | 2 | 1 | 1 | 2 | ⋯ | 3 | 2 | 3 | 1 | 1 | 1 | 2 | 2 | 2 | 1 |\n",
       "| 3 | 2 | 3 | 2 | 3 | 3 | 3 | 3 | 3 | 3 | ⋯ | 2 | 2 | 3 | 3 | 3 | 3 | 2 | 2 | 2 | 1 |\n",
       "| 2 | 2 | 1 | 1 | 1 | 1 | 0 | 0 | 0 | 0 | ⋯ | 2 | 1 | 2 | 3 | 2 | 2 | 2 | 1 | 0 | 1 |\n",
       "| 0 | 0 | 1 | 0 | 0 | 2 | 0 | 0 | 0 | 1 | ⋯ | 2 | 2 | 1 | 2 | 1 | 1 | 1 | 2 | 0 | 1 |\n",
       "\n"
      ],
      "text/plain": [
       "  Q1 Q2 Q3 Q4 Q5 Q6 Q7 Q8 Q9 Q10 ⋯ Q46 Q47 Q48 Q49 Q50 Q51 Q52 Q53 Q54 Divorce\n",
       "1 2  2  4  1  0  0  0  0  0  0   ⋯ 2   1   3   3   3   2   3   2   1   1      \n",
       "2 4  4  4  4  4  0  0  4  4  4   ⋯ 2   2   3   4   4   4   4   2   2   1      \n",
       "3 2  2  2  2  1  3  2  1  1  2   ⋯ 3   2   3   1   1   1   2   2   2   1      \n",
       "4 3  2  3  2  3  3  3  3  3  3   ⋯ 2   2   3   3   3   3   2   2   2   1      \n",
       "5 2  2  1  1  1  1  0  0  0  0   ⋯ 2   1   2   3   2   2   2   1   0   1      \n",
       "6 0  0  1  0  0  2  0  0  0  1   ⋯ 2   2   1   2   1   1   1   2   0   1      "
      ]
     },
     "metadata": {},
     "output_type": "display_data"
    }
   ],
   "source": [
    "#Reading data \n",
    "my_url <- \"https://raw.githubusercontent.com/apurva-b/dsci100-project-58/main/divorce_data.csv\"\n",
    "data <- read_delim(my_url, delim = \";\")\n",
    "head(data)"
   ]
  },
  {
   "cell_type": "code",
   "execution_count": 14,
   "id": "d0a6722e-d2cc-4889-9164-026fc8163013",
   "metadata": {},
   "outputs": [
    {
     "data": {
      "text/html": [
       "<table class=\"dataframe\">\n",
       "<caption>A tibble: 6 × 23</caption>\n",
       "<thead>\n",
       "\t<tr><th scope=col>Divorce</th><th scope=col>Q32</th><th scope=col>Q33</th><th scope=col>Q34</th><th scope=col>Q35</th><th scope=col>Q36</th><th scope=col>Q37</th><th scope=col>Q52</th><th scope=col>Q31</th><th scope=col>Q38</th><th scope=col>⋯</th><th scope=col>Q54</th><th scope=col>Q49</th><th scope=col>Q50</th><th scope=col>Q51</th><th scope=col>Q42</th><th scope=col>Q43</th><th scope=col>Q44</th><th scope=col>Q45</th><th scope=col>Q46</th><th scope=col>Q47</th></tr>\n",
       "\t<tr><th scope=col>&lt;dbl&gt;</th><th scope=col>&lt;dbl&gt;</th><th scope=col>&lt;dbl&gt;</th><th scope=col>&lt;dbl&gt;</th><th scope=col>&lt;dbl&gt;</th><th scope=col>&lt;dbl&gt;</th><th scope=col>&lt;dbl&gt;</th><th scope=col>&lt;dbl&gt;</th><th scope=col>&lt;dbl&gt;</th><th scope=col>&lt;dbl&gt;</th><th scope=col>⋯</th><th scope=col>&lt;dbl&gt;</th><th scope=col>&lt;dbl&gt;</th><th scope=col>&lt;dbl&gt;</th><th scope=col>&lt;dbl&gt;</th><th scope=col>&lt;dbl&gt;</th><th scope=col>&lt;dbl&gt;</th><th scope=col>&lt;dbl&gt;</th><th scope=col>&lt;dbl&gt;</th><th scope=col>&lt;dbl&gt;</th><th scope=col>&lt;dbl&gt;</th></tr>\n",
       "</thead>\n",
       "<tbody>\n",
       "\t<tr><td>1</td><td>2</td><td>1</td><td>2</td><td>0</td><td>1</td><td>2</td><td>3</td><td>1</td><td>1</td><td>⋯</td><td>1</td><td>3</td><td>3</td><td>2</td><td>1</td><td>1</td><td>2</td><td>3</td><td>2</td><td>1</td></tr>\n",
       "\t<tr><td>1</td><td>4</td><td>2</td><td>3</td><td>0</td><td>2</td><td>3</td><td>4</td><td>0</td><td>4</td><td>⋯</td><td>2</td><td>4</td><td>4</td><td>4</td><td>2</td><td>3</td><td>4</td><td>2</td><td>2</td><td>2</td></tr>\n",
       "\t<tr><td>1</td><td>3</td><td>1</td><td>1</td><td>1</td><td>1</td><td>2</td><td>2</td><td>3</td><td>1</td><td>⋯</td><td>2</td><td>1</td><td>1</td><td>1</td><td>3</td><td>2</td><td>3</td><td>2</td><td>3</td><td>2</td></tr>\n",
       "\t<tr><td>1</td><td>3</td><td>2</td><td>2</td><td>1</td><td>1</td><td>3</td><td>2</td><td>2</td><td>3</td><td>⋯</td><td>2</td><td>3</td><td>3</td><td>3</td><td>2</td><td>3</td><td>2</td><td>3</td><td>2</td><td>2</td></tr>\n",
       "\t<tr><td>1</td><td>1</td><td>1</td><td>1</td><td>0</td><td>0</td><td>0</td><td>2</td><td>1</td><td>0</td><td>⋯</td><td>0</td><td>3</td><td>2</td><td>2</td><td>2</td><td>3</td><td>0</td><td>2</td><td>2</td><td>1</td></tr>\n",
       "\t<tr><td>1</td><td>1</td><td>1</td><td>1</td><td>1</td><td>1</td><td>1</td><td>1</td><td>4</td><td>2</td><td>⋯</td><td>0</td><td>2</td><td>1</td><td>1</td><td>1</td><td>2</td><td>3</td><td>0</td><td>2</td><td>2</td></tr>\n",
       "</tbody>\n",
       "</table>\n"
      ],
      "text/latex": [
       "A tibble: 6 × 23\n",
       "\\begin{tabular}{lllllllllllllllllllll}\n",
       " Divorce & Q32 & Q33 & Q34 & Q35 & Q36 & Q37 & Q52 & Q31 & Q38 & ⋯ & Q54 & Q49 & Q50 & Q51 & Q42 & Q43 & Q44 & Q45 & Q46 & Q47\\\\\n",
       " <dbl> & <dbl> & <dbl> & <dbl> & <dbl> & <dbl> & <dbl> & <dbl> & <dbl> & <dbl> & ⋯ & <dbl> & <dbl> & <dbl> & <dbl> & <dbl> & <dbl> & <dbl> & <dbl> & <dbl> & <dbl>\\\\\n",
       "\\hline\n",
       "\t 1 & 2 & 1 & 2 & 0 & 1 & 2 & 3 & 1 & 1 & ⋯ & 1 & 3 & 3 & 2 & 1 & 1 & 2 & 3 & 2 & 1\\\\\n",
       "\t 1 & 4 & 2 & 3 & 0 & 2 & 3 & 4 & 0 & 4 & ⋯ & 2 & 4 & 4 & 4 & 2 & 3 & 4 & 2 & 2 & 2\\\\\n",
       "\t 1 & 3 & 1 & 1 & 1 & 1 & 2 & 2 & 3 & 1 & ⋯ & 2 & 1 & 1 & 1 & 3 & 2 & 3 & 2 & 3 & 2\\\\\n",
       "\t 1 & 3 & 2 & 2 & 1 & 1 & 3 & 2 & 2 & 3 & ⋯ & 2 & 3 & 3 & 3 & 2 & 3 & 2 & 3 & 2 & 2\\\\\n",
       "\t 1 & 1 & 1 & 1 & 0 & 0 & 0 & 2 & 1 & 0 & ⋯ & 0 & 3 & 2 & 2 & 2 & 3 & 0 & 2 & 2 & 1\\\\\n",
       "\t 1 & 1 & 1 & 1 & 1 & 1 & 1 & 1 & 4 & 2 & ⋯ & 0 & 2 & 1 & 1 & 1 & 2 & 3 & 0 & 2 & 2\\\\\n",
       "\\end{tabular}\n"
      ],
      "text/markdown": [
       "\n",
       "A tibble: 6 × 23\n",
       "\n",
       "| Divorce &lt;dbl&gt; | Q32 &lt;dbl&gt; | Q33 &lt;dbl&gt; | Q34 &lt;dbl&gt; | Q35 &lt;dbl&gt; | Q36 &lt;dbl&gt; | Q37 &lt;dbl&gt; | Q52 &lt;dbl&gt; | Q31 &lt;dbl&gt; | Q38 &lt;dbl&gt; | ⋯ ⋯ | Q54 &lt;dbl&gt; | Q49 &lt;dbl&gt; | Q50 &lt;dbl&gt; | Q51 &lt;dbl&gt; | Q42 &lt;dbl&gt; | Q43 &lt;dbl&gt; | Q44 &lt;dbl&gt; | Q45 &lt;dbl&gt; | Q46 &lt;dbl&gt; | Q47 &lt;dbl&gt; |\n",
       "|---|---|---|---|---|---|---|---|---|---|---|---|---|---|---|---|---|---|---|---|---|\n",
       "| 1 | 2 | 1 | 2 | 0 | 1 | 2 | 3 | 1 | 1 | ⋯ | 1 | 3 | 3 | 2 | 1 | 1 | 2 | 3 | 2 | 1 |\n",
       "| 1 | 4 | 2 | 3 | 0 | 2 | 3 | 4 | 0 | 4 | ⋯ | 2 | 4 | 4 | 4 | 2 | 3 | 4 | 2 | 2 | 2 |\n",
       "| 1 | 3 | 1 | 1 | 1 | 1 | 2 | 2 | 3 | 1 | ⋯ | 2 | 1 | 1 | 1 | 3 | 2 | 3 | 2 | 3 | 2 |\n",
       "| 1 | 3 | 2 | 2 | 1 | 1 | 3 | 2 | 2 | 3 | ⋯ | 2 | 3 | 3 | 3 | 2 | 3 | 2 | 3 | 2 | 2 |\n",
       "| 1 | 1 | 1 | 1 | 0 | 0 | 0 | 2 | 1 | 0 | ⋯ | 0 | 3 | 2 | 2 | 2 | 3 | 0 | 2 | 2 | 1 |\n",
       "| 1 | 1 | 1 | 1 | 1 | 1 | 1 | 1 | 4 | 2 | ⋯ | 0 | 2 | 1 | 1 | 1 | 2 | 3 | 0 | 2 | 2 |\n",
       "\n"
      ],
      "text/plain": [
       "  Divorce Q32 Q33 Q34 Q35 Q36 Q37 Q52 Q31 Q38 ⋯ Q54 Q49 Q50 Q51 Q42 Q43 Q44 Q45\n",
       "1 1       2   1   2   0   1   2   3   1   1   ⋯ 1   3   3   2   1   1   2   3  \n",
       "2 1       4   2   3   0   2   3   4   0   4   ⋯ 2   4   4   4   2   3   4   2  \n",
       "3 1       3   1   1   1   1   2   2   3   1   ⋯ 2   1   1   1   3   2   3   2  \n",
       "4 1       3   2   2   1   1   3   2   2   3   ⋯ 2   3   3   3   2   3   2   3  \n",
       "5 1       1   1   1   0   0   0   2   1   0   ⋯ 0   3   2   2   2   3   0   2  \n",
       "6 1       1   1   1   1   1   1   1   4   2   ⋯ 0   2   1   1   1   2   3   0  \n",
       "  Q46 Q47\n",
       "1 2   1  \n",
       "2 2   2  \n",
       "3 3   2  \n",
       "4 2   2  \n",
       "5 2   1  \n",
       "6 2   2  "
      ]
     },
     "metadata": {},
     "output_type": "display_data"
    }
   ],
   "source": [
    "#Selecting the relevant columns\n",
    "selected_data <- select(data, Divorce, Q32:Q37, Q52, Q31, Q38, Q41, Q48, Q53, Q54, Q49, Q50, Q51, Q42:Q47 )\n",
    "head(selected_data)"
   ]
  },
  {
   "cell_type": "code",
   "execution_count": 15,
   "id": "0eed24c7-992d-49a1-ae87-babbbcb04f54",
   "metadata": {},
   "outputs": [
    {
     "data": {
      "text/html": [
       "<table class=\"dataframe\">\n",
       "<caption>A tibble: 6 × 27</caption>\n",
       "<thead>\n",
       "\t<tr><th scope=col>Divorce</th><th scope=col>Q32</th><th scope=col>Q33</th><th scope=col>Q34</th><th scope=col>Q35</th><th scope=col>Q36</th><th scope=col>Q37</th><th scope=col>Q52</th><th scope=col>Q31</th><th scope=col>Q38</th><th scope=col>⋯</th><th scope=col>Q42</th><th scope=col>Q43</th><th scope=col>Q44</th><th scope=col>Q45</th><th scope=col>Q46</th><th scope=col>Q47</th><th scope=col>Criticism</th><th scope=col>Contempt</th><th scope=col>Defensiveness</th><th scope=col>Stonewalling</th></tr>\n",
       "\t<tr><th scope=col>&lt;dbl&gt;</th><th scope=col>&lt;dbl&gt;</th><th scope=col>&lt;dbl&gt;</th><th scope=col>&lt;dbl&gt;</th><th scope=col>&lt;dbl&gt;</th><th scope=col>&lt;dbl&gt;</th><th scope=col>&lt;dbl&gt;</th><th scope=col>&lt;dbl&gt;</th><th scope=col>&lt;dbl&gt;</th><th scope=col>&lt;dbl&gt;</th><th scope=col>⋯</th><th scope=col>&lt;dbl&gt;</th><th scope=col>&lt;dbl&gt;</th><th scope=col>&lt;dbl&gt;</th><th scope=col>&lt;dbl&gt;</th><th scope=col>&lt;dbl&gt;</th><th scope=col>&lt;dbl&gt;</th><th scope=col>&lt;dbl&gt;</th><th scope=col>&lt;dbl&gt;</th><th scope=col>&lt;dbl&gt;</th><th scope=col>&lt;dbl&gt;</th></tr>\n",
       "</thead>\n",
       "<tbody>\n",
       "\t<tr><td>1</td><td>2</td><td>1</td><td>2</td><td>0</td><td>1</td><td>2</td><td>3</td><td>1</td><td>1</td><td>⋯</td><td>1</td><td>1</td><td>2</td><td>3</td><td>2</td><td>1</td><td>1.5714286</td><td>1.6666667</td><td>2.666667</td><td>1.666667</td></tr>\n",
       "\t<tr><td>1</td><td>4</td><td>2</td><td>3</td><td>0</td><td>2</td><td>3</td><td>4</td><td>0</td><td>4</td><td>⋯</td><td>2</td><td>3</td><td>4</td><td>2</td><td>2</td><td>2</td><td>2.5714286</td><td>2.1666667</td><td>4.000000</td><td>2.500000</td></tr>\n",
       "\t<tr><td>1</td><td>3</td><td>1</td><td>1</td><td>1</td><td>1</td><td>2</td><td>2</td><td>3</td><td>1</td><td>⋯</td><td>3</td><td>2</td><td>3</td><td>2</td><td>3</td><td>2</td><td>1.5714286</td><td>2.3333333</td><td>1.000000</td><td>2.500000</td></tr>\n",
       "\t<tr><td>1</td><td>3</td><td>2</td><td>2</td><td>1</td><td>1</td><td>3</td><td>2</td><td>2</td><td>3</td><td>⋯</td><td>2</td><td>3</td><td>2</td><td>3</td><td>2</td><td>2</td><td>2.0000000</td><td>2.3333333</td><td>3.000000</td><td>2.333333</td></tr>\n",
       "\t<tr><td>1</td><td>1</td><td>1</td><td>1</td><td>0</td><td>0</td><td>0</td><td>2</td><td>1</td><td>0</td><td>⋯</td><td>2</td><td>3</td><td>0</td><td>2</td><td>2</td><td>1</td><td>0.7142857</td><td>0.6666667</td><td>2.333333</td><td>1.666667</td></tr>\n",
       "\t<tr><td>1</td><td>1</td><td>1</td><td>1</td><td>1</td><td>1</td><td>1</td><td>1</td><td>4</td><td>2</td><td>⋯</td><td>1</td><td>2</td><td>3</td><td>0</td><td>2</td><td>2</td><td>1.0000000</td><td>1.8333333</td><td>1.333333</td><td>1.666667</td></tr>\n",
       "</tbody>\n",
       "</table>\n"
      ],
      "text/latex": [
       "A tibble: 6 × 27\n",
       "\\begin{tabular}{lllllllllllllllllllll}\n",
       " Divorce & Q32 & Q33 & Q34 & Q35 & Q36 & Q37 & Q52 & Q31 & Q38 & ⋯ & Q42 & Q43 & Q44 & Q45 & Q46 & Q47 & Criticism & Contempt & Defensiveness & Stonewalling\\\\\n",
       " <dbl> & <dbl> & <dbl> & <dbl> & <dbl> & <dbl> & <dbl> & <dbl> & <dbl> & <dbl> & ⋯ & <dbl> & <dbl> & <dbl> & <dbl> & <dbl> & <dbl> & <dbl> & <dbl> & <dbl> & <dbl>\\\\\n",
       "\\hline\n",
       "\t 1 & 2 & 1 & 2 & 0 & 1 & 2 & 3 & 1 & 1 & ⋯ & 1 & 1 & 2 & 3 & 2 & 1 & 1.5714286 & 1.6666667 & 2.666667 & 1.666667\\\\\n",
       "\t 1 & 4 & 2 & 3 & 0 & 2 & 3 & 4 & 0 & 4 & ⋯ & 2 & 3 & 4 & 2 & 2 & 2 & 2.5714286 & 2.1666667 & 4.000000 & 2.500000\\\\\n",
       "\t 1 & 3 & 1 & 1 & 1 & 1 & 2 & 2 & 3 & 1 & ⋯ & 3 & 2 & 3 & 2 & 3 & 2 & 1.5714286 & 2.3333333 & 1.000000 & 2.500000\\\\\n",
       "\t 1 & 3 & 2 & 2 & 1 & 1 & 3 & 2 & 2 & 3 & ⋯ & 2 & 3 & 2 & 3 & 2 & 2 & 2.0000000 & 2.3333333 & 3.000000 & 2.333333\\\\\n",
       "\t 1 & 1 & 1 & 1 & 0 & 0 & 0 & 2 & 1 & 0 & ⋯ & 2 & 3 & 0 & 2 & 2 & 1 & 0.7142857 & 0.6666667 & 2.333333 & 1.666667\\\\\n",
       "\t 1 & 1 & 1 & 1 & 1 & 1 & 1 & 1 & 4 & 2 & ⋯ & 1 & 2 & 3 & 0 & 2 & 2 & 1.0000000 & 1.8333333 & 1.333333 & 1.666667\\\\\n",
       "\\end{tabular}\n"
      ],
      "text/markdown": [
       "\n",
       "A tibble: 6 × 27\n",
       "\n",
       "| Divorce &lt;dbl&gt; | Q32 &lt;dbl&gt; | Q33 &lt;dbl&gt; | Q34 &lt;dbl&gt; | Q35 &lt;dbl&gt; | Q36 &lt;dbl&gt; | Q37 &lt;dbl&gt; | Q52 &lt;dbl&gt; | Q31 &lt;dbl&gt; | Q38 &lt;dbl&gt; | ⋯ ⋯ | Q42 &lt;dbl&gt; | Q43 &lt;dbl&gt; | Q44 &lt;dbl&gt; | Q45 &lt;dbl&gt; | Q46 &lt;dbl&gt; | Q47 &lt;dbl&gt; | Criticism &lt;dbl&gt; | Contempt &lt;dbl&gt; | Defensiveness &lt;dbl&gt; | Stonewalling &lt;dbl&gt; |\n",
       "|---|---|---|---|---|---|---|---|---|---|---|---|---|---|---|---|---|---|---|---|---|\n",
       "| 1 | 2 | 1 | 2 | 0 | 1 | 2 | 3 | 1 | 1 | ⋯ | 1 | 1 | 2 | 3 | 2 | 1 | 1.5714286 | 1.6666667 | 2.666667 | 1.666667 |\n",
       "| 1 | 4 | 2 | 3 | 0 | 2 | 3 | 4 | 0 | 4 | ⋯ | 2 | 3 | 4 | 2 | 2 | 2 | 2.5714286 | 2.1666667 | 4.000000 | 2.500000 |\n",
       "| 1 | 3 | 1 | 1 | 1 | 1 | 2 | 2 | 3 | 1 | ⋯ | 3 | 2 | 3 | 2 | 3 | 2 | 1.5714286 | 2.3333333 | 1.000000 | 2.500000 |\n",
       "| 1 | 3 | 2 | 2 | 1 | 1 | 3 | 2 | 2 | 3 | ⋯ | 2 | 3 | 2 | 3 | 2 | 2 | 2.0000000 | 2.3333333 | 3.000000 | 2.333333 |\n",
       "| 1 | 1 | 1 | 1 | 0 | 0 | 0 | 2 | 1 | 0 | ⋯ | 2 | 3 | 0 | 2 | 2 | 1 | 0.7142857 | 0.6666667 | 2.333333 | 1.666667 |\n",
       "| 1 | 1 | 1 | 1 | 1 | 1 | 1 | 1 | 4 | 2 | ⋯ | 1 | 2 | 3 | 0 | 2 | 2 | 1.0000000 | 1.8333333 | 1.333333 | 1.666667 |\n",
       "\n"
      ],
      "text/plain": [
       "  Divorce Q32 Q33 Q34 Q35 Q36 Q37 Q52 Q31 Q38 ⋯ Q42 Q43 Q44 Q45 Q46 Q47\n",
       "1 1       2   1   2   0   1   2   3   1   1   ⋯ 1   1   2   3   2   1  \n",
       "2 1       4   2   3   0   2   3   4   0   4   ⋯ 2   3   4   2   2   2  \n",
       "3 1       3   1   1   1   1   2   2   3   1   ⋯ 3   2   3   2   3   2  \n",
       "4 1       3   2   2   1   1   3   2   2   3   ⋯ 2   3   2   3   2   2  \n",
       "5 1       1   1   1   0   0   0   2   1   0   ⋯ 2   3   0   2   2   1  \n",
       "6 1       1   1   1   1   1   1   1   4   2   ⋯ 1   2   3   0   2   2  \n",
       "  Criticism Contempt  Defensiveness Stonewalling\n",
       "1 1.5714286 1.6666667 2.666667      1.666667    \n",
       "2 2.5714286 2.1666667 4.000000      2.500000    \n",
       "3 1.5714286 2.3333333 1.000000      2.500000    \n",
       "4 2.0000000 2.3333333 3.000000      2.333333    \n",
       "5 0.7142857 0.6666667 2.333333      1.666667    \n",
       "6 1.0000000 1.8333333 1.333333      1.666667    "
      ]
     },
     "metadata": {},
     "output_type": "display_data"
    }
   ],
   "source": [
    "#Find the average scores. The scale is 0-4. \n",
    "mutated_data <- selected_data %>%\n",
    "mutate( \n",
    "    Criticism= rowMeans(across(2:8)), \n",
    "    Contempt= rowMeans(across(9:14)), \n",
    "    Defensiveness= rowMeans(across(15:17)), \n",
    "    Stonewalling = rowMeans(across(18:23)))\n",
    "head(mutated_data)"
   ]
  },
  {
   "cell_type": "code",
   "execution_count": 16,
   "id": "397cdf89-5f3c-4d69-8ace-609e71ec79bb",
   "metadata": {},
   "outputs": [
    {
     "data": {
      "text/html": [
       "<table class=\"dataframe\">\n",
       "<caption>A tibble: 6 × 5</caption>\n",
       "<thead>\n",
       "\t<tr><th scope=col>Divorce</th><th scope=col>Criticism</th><th scope=col>Contempt</th><th scope=col>Defensiveness</th><th scope=col>Stonewalling</th></tr>\n",
       "\t<tr><th scope=col>&lt;fct&gt;</th><th scope=col>&lt;dbl&gt;</th><th scope=col>&lt;dbl&gt;</th><th scope=col>&lt;dbl&gt;</th><th scope=col>&lt;dbl&gt;</th></tr>\n",
       "</thead>\n",
       "<tbody>\n",
       "\t<tr><td>1</td><td>1.5714286</td><td>1.6666667</td><td>2.666667</td><td>1.666667</td></tr>\n",
       "\t<tr><td>1</td><td>2.5714286</td><td>2.1666667</td><td>4.000000</td><td>2.500000</td></tr>\n",
       "\t<tr><td>1</td><td>1.5714286</td><td>2.3333333</td><td>1.000000</td><td>2.500000</td></tr>\n",
       "\t<tr><td>1</td><td>2.0000000</td><td>2.3333333</td><td>3.000000</td><td>2.333333</td></tr>\n",
       "\t<tr><td>1</td><td>0.7142857</td><td>0.6666667</td><td>2.333333</td><td>1.666667</td></tr>\n",
       "\t<tr><td>1</td><td>1.0000000</td><td>1.8333333</td><td>1.333333</td><td>1.666667</td></tr>\n",
       "</tbody>\n",
       "</table>\n"
      ],
      "text/latex": [
       "A tibble: 6 × 5\n",
       "\\begin{tabular}{lllll}\n",
       " Divorce & Criticism & Contempt & Defensiveness & Stonewalling\\\\\n",
       " <fct> & <dbl> & <dbl> & <dbl> & <dbl>\\\\\n",
       "\\hline\n",
       "\t 1 & 1.5714286 & 1.6666667 & 2.666667 & 1.666667\\\\\n",
       "\t 1 & 2.5714286 & 2.1666667 & 4.000000 & 2.500000\\\\\n",
       "\t 1 & 1.5714286 & 2.3333333 & 1.000000 & 2.500000\\\\\n",
       "\t 1 & 2.0000000 & 2.3333333 & 3.000000 & 2.333333\\\\\n",
       "\t 1 & 0.7142857 & 0.6666667 & 2.333333 & 1.666667\\\\\n",
       "\t 1 & 1.0000000 & 1.8333333 & 1.333333 & 1.666667\\\\\n",
       "\\end{tabular}\n"
      ],
      "text/markdown": [
       "\n",
       "A tibble: 6 × 5\n",
       "\n",
       "| Divorce &lt;fct&gt; | Criticism &lt;dbl&gt; | Contempt &lt;dbl&gt; | Defensiveness &lt;dbl&gt; | Stonewalling &lt;dbl&gt; |\n",
       "|---|---|---|---|---|\n",
       "| 1 | 1.5714286 | 1.6666667 | 2.666667 | 1.666667 |\n",
       "| 1 | 2.5714286 | 2.1666667 | 4.000000 | 2.500000 |\n",
       "| 1 | 1.5714286 | 2.3333333 | 1.000000 | 2.500000 |\n",
       "| 1 | 2.0000000 | 2.3333333 | 3.000000 | 2.333333 |\n",
       "| 1 | 0.7142857 | 0.6666667 | 2.333333 | 1.666667 |\n",
       "| 1 | 1.0000000 | 1.8333333 | 1.333333 | 1.666667 |\n",
       "\n"
      ],
      "text/plain": [
       "  Divorce Criticism Contempt  Defensiveness Stonewalling\n",
       "1 1       1.5714286 1.6666667 2.666667      1.666667    \n",
       "2 1       2.5714286 2.1666667 4.000000      2.500000    \n",
       "3 1       1.5714286 2.3333333 1.000000      2.500000    \n",
       "4 1       2.0000000 2.3333333 3.000000      2.333333    \n",
       "5 1       0.7142857 0.6666667 2.333333      1.666667    \n",
       "6 1       1.0000000 1.8333333 1.333333      1.666667    "
      ]
     },
     "metadata": {},
     "output_type": "display_data"
    }
   ],
   "source": [
    "#Converting \"Divorce\" into a factor type\n",
    "mutated_data <- mutated_data|> \n",
    "    mutate(Divorce = as_factor(Divorce))\n",
    "\n",
    "#Selecting the columns to make our final dataset\n",
    "final_dataset <- select(mutated_data, Divorce, Criticism, Contempt, Defensiveness, Stonewalling)\n",
    "head(final_dataset)"
   ]
  },
  {
   "cell_type": "markdown",
   "id": "27c66863-a24d-4f71-aaed-e893fdbc8330",
   "metadata": {},
   "source": [
    "#### **Summary Table**\n",
    "\n",
    "The summary table provides a general idea of how average scores across the divorce predictors are correlated with the marriage status, where Marriage = 0, and Divorce = 1."
   ]
  },
  {
   "cell_type": "code",
   "execution_count": 26,
   "id": "0d8da651-8e59-4f08-b1ec-492b2afc4623",
   "metadata": {},
   "outputs": [
    {
     "data": {
      "text/html": [
       "<table class=\"dataframe\">\n",
       "<caption>A tibble: 2 × 5</caption>\n",
       "<thead>\n",
       "\t<tr><th scope=col>Divorce</th><th scope=col>Criticism</th><th scope=col>Contempt</th><th scope=col>Defensiveness</th><th scope=col>Stonewalling</th></tr>\n",
       "\t<tr><th scope=col>&lt;fct&gt;</th><th scope=col>&lt;dbl&gt;</th><th scope=col>&lt;dbl&gt;</th><th scope=col>&lt;dbl&gt;</th><th scope=col>&lt;dbl&gt;</th></tr>\n",
       "</thead>\n",
       "<tbody>\n",
       "\t<tr><td>0</td><td>0.5598007</td><td>0.9302326</td><td>1.426357</td><td>1.391473</td></tr>\n",
       "\t<tr><td>1</td><td>3.3724490</td><td>3.4226190</td><td>3.456349</td><td>3.327381</td></tr>\n",
       "</tbody>\n",
       "</table>\n"
      ],
      "text/latex": [
       "A tibble: 2 × 5\n",
       "\\begin{tabular}{lllll}\n",
       " Divorce & Criticism & Contempt & Defensiveness & Stonewalling\\\\\n",
       " <fct> & <dbl> & <dbl> & <dbl> & <dbl>\\\\\n",
       "\\hline\n",
       "\t 0 & 0.5598007 & 0.9302326 & 1.426357 & 1.391473\\\\\n",
       "\t 1 & 3.3724490 & 3.4226190 & 3.456349 & 3.327381\\\\\n",
       "\\end{tabular}\n"
      ],
      "text/markdown": [
       "\n",
       "A tibble: 2 × 5\n",
       "\n",
       "| Divorce &lt;fct&gt; | Criticism &lt;dbl&gt; | Contempt &lt;dbl&gt; | Defensiveness &lt;dbl&gt; | Stonewalling &lt;dbl&gt; |\n",
       "|---|---|---|---|---|\n",
       "| 0 | 0.5598007 | 0.9302326 | 1.426357 | 1.391473 |\n",
       "| 1 | 3.3724490 | 3.4226190 | 3.456349 | 3.327381 |\n",
       "\n"
      ],
      "text/plain": [
       "  Divorce Criticism Contempt  Defensiveness Stonewalling\n",
       "1 0       0.5598007 0.9302326 1.426357      1.391473    \n",
       "2 1       3.3724490 3.4226190 3.456349      3.327381    "
      ]
     },
     "metadata": {},
     "output_type": "display_data"
    }
   ],
   "source": [
    "divorce_summary_table <- final_dataset |>\n",
    "                group_by(Divorce) |>\n",
    "                summarise(across(Criticism:Stonewalling, mean))\n",
    "\n",
    "divorce_summary_table"
   ]
  },
  {
   "cell_type": "markdown",
   "id": "1a0b6882-a8ca-4f28-be2d-d961a3677be1",
   "metadata": {},
   "source": [
    "#### **Model**\n",
    "\n",
    "We use knn classification model to predict whether a couple will get divorced based on their score across the four negative communication styles. To train and evaluate the knn classification model, we split the data set into two subsets: a training set and a testing set.The data is split into 75% training data and 25% testing data as it is a good split in order to train the data while making sure the testing data is large enough. Then we perform cross-validation on the training set to find the best value of k (number of nearest neighbors).The purpose of cross-validation is to evaluate how well a model trained on one subset of the data can generalize to unseen data. We then use that optimal k value to train our model. We also find the accuracy level, which we have shown as a percentage and using a confusion matrix. Finally, we use a random datapoint to test our model. "
   ]
  },
  {
   "cell_type": "code",
   "execution_count": 17,
   "id": "ed375872-ba6e-4bb7-8d65-375661cbfc3d",
   "metadata": {},
   "outputs": [
    {
     "data": {
      "text/html": [
       "<table class=\"dataframe\">\n",
       "<caption>A tibble: 6 × 5</caption>\n",
       "<thead>\n",
       "\t<tr><th scope=col>Divorce</th><th scope=col>Criticism</th><th scope=col>Contempt</th><th scope=col>Defensiveness</th><th scope=col>Stonewalling</th></tr>\n",
       "\t<tr><th scope=col>&lt;fct&gt;</th><th scope=col>&lt;dbl&gt;</th><th scope=col>&lt;dbl&gt;</th><th scope=col>&lt;dbl&gt;</th><th scope=col>&lt;dbl&gt;</th></tr>\n",
       "</thead>\n",
       "<tbody>\n",
       "\t<tr><td>0</td><td>0.1428571</td><td>0.6666667</td><td>0.0000000</td><td>0.8333333</td></tr>\n",
       "\t<tr><td>0</td><td>0.4285714</td><td>0.8333333</td><td>0.3333333</td><td>0.5000000</td></tr>\n",
       "\t<tr><td>0</td><td>0.0000000</td><td>0.6666667</td><td>0.0000000</td><td>0.0000000</td></tr>\n",
       "\t<tr><td>0</td><td>0.7142857</td><td>1.0000000</td><td>1.0000000</td><td>0.1666667</td></tr>\n",
       "\t<tr><td>0</td><td>0.2857143</td><td>0.1666667</td><td>0.0000000</td><td>1.1666667</td></tr>\n",
       "\t<tr><td>0</td><td>0.1428571</td><td>0.3333333</td><td>1.0000000</td><td>1.0000000</td></tr>\n",
       "</tbody>\n",
       "</table>\n"
      ],
      "text/latex": [
       "A tibble: 6 × 5\n",
       "\\begin{tabular}{lllll}\n",
       " Divorce & Criticism & Contempt & Defensiveness & Stonewalling\\\\\n",
       " <fct> & <dbl> & <dbl> & <dbl> & <dbl>\\\\\n",
       "\\hline\n",
       "\t 0 & 0.1428571 & 0.6666667 & 0.0000000 & 0.8333333\\\\\n",
       "\t 0 & 0.4285714 & 0.8333333 & 0.3333333 & 0.5000000\\\\\n",
       "\t 0 & 0.0000000 & 0.6666667 & 0.0000000 & 0.0000000\\\\\n",
       "\t 0 & 0.7142857 & 1.0000000 & 1.0000000 & 0.1666667\\\\\n",
       "\t 0 & 0.2857143 & 0.1666667 & 0.0000000 & 1.1666667\\\\\n",
       "\t 0 & 0.1428571 & 0.3333333 & 1.0000000 & 1.0000000\\\\\n",
       "\\end{tabular}\n"
      ],
      "text/markdown": [
       "\n",
       "A tibble: 6 × 5\n",
       "\n",
       "| Divorce &lt;fct&gt; | Criticism &lt;dbl&gt; | Contempt &lt;dbl&gt; | Defensiveness &lt;dbl&gt; | Stonewalling &lt;dbl&gt; |\n",
       "|---|---|---|---|---|\n",
       "| 0 | 0.1428571 | 0.6666667 | 0.0000000 | 0.8333333 |\n",
       "| 0 | 0.4285714 | 0.8333333 | 0.3333333 | 0.5000000 |\n",
       "| 0 | 0.0000000 | 0.6666667 | 0.0000000 | 0.0000000 |\n",
       "| 0 | 0.7142857 | 1.0000000 | 1.0000000 | 0.1666667 |\n",
       "| 0 | 0.2857143 | 0.1666667 | 0.0000000 | 1.1666667 |\n",
       "| 0 | 0.1428571 | 0.3333333 | 1.0000000 | 1.0000000 |\n",
       "\n"
      ],
      "text/plain": [
       "  Divorce Criticism Contempt  Defensiveness Stonewalling\n",
       "1 0       0.1428571 0.6666667 0.0000000     0.8333333   \n",
       "2 0       0.4285714 0.8333333 0.3333333     0.5000000   \n",
       "3 0       0.0000000 0.6666667 0.0000000     0.0000000   \n",
       "4 0       0.7142857 1.0000000 1.0000000     0.1666667   \n",
       "5 0       0.2857143 0.1666667 0.0000000     1.1666667   \n",
       "6 0       0.1428571 0.3333333 1.0000000     1.0000000   "
      ]
     },
     "metadata": {},
     "output_type": "display_data"
    },
    {
     "data": {
      "text/html": [
       "<table class=\"dataframe\">\n",
       "<caption>A tibble: 6 × 5</caption>\n",
       "<thead>\n",
       "\t<tr><th scope=col>Divorce</th><th scope=col>Criticism</th><th scope=col>Contempt</th><th scope=col>Defensiveness</th><th scope=col>Stonewalling</th></tr>\n",
       "\t<tr><th scope=col>&lt;fct&gt;</th><th scope=col>&lt;dbl&gt;</th><th scope=col>&lt;dbl&gt;</th><th scope=col>&lt;dbl&gt;</th><th scope=col>&lt;dbl&gt;</th></tr>\n",
       "</thead>\n",
       "<tbody>\n",
       "\t<tr><td>1</td><td>1.571429</td><td>1.666667</td><td>2.666667</td><td>1.666667</td></tr>\n",
       "\t<tr><td>1</td><td>1.571429</td><td>2.000000</td><td>1.666667</td><td>1.666667</td></tr>\n",
       "\t<tr><td>1</td><td>4.000000</td><td>4.000000</td><td>4.000000</td><td>4.000000</td></tr>\n",
       "\t<tr><td>1</td><td>4.000000</td><td>4.000000</td><td>4.000000</td><td>4.000000</td></tr>\n",
       "\t<tr><td>1</td><td>4.000000</td><td>4.000000</td><td>4.000000</td><td>4.000000</td></tr>\n",
       "\t<tr><td>1</td><td>4.000000</td><td>4.000000</td><td>4.000000</td><td>4.000000</td></tr>\n",
       "</tbody>\n",
       "</table>\n"
      ],
      "text/latex": [
       "A tibble: 6 × 5\n",
       "\\begin{tabular}{lllll}\n",
       " Divorce & Criticism & Contempt & Defensiveness & Stonewalling\\\\\n",
       " <fct> & <dbl> & <dbl> & <dbl> & <dbl>\\\\\n",
       "\\hline\n",
       "\t 1 & 1.571429 & 1.666667 & 2.666667 & 1.666667\\\\\n",
       "\t 1 & 1.571429 & 2.000000 & 1.666667 & 1.666667\\\\\n",
       "\t 1 & 4.000000 & 4.000000 & 4.000000 & 4.000000\\\\\n",
       "\t 1 & 4.000000 & 4.000000 & 4.000000 & 4.000000\\\\\n",
       "\t 1 & 4.000000 & 4.000000 & 4.000000 & 4.000000\\\\\n",
       "\t 1 & 4.000000 & 4.000000 & 4.000000 & 4.000000\\\\\n",
       "\\end{tabular}\n"
      ],
      "text/markdown": [
       "\n",
       "A tibble: 6 × 5\n",
       "\n",
       "| Divorce &lt;fct&gt; | Criticism &lt;dbl&gt; | Contempt &lt;dbl&gt; | Defensiveness &lt;dbl&gt; | Stonewalling &lt;dbl&gt; |\n",
       "|---|---|---|---|---|\n",
       "| 1 | 1.571429 | 1.666667 | 2.666667 | 1.666667 |\n",
       "| 1 | 1.571429 | 2.000000 | 1.666667 | 1.666667 |\n",
       "| 1 | 4.000000 | 4.000000 | 4.000000 | 4.000000 |\n",
       "| 1 | 4.000000 | 4.000000 | 4.000000 | 4.000000 |\n",
       "| 1 | 4.000000 | 4.000000 | 4.000000 | 4.000000 |\n",
       "| 1 | 4.000000 | 4.000000 | 4.000000 | 4.000000 |\n",
       "\n"
      ],
      "text/plain": [
       "  Divorce Criticism Contempt Defensiveness Stonewalling\n",
       "1 1       1.571429  1.666667 2.666667      1.666667    \n",
       "2 1       1.571429  2.000000 1.666667      1.666667    \n",
       "3 1       4.000000  4.000000 4.000000      4.000000    \n",
       "4 1       4.000000  4.000000 4.000000      4.000000    \n",
       "5 1       4.000000  4.000000 4.000000      4.000000    \n",
       "6 1       4.000000  4.000000 4.000000      4.000000    "
      ]
     },
     "metadata": {},
     "output_type": "display_data"
    }
   ],
   "source": [
    "#Splitting the data into training and testing data\n",
    "set.seed(2023)\n",
    "divorce_split <- initial_split(final_dataset, prop = 0.75, strata = Divorce)   \n",
    " divorce_train <- training(divorce_split)    \n",
    " divorce_test <- testing(divorce_split) \n",
    " head(divorce_train)\n",
    " head(divorce_test)"
   ]
  },
  {
   "cell_type": "markdown",
   "id": "597876fb-832f-4eaa-8ea6-98963ca78904",
   "metadata": {},
   "source": [
    "#### **Exploratory Data Analysis**\n",
    "\n",
    "We have create a summary of the divorce training data set and a pivot table from the summarized data to group the 4 predictors under a column and corresponding average scores under another to aid in data visualization.\n",
    "We also used the training data to create a visualization using a bar graph that compares distributions of the scores from each variable (the four predictors of divorce) and state of marriage (eg. divorce or married)."
   ]
  },
  {
   "cell_type": "markdown",
   "id": "30ffa85e-23c6-4b04-8ff7-5faa412c6184",
   "metadata": {},
   "source": [
    "#### **Training Model with K = 1**\n",
    "\n",
    "We are now repeating the steps to train our model using the best k we found which is k=1."
   ]
  },
  {
   "cell_type": "code",
   "execution_count": 19,
   "id": "c84e128b-7a88-4433-9e27-7796aadc7b64",
   "metadata": {},
   "outputs": [
    {
     "data": {
      "text/html": [
       "<table class=\"dataframe\">\n",
       "<caption>A tibble: 2 × 5</caption>\n",
       "<thead>\n",
       "\t<tr><th scope=col>Divorce</th><th scope=col>Criticism</th><th scope=col>Contempt</th><th scope=col>Defensiveness</th><th scope=col>Stonewalling</th></tr>\n",
       "\t<tr><th scope=col>&lt;fct&gt;</th><th scope=col>&lt;dbl&gt;</th><th scope=col>&lt;dbl&gt;</th><th scope=col>&lt;dbl&gt;</th><th scope=col>&lt;dbl&gt;</th></tr>\n",
       "</thead>\n",
       "<tbody>\n",
       "\t<tr><td>0</td><td>0.609375</td><td>0.9296875</td><td>1.375000</td><td>1.364583</td></tr>\n",
       "\t<tr><td>1</td><td>3.321995</td><td>3.3809524</td><td>3.439153</td><td>3.351852</td></tr>\n",
       "</tbody>\n",
       "</table>\n"
      ],
      "text/latex": [
       "A tibble: 2 × 5\n",
       "\\begin{tabular}{lllll}\n",
       " Divorce & Criticism & Contempt & Defensiveness & Stonewalling\\\\\n",
       " <fct> & <dbl> & <dbl> & <dbl> & <dbl>\\\\\n",
       "\\hline\n",
       "\t 0 & 0.609375 & 0.9296875 & 1.375000 & 1.364583\\\\\n",
       "\t 1 & 3.321995 & 3.3809524 & 3.439153 & 3.351852\\\\\n",
       "\\end{tabular}\n"
      ],
      "text/markdown": [
       "\n",
       "A tibble: 2 × 5\n",
       "\n",
       "| Divorce &lt;fct&gt; | Criticism &lt;dbl&gt; | Contempt &lt;dbl&gt; | Defensiveness &lt;dbl&gt; | Stonewalling &lt;dbl&gt; |\n",
       "|---|---|---|---|---|\n",
       "| 0 | 0.609375 | 0.9296875 | 1.375000 | 1.364583 |\n",
       "| 1 | 3.321995 | 3.3809524 | 3.439153 | 3.351852 |\n",
       "\n"
      ],
      "text/plain": [
       "  Divorce Criticism Contempt  Defensiveness Stonewalling\n",
       "1 0       0.609375  0.9296875 1.375000      1.364583    \n",
       "2 1       3.321995  3.3809524 3.439153      3.351852    "
      ]
     },
     "metadata": {},
     "output_type": "display_data"
    },
    {
     "data": {
      "text/html": [
       "<table class=\"dataframe\">\n",
       "<caption>A tibble: 8 × 3</caption>\n",
       "<thead>\n",
       "\t<tr><th scope=col>Divorce</th><th scope=col>Predictor</th><th scope=col>Score</th></tr>\n",
       "\t<tr><th scope=col>&lt;fct&gt;</th><th scope=col>&lt;chr&gt;</th><th scope=col>&lt;dbl&gt;</th></tr>\n",
       "</thead>\n",
       "<tbody>\n",
       "\t<tr><td>0</td><td>Criticism    </td><td>0.6093750</td></tr>\n",
       "\t<tr><td>0</td><td>Contempt     </td><td>0.9296875</td></tr>\n",
       "\t<tr><td>0</td><td>Defensiveness</td><td>1.3750000</td></tr>\n",
       "\t<tr><td>0</td><td>Stonewalling </td><td>1.3645833</td></tr>\n",
       "\t<tr><td>1</td><td>Criticism    </td><td>3.3219955</td></tr>\n",
       "\t<tr><td>1</td><td>Contempt     </td><td>3.3809524</td></tr>\n",
       "\t<tr><td>1</td><td>Defensiveness</td><td>3.4391534</td></tr>\n",
       "\t<tr><td>1</td><td>Stonewalling </td><td>3.3518519</td></tr>\n",
       "</tbody>\n",
       "</table>\n"
      ],
      "text/latex": [
       "A tibble: 8 × 3\n",
       "\\begin{tabular}{lll}\n",
       " Divorce & Predictor & Score\\\\\n",
       " <fct> & <chr> & <dbl>\\\\\n",
       "\\hline\n",
       "\t 0 & Criticism     & 0.6093750\\\\\n",
       "\t 0 & Contempt      & 0.9296875\\\\\n",
       "\t 0 & Defensiveness & 1.3750000\\\\\n",
       "\t 0 & Stonewalling  & 1.3645833\\\\\n",
       "\t 1 & Criticism     & 3.3219955\\\\\n",
       "\t 1 & Contempt      & 3.3809524\\\\\n",
       "\t 1 & Defensiveness & 3.4391534\\\\\n",
       "\t 1 & Stonewalling  & 3.3518519\\\\\n",
       "\\end{tabular}\n"
      ],
      "text/markdown": [
       "\n",
       "A tibble: 8 × 3\n",
       "\n",
       "| Divorce &lt;fct&gt; | Predictor &lt;chr&gt; | Score &lt;dbl&gt; |\n",
       "|---|---|---|\n",
       "| 0 | Criticism     | 0.6093750 |\n",
       "| 0 | Contempt      | 0.9296875 |\n",
       "| 0 | Defensiveness | 1.3750000 |\n",
       "| 0 | Stonewalling  | 1.3645833 |\n",
       "| 1 | Criticism     | 3.3219955 |\n",
       "| 1 | Contempt      | 3.3809524 |\n",
       "| 1 | Defensiveness | 3.4391534 |\n",
       "| 1 | Stonewalling  | 3.3518519 |\n",
       "\n"
      ],
      "text/plain": [
       "  Divorce Predictor     Score    \n",
       "1 0       Criticism     0.6093750\n",
       "2 0       Contempt      0.9296875\n",
       "3 0       Defensiveness 1.3750000\n",
       "4 0       Stonewalling  1.3645833\n",
       "5 1       Criticism     3.3219955\n",
       "6 1       Contempt      3.3809524\n",
       "7 1       Defensiveness 3.4391534\n",
       "8 1       Stonewalling  3.3518519"
      ]
     },
     "metadata": {},
     "output_type": "display_data"
    },
    {
     "data": {
      "image/png": "[encoded data removed]",
      "text/plain": [
       "plot without title"
      ]
     },
     "metadata": {
      "image/png": {
       "height": 360,
       "width": 600
      }
     },
     "output_type": "display_data"
    }
   ],
   "source": [
    "#Creating a summary of the divorce training dataset. \n",
    "summary_divorce <- divorce_train |>\n",
    "    group_by(Divorce) |>\n",
    "    summarise(across(c(\"Criticism\", \"Contempt\", \"Defensiveness\", \"Stonewalling\"), ~mean(.x, na.rm = TRUE)))\n",
    "summary_divorce\n",
    "\n",
    "#Creating a Pivot table\n",
    "divorce_train_longer <- summary_divorce |>\n",
    "                  pivot_longer(cols = -Divorce, names_to = \"Predictor\", values_to = \"Score\")\n",
    "divorce_train_longer\n",
    "\n",
    "# load necessary package to create visuaization \n",
    "library (ggplot2)\n",
    "options(repr.plot.width=10, repr.plot.height=6)\n",
    "# Creating a bar graph showing average scores across the divorce predictors, grouped by marriage status\n",
    "divorce_train_plot <- ggplot(divorce_train_longer, aes(x = Divorce, y = Score, fill = Predictor)) +\n",
    "                        geom_bar(stat = \"identity\", position = \"dodge\", width = 0.8) +\n",
    "                        labs(x = \"Marriage Status (1 = Married, 0 = Divorced)\", y = \"Average Score\", fill = \"Predictor\") +\n",
    "                        ggtitle(\"Average Scores for Divorce Predictors by Marriage Status\")+\n",
    "                        theme(text = element_text(size=17))\n",
    "divorce_train_plot"
   ]
  },
  {
   "cell_type": "markdown",
   "id": "b6f98519-168d-4ccf-b853-9c12762abfd9",
   "metadata": {},
   "source": [
    "**Figure 1:** The graph above shows visualization of average scores across the four divorce predictors for marriage status. The data consists of a sample of individuals categorized as either \"Married\" or \"Divorced.\" The pivot_longer() function was used to reshape the data from wide to long format, facilitating the plotting process.\n",
    "\n",
    "The data is plotted using a bar plot and provides a clear comparison of the average scores (y-axis) for each divorce predictor between the two marriage status groups (x-axis). Each of the predictors are differentiated by different colours for easy visual comparison. The bar plot effectively illustrates any differences or similarities in the scores, aiding in the understanding of the relationship between divorce predictors and marital status."
   ]
  },
  {
   "cell_type": "markdown",
   "id": "a41dbd0c-670d-4570-a13e-d90beb7cf942",
   "metadata": {},
   "source": [
    "#### **Finding K-value and Accuracy**\n",
    "\n",
    "A 5-fold cross-validation was performed on the training data to perform K-nearest neighbors classification using cross-validation. We specify the range of values for the number of neighbors to tune over, and calculate the accuracy metric for each value of neighbors in order to compare the model's performance."
   ]
  },
  {
   "cell_type": "code",
   "execution_count": 20,
   "id": "4abd008f-108d-43c4-b964-85854a685ff2",
   "metadata": {},
   "outputs": [
    {
     "name": "stdout",
     "output_type": "stream",
     "text": [
      "K-Nearest Neighbor Model Specification (classification)\n",
      "\n",
      "Main Arguments:\n",
      "  neighbors = tune(\"neighbors\")\n",
      "  weight_func = rectangular\n",
      "\n",
      "Computational engine: kknn \n",
      "\n"
     ]
    },
    {
     "data": {
      "text/html": [
       "<table class=\"dataframe\">\n",
       "<caption>A tibble: 20 × 7</caption>\n",
       "<thead>\n",
       "\t<tr><th scope=col>neighbors</th><th scope=col>.metric</th><th scope=col>.estimator</th><th scope=col>mean</th><th scope=col>n</th><th scope=col>std_err</th><th scope=col>.config</th></tr>\n",
       "\t<tr><th scope=col>&lt;dbl&gt;</th><th scope=col>&lt;chr&gt;</th><th scope=col>&lt;chr&gt;</th><th scope=col>&lt;dbl&gt;</th><th scope=col>&lt;int&gt;</th><th scope=col>&lt;dbl&gt;</th><th scope=col>&lt;chr&gt;</th></tr>\n",
       "</thead>\n",
       "<tbody>\n",
       "\t<tr><td> 1</td><td>accuracy</td><td>binary</td><td>0.9689231</td><td>5</td><td>0.02245522</td><td>Preprocessor1_Model01</td></tr>\n",
       "\t<tr><td> 6</td><td>accuracy</td><td>binary</td><td>0.9682821</td><td>5</td><td>0.01453122</td><td>Preprocessor1_Model02</td></tr>\n",
       "\t<tr><td>11</td><td>accuracy</td><td>binary</td><td>0.9605897</td><td>5</td><td>0.01217933</td><td>Preprocessor1_Model03</td></tr>\n",
       "\t<tr><td>16</td><td>accuracy</td><td>binary</td><td>0.9605897</td><td>5</td><td>0.01217933</td><td>Preprocessor1_Model04</td></tr>\n",
       "\t<tr><td>21</td><td>accuracy</td><td>binary</td><td>0.9605897</td><td>5</td><td>0.01217933</td><td>Preprocessor1_Model05</td></tr>\n",
       "\t<tr><td>26</td><td>accuracy</td><td>binary</td><td>0.9605897</td><td>5</td><td>0.01217933</td><td>Preprocessor1_Model06</td></tr>\n",
       "\t<tr><td>31</td><td>accuracy</td><td>binary</td><td>0.9525897</td><td>5</td><td>0.01465247</td><td>Preprocessor1_Model07</td></tr>\n",
       "\t<tr><td>36</td><td>accuracy</td><td>binary</td><td>0.9605897</td><td>5</td><td>0.01217933</td><td>Preprocessor1_Model08</td></tr>\n",
       "\t<tr><td>41</td><td>accuracy</td><td>binary</td><td>0.9525897</td><td>5</td><td>0.01465247</td><td>Preprocessor1_Model09</td></tr>\n",
       "\t<tr><td>46</td><td>accuracy</td><td>binary</td><td>0.9605897</td><td>5</td><td>0.01217933</td><td>Preprocessor1_Model10</td></tr>\n",
       "\t<tr><td>51</td><td>accuracy</td><td>binary</td><td>0.9605897</td><td>5</td><td>0.01217933</td><td>Preprocessor1_Model11</td></tr>\n",
       "\t<tr><td>56</td><td>accuracy</td><td>binary</td><td>0.9522564</td><td>5</td><td>0.01507256</td><td>Preprocessor1_Model12</td></tr>\n",
       "\t<tr><td>61</td><td>accuracy</td><td>binary</td><td>0.9362564</td><td>5</td><td>0.02052397</td><td>Preprocessor1_Model13</td></tr>\n",
       "\t<tr><td>66</td><td>accuracy</td><td>binary</td><td>0.9362564</td><td>5</td><td>0.02052397</td><td>Preprocessor1_Model14</td></tr>\n",
       "\t<tr><td>71</td><td>accuracy</td><td>binary</td><td>0.9445897</td><td>5</td><td>0.02022508</td><td>Preprocessor1_Model15</td></tr>\n",
       "\t<tr><td>76</td><td>accuracy</td><td>binary</td><td>0.9445897</td><td>5</td><td>0.02022508</td><td>Preprocessor1_Model16</td></tr>\n",
       "\t<tr><td>81</td><td>accuracy</td><td>binary</td><td>0.9445897</td><td>5</td><td>0.02022508</td><td>Preprocessor1_Model17</td></tr>\n",
       "\t<tr><td>86</td><td>accuracy</td><td>binary</td><td>0.9445897</td><td>5</td><td>0.02022508</td><td>Preprocessor1_Model18</td></tr>\n",
       "\t<tr><td>91</td><td>accuracy</td><td>binary</td><td>0.9525897</td><td>5</td><td>0.01465247</td><td>Preprocessor1_Model19</td></tr>\n",
       "\t<tr><td>96</td><td>accuracy</td><td>binary</td><td>0.9605897</td><td>5</td><td>0.01217933</td><td>Preprocessor1_Model20</td></tr>\n",
       "</tbody>\n",
       "</table>\n"
      ],
      "text/latex": [
       "A tibble: 20 × 7\n",
       "\\begin{tabular}{lllllll}\n",
       " neighbors & .metric & .estimator & mean & n & std\\_err & .config\\\\\n",
       " <dbl> & <chr> & <chr> & <dbl> & <int> & <dbl> & <chr>\\\\\n",
       "\\hline\n",
       "\t  1 & accuracy & binary & 0.9689231 & 5 & 0.02245522 & Preprocessor1\\_Model01\\\\\n",
       "\t  6 & accuracy & binary & 0.9682821 & 5 & 0.01453122 & Preprocessor1\\_Model02\\\\\n",
       "\t 11 & accuracy & binary & 0.9605897 & 5 & 0.01217933 & Preprocessor1\\_Model03\\\\\n",
       "\t 16 & accuracy & binary & 0.9605897 & 5 & 0.01217933 & Preprocessor1\\_Model04\\\\\n",
       "\t 21 & accuracy & binary & 0.9605897 & 5 & 0.01217933 & Preprocessor1\\_Model05\\\\\n",
       "\t 26 & accuracy & binary & 0.9605897 & 5 & 0.01217933 & Preprocessor1\\_Model06\\\\\n",
       "\t 31 & accuracy & binary & 0.9525897 & 5 & 0.01465247 & Preprocessor1\\_Model07\\\\\n",
       "\t 36 & accuracy & binary & 0.9605897 & 5 & 0.01217933 & Preprocessor1\\_Model08\\\\\n",
       "\t 41 & accuracy & binary & 0.9525897 & 5 & 0.01465247 & Preprocessor1\\_Model09\\\\\n",
       "\t 46 & accuracy & binary & 0.9605897 & 5 & 0.01217933 & Preprocessor1\\_Model10\\\\\n",
       "\t 51 & accuracy & binary & 0.9605897 & 5 & 0.01217933 & Preprocessor1\\_Model11\\\\\n",
       "\t 56 & accuracy & binary & 0.9522564 & 5 & 0.01507256 & Preprocessor1\\_Model12\\\\\n",
       "\t 61 & accuracy & binary & 0.9362564 & 5 & 0.02052397 & Preprocessor1\\_Model13\\\\\n",
       "\t 66 & accuracy & binary & 0.9362564 & 5 & 0.02052397 & Preprocessor1\\_Model14\\\\\n",
       "\t 71 & accuracy & binary & 0.9445897 & 5 & 0.02022508 & Preprocessor1\\_Model15\\\\\n",
       "\t 76 & accuracy & binary & 0.9445897 & 5 & 0.02022508 & Preprocessor1\\_Model16\\\\\n",
       "\t 81 & accuracy & binary & 0.9445897 & 5 & 0.02022508 & Preprocessor1\\_Model17\\\\\n",
       "\t 86 & accuracy & binary & 0.9445897 & 5 & 0.02022508 & Preprocessor1\\_Model18\\\\\n",
       "\t 91 & accuracy & binary & 0.9525897 & 5 & 0.01465247 & Preprocessor1\\_Model19\\\\\n",
       "\t 96 & accuracy & binary & 0.9605897 & 5 & 0.01217933 & Preprocessor1\\_Model20\\\\\n",
       "\\end{tabular}\n"
      ],
      "text/markdown": [
       "\n",
       "A tibble: 20 × 7\n",
       "\n",
       "| neighbors &lt;dbl&gt; | .metric &lt;chr&gt; | .estimator &lt;chr&gt; | mean &lt;dbl&gt; | n &lt;int&gt; | std_err &lt;dbl&gt; | .config &lt;chr&gt; |\n",
       "|---|---|---|---|---|---|---|\n",
       "|  1 | accuracy | binary | 0.9689231 | 5 | 0.02245522 | Preprocessor1_Model01 |\n",
       "|  6 | accuracy | binary | 0.9682821 | 5 | 0.01453122 | Preprocessor1_Model02 |\n",
       "| 11 | accuracy | binary | 0.9605897 | 5 | 0.01217933 | Preprocessor1_Model03 |\n",
       "| 16 | accuracy | binary | 0.9605897 | 5 | 0.01217933 | Preprocessor1_Model04 |\n",
       "| 21 | accuracy | binary | 0.9605897 | 5 | 0.01217933 | Preprocessor1_Model05 |\n",
       "| 26 | accuracy | binary | 0.9605897 | 5 | 0.01217933 | Preprocessor1_Model06 |\n",
       "| 31 | accuracy | binary | 0.9525897 | 5 | 0.01465247 | Preprocessor1_Model07 |\n",
       "| 36 | accuracy | binary | 0.9605897 | 5 | 0.01217933 | Preprocessor1_Model08 |\n",
       "| 41 | accuracy | binary | 0.9525897 | 5 | 0.01465247 | Preprocessor1_Model09 |\n",
       "| 46 | accuracy | binary | 0.9605897 | 5 | 0.01217933 | Preprocessor1_Model10 |\n",
       "| 51 | accuracy | binary | 0.9605897 | 5 | 0.01217933 | Preprocessor1_Model11 |\n",
       "| 56 | accuracy | binary | 0.9522564 | 5 | 0.01507256 | Preprocessor1_Model12 |\n",
       "| 61 | accuracy | binary | 0.9362564 | 5 | 0.02052397 | Preprocessor1_Model13 |\n",
       "| 66 | accuracy | binary | 0.9362564 | 5 | 0.02052397 | Preprocessor1_Model14 |\n",
       "| 71 | accuracy | binary | 0.9445897 | 5 | 0.02022508 | Preprocessor1_Model15 |\n",
       "| 76 | accuracy | binary | 0.9445897 | 5 | 0.02022508 | Preprocessor1_Model16 |\n",
       "| 81 | accuracy | binary | 0.9445897 | 5 | 0.02022508 | Preprocessor1_Model17 |\n",
       "| 86 | accuracy | binary | 0.9445897 | 5 | 0.02022508 | Preprocessor1_Model18 |\n",
       "| 91 | accuracy | binary | 0.9525897 | 5 | 0.01465247 | Preprocessor1_Model19 |\n",
       "| 96 | accuracy | binary | 0.9605897 | 5 | 0.01217933 | Preprocessor1_Model20 |\n",
       "\n"
      ],
      "text/plain": [
       "   neighbors .metric  .estimator mean      n std_err    .config              \n",
       "1   1        accuracy binary     0.9689231 5 0.02245522 Preprocessor1_Model01\n",
       "2   6        accuracy binary     0.9682821 5 0.01453122 Preprocessor1_Model02\n",
       "3  11        accuracy binary     0.9605897 5 0.01217933 Preprocessor1_Model03\n",
       "4  16        accuracy binary     0.9605897 5 0.01217933 Preprocessor1_Model04\n",
       "5  21        accuracy binary     0.9605897 5 0.01217933 Preprocessor1_Model05\n",
       "6  26        accuracy binary     0.9605897 5 0.01217933 Preprocessor1_Model06\n",
       "7  31        accuracy binary     0.9525897 5 0.01465247 Preprocessor1_Model07\n",
       "8  36        accuracy binary     0.9605897 5 0.01217933 Preprocessor1_Model08\n",
       "9  41        accuracy binary     0.9525897 5 0.01465247 Preprocessor1_Model09\n",
       "10 46        accuracy binary     0.9605897 5 0.01217933 Preprocessor1_Model10\n",
       "11 51        accuracy binary     0.9605897 5 0.01217933 Preprocessor1_Model11\n",
       "12 56        accuracy binary     0.9522564 5 0.01507256 Preprocessor1_Model12\n",
       "13 61        accuracy binary     0.9362564 5 0.02052397 Preprocessor1_Model13\n",
       "14 66        accuracy binary     0.9362564 5 0.02052397 Preprocessor1_Model14\n",
       "15 71        accuracy binary     0.9445897 5 0.02022508 Preprocessor1_Model15\n",
       "16 76        accuracy binary     0.9445897 5 0.02022508 Preprocessor1_Model16\n",
       "17 81        accuracy binary     0.9445897 5 0.02022508 Preprocessor1_Model17\n",
       "18 86        accuracy binary     0.9445897 5 0.02022508 Preprocessor1_Model18\n",
       "19 91        accuracy binary     0.9525897 5 0.01465247 Preprocessor1_Model19\n",
       "20 96        accuracy binary     0.9605897 5 0.01217933 Preprocessor1_Model20"
      ]
     },
     "metadata": {},
     "output_type": "display_data"
    }
   ],
   "source": [
    "#Cross validation- creating 5 folds from the training dataset. The strata argument ensures that the folds have the same proportion of classes as the original dataset. \n",
    "folds <- vfold_cv(divorce_train, v = 5, strata = Divorce)\n",
    "\n",
    "#Creating a recipe\n",
    "divorce_recipe <- recipe(Divorce ~ Criticism + Contempt + Defensiveness + Stonewalling, data = divorce_train)|>\n",
    " step_normalize(Criticism , Contempt , Defensiveness, Stonewalling)\n",
    "\n",
    "#Creating model specification\n",
    "knn_spec <- nearest_neighbor(weight_func = \"rectangular\", \n",
    "                             neighbors = tune(\"neighbors\")) |>\n",
    "                             set_engine(\"kknn\") |>\n",
    "                             set_mode(\"classification\")\n",
    "print(knn_spec)\n",
    "\n",
    "#Creating a tibble that specifies the values of neighbours we want to tune over. \n",
    "k_vals <- tibble(neighbors = seq(from = 1, to = 100, by = 5))\n",
    "\n",
    "#Creating a accuracies tibble that gives the accuracy metric for each value of neighbors, allowing us to compare the model's performance across different values of k. \n",
    "knn_results <- workflow() |>\n",
    "               add_recipe(divorce_recipe) |>\n",
    "               add_model(knn_spec) |>\n",
    "               tune_grid(resamples = folds, grid = k_vals)|>\n",
    "               collect_metrics()\n",
    "accuracies <- knn_results |>\n",
    "              filter(.metric == \"accuracy\")\n",
    "accuracies"
   ]
  },
  {
   "cell_type": "markdown",
   "id": "2a27cdf8-33cc-43fe-a2e9-fd907617d9c0",
   "metadata": {},
   "source": [
    "#### **Determining the Best K-value - Cross-Validation Plot**\n",
    "\n",
    "Cross-validation plot depicts k values ranging from 1 to 96 to determine the K value with the highest accuracy. The x-axis shows the range of possible K values to identify nearest neighbors that would underfit or overfit the training data and give us the K-value that would have the highest accuracy."
   ]
  },
  {
   "cell_type": "code",
   "execution_count": 21,
   "id": "f1f6e6b0-6ee7-4879-aab2-64cdced31838",
   "metadata": {},
   "outputs": [
    {
     "data": {
      "text/html": [
       "1"
      ],
      "text/latex": [
       "1"
      ],
      "text/markdown": [
       "1"
      ],
      "text/plain": [
       "[1] 1"
      ]
     },
     "metadata": {},
     "output_type": "display_data"
    },
    {
     "data": {
      "image/png": "[encoded data removed]",
      "text/plain": [
       "plot without title"
      ]
     },
     "metadata": {
      "image/png": {
       "height": 360,
       "width": 600
      }
     },
     "output_type": "display_data"
    }
   ],
   "source": [
    "accuracy_versus_k <- ggplot(accuracies, aes(x = neighbors, y = mean))+\n",
    "      geom_point() +\n",
    "      geom_line() +\n",
    "      labs(x = \"Neighbors\", y = \"Accuracy Estimate\") +\n",
    "      ggtitle(\"Plotting Accuracy Estimate for K Nearest Neighbors\")+\n",
    "      theme(text = element_text(size = 12))\n",
    "accuracy_versus_k\n",
    "\n",
    " # determining k with highest accuracy estimate\n",
    "k_max <- accuracies |>\n",
    "         arrange(desc(mean)) |>\n",
    "         slice(1) |>\n",
    "        pull(neighbors)\n",
    "k_max"
   ]
  },
  {
   "cell_type": "markdown",
   "id": "5e3a513f-33f5-4a60-9455-bdca5a8cb0a6",
   "metadata": {},
   "source": [
    "**Figure 2**: According to our cross-validation plot, the best K-value, giving us the highest accuracy estimate, is K=1. Generally, K = 1 is indicative of a model being too influenced by the training data, and therefore overfit the data. In our model, this could be a result of insufficient data available to the model but we will use K = 1 to train the model as we have limited data from the database. "
   ]
  },
  {
   "cell_type": "markdown",
   "id": "bad411e8-18f9-4d80-86ca-5ab57c061a6c",
   "metadata": {},
   "source": [
    "#### **Training Model with K = 1**\n",
    "\n",
    "We are now repeating the steps to train our model using the best k we found which is k=1."
   ]
  },
  {
   "cell_type": "code",
   "execution_count": 22,
   "id": "c9bf2018-323d-4776-9207-62e43d66ea7f",
   "metadata": {},
   "outputs": [],
   "source": [
    "knn_best <- nearest_neighbor(weight_func = \"rectangular\", neighbors = 1) |>\n",
    "  set_engine(\"kknn\") |>\n",
    "  set_mode(\"classification\")\n",
    "\n",
    "knn_final <- workflow() |>\n",
    "  add_recipe(divorce_recipe) |>\n",
    "  add_model(knn_best)\n",
    "\n",
    "knn_final_fit <- fit(knn_final, data = divorce_train)"
   ]
  },
  {
   "cell_type": "markdown",
   "id": "36037e7a-d294-455f-a127-52aa6f08fcea",
   "metadata": {},
   "source": [
    "#### **Prediction of Accuracy and Confusion Matrix** \n",
    "\n",
    "\n",
    "We are now determining how accurate are the predictions of our model. The accuracy of our model is about 95.3% which is reliable enough to test marriage status using our predictors.\n",
    "The confusion matrix provides a tabular representation of the model's predictions, showing the number of true positives, true negatives, false positives, and false negatives. The confusion matrix shows 21 observations predicting marriage and 20 observations predicting divorce correctly and only classified one observation as marriage when it should have been divorce and one observation as divorce when it should have been marriage. Overall, the model performed well when evaluated with accuracy and a confusion matrix. "
   ]
  },
  {
   "cell_type": "code",
   "execution_count": 23,
   "id": "606af5a8-a559-46c3-a49b-5c015504f74d",
   "metadata": {},
   "outputs": [
    {
     "data": {
      "text/html": [
       "<table class=\"dataframe\">\n",
       "<caption>A tibble: 1 × 3</caption>\n",
       "<thead>\n",
       "\t<tr><th scope=col>.metric</th><th scope=col>.estimator</th><th scope=col>.estimate</th></tr>\n",
       "\t<tr><th scope=col>&lt;chr&gt;</th><th scope=col>&lt;chr&gt;</th><th scope=col>&lt;dbl&gt;</th></tr>\n",
       "</thead>\n",
       "<tbody>\n",
       "\t<tr><td>accuracy</td><td>binary</td><td>0.9534884</td></tr>\n",
       "</tbody>\n",
       "</table>\n"
      ],
      "text/latex": [
       "A tibble: 1 × 3\n",
       "\\begin{tabular}{lll}\n",
       " .metric & .estimator & .estimate\\\\\n",
       " <chr> & <chr> & <dbl>\\\\\n",
       "\\hline\n",
       "\t accuracy & binary & 0.9534884\\\\\n",
       "\\end{tabular}\n"
      ],
      "text/markdown": [
       "\n",
       "A tibble: 1 × 3\n",
       "\n",
       "| .metric &lt;chr&gt; | .estimator &lt;chr&gt; | .estimate &lt;dbl&gt; |\n",
       "|---|---|---|\n",
       "| accuracy | binary | 0.9534884 |\n",
       "\n"
      ],
      "text/plain": [
       "  .metric  .estimator .estimate\n",
       "1 accuracy binary     0.9534884"
      ]
     },
     "metadata": {},
     "output_type": "display_data"
    },
    {
     "data": {
      "text/plain": [
       "          Truth\n",
       "Prediction  0  1\n",
       "         0 21  1\n",
       "         1  1 20"
      ]
     },
     "metadata": {},
     "output_type": "display_data"
    }
   ],
   "source": [
    "predict_final <- predict(knn_final_fit, divorce_test) |>\n",
    "                    bind_cols(divorce_test) |>\n",
    "                    metrics(truth = Divorce, estimate = .pred_class) |>\n",
    "                    filter(.metric == \"accuracy\")\n",
    "predict_final\n",
    "\n",
    "confmatrix_final <- predict(knn_final_fit, divorce_test) |>\n",
    "                    bind_cols(divorce_test) |>\n",
    "                    conf_mat(truth = Divorce, estimate = .pred_class)\n",
    "confmatrix_final"
   ]
  },
  {
   "cell_type": "markdown",
   "id": "22aa956f-85cd-4f6d-9c9d-a0a2974680e7",
   "metadata": {},
   "source": [
    "#### **Testing Model with New Data**\n",
    "\n",
    "We use hypothetical scores to predict whether that couple will get divorced or not. Given the specific hypothetic score we can see that the couple is likely to get divorced. In general. we find that couples with hifh scores across the four negative communication style are more likely to get divorced. "
   ]
  },
  {
   "cell_type": "code",
   "execution_count": 24,
   "id": "d5a1e08f-965d-4369-93f5-7fb5ff13491b",
   "metadata": {},
   "outputs": [
    {
     "data": {
      "text/html": [
       "<table class=\"dataframe\">\n",
       "<caption>A data.frame: 1 × 4</caption>\n",
       "<thead>\n",
       "\t<tr><th scope=col>Defensiveness</th><th scope=col>Contempt</th><th scope=col>Criticism</th><th scope=col>Stonewalling</th></tr>\n",
       "\t<tr><th scope=col>&lt;dbl&gt;</th><th scope=col>&lt;dbl&gt;</th><th scope=col>&lt;dbl&gt;</th><th scope=col>&lt;dbl&gt;</th></tr>\n",
       "</thead>\n",
       "<tbody>\n",
       "\t<tr><td>3</td><td>2.5</td><td>2</td><td>1</td></tr>\n",
       "</tbody>\n",
       "</table>\n"
      ],
      "text/latex": [
       "A data.frame: 1 × 4\n",
       "\\begin{tabular}{llll}\n",
       " Defensiveness & Contempt & Criticism & Stonewalling\\\\\n",
       " <dbl> & <dbl> & <dbl> & <dbl>\\\\\n",
       "\\hline\n",
       "\t 3 & 2.5 & 2 & 1\\\\\n",
       "\\end{tabular}\n"
      ],
      "text/markdown": [
       "\n",
       "A data.frame: 1 × 4\n",
       "\n",
       "| Defensiveness &lt;dbl&gt; | Contempt &lt;dbl&gt; | Criticism &lt;dbl&gt; | Stonewalling &lt;dbl&gt; |\n",
       "|---|---|---|---|\n",
       "| 3 | 2.5 | 2 | 1 |\n",
       "\n"
      ],
      "text/plain": [
       "  Defensiveness Contempt Criticism Stonewalling\n",
       "1 3             2.5      2         1           "
      ]
     },
     "metadata": {},
     "output_type": "display_data"
    },
    {
     "name": "stdout",
     "output_type": "stream",
     "text": [
      "\u001b[90m# A tibble: 1 × 1\u001b[39m\n",
      "  .pred_class\n",
      "  \u001b[3m\u001b[90m<fct>\u001b[39m\u001b[23m      \n",
      "\u001b[90m1\u001b[39m 1          \n"
     ]
    }
   ],
   "source": [
    "# Hypothetical test scores to evaluate results obtained from model\n",
    "new_data <- data.frame (Defensiveness = 3, Contempt = 2.5, Criticism = 2, Stonewalling = 1)\n",
    "new_data\n",
    "# Results from the Model: 1 = Divorce, 0 = Married \n",
    "predictions <- predict(knn_final_fit, new_data)\n",
    "print(predictions)"
   ]
  },
  {
   "cell_type": "markdown",
   "id": "c027e74d-246f-44a1-996e-23cb77f48997",
   "metadata": {},
   "source": [
    "#### **Summary**\n",
    "\n",
    "Our model can predict marriage outcome given communication pattern scores with 95% accuracy. In general, we found that couples with higher scores in criticism, contempt, stomewalling and defensivenss have a higher chance of being divorced. We hope that our research leads to couples examining their commincation patterns especially during conflict. \n",
    "John Gottman found contempt to be the worst of the four horseman categories (Driver, J.  et al., 2012, Gottman, J. M., et al 2015) as it leads to destruction and dangerous behaviors. During our data analysis we were unable to support this conclusion of John Gottman as it appeared in figure 1 that across all 4 categories the higher the score the more likely they were to get divorced, not retaining to any specific category. To break down the contribution of each negative pattern maybe the topic of further research. "
   ]
  },
  {
   "cell_type": "markdown",
   "id": "01ab71b0-27c8-4ddd-8ddc-92b65ed1ce80",
   "metadata": {},
   "source": [
    "#### **References**\n",
    "Driver, J., Tabares, A., Shapiro, A. F., & Gottman, J. M. (2012). Couple interaction in happy and unhappy marriages: Gottman Laboratory studies. In F. Walsh (Ed.), Normal family processes: Growing diversity and complexity (pp. 57–77). The Guilford Press.\n",
    "Gottman, J. M., & Gottman, J. S. (2015). Gottman couple therapy. In A. S. Gurman, J. L. Lebow, & D. K. Snyder (Eds.), Clinical handbook of couple therapy (pp. 129–157). The Guilford Press."
   ]
  }
 ],
 "metadata": {
  "kernelspec": {
   "display_name": "R",
   "language": "R",
   "name": "ir"
  },
  "language_info": {
   "codemirror_mode": "r",
   "file_extension": ".r",
   "mimetype": "text/x-r-source",
   "name": "R",
   "pygments_lexer": "r",
   "version": "4.1.3"
  }
 },
 "nbformat": 4,
 "nbformat_minor": 5
}
