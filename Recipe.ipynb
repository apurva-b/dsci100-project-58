{
 "cells": [
  {
   "cell_type": "code",
   "execution_count": null,
   "id": "c2b658b8-ae0b-46f4-bf40-fb70818b8822",
   "metadata": {},
   "outputs": [],
   "source": [
    "#Recipe\n",
    "\n",
    "divorce_recipe <- recipe(Divorce ~ Criticism + Contempt + Defensiveness + Stonewalling, data = divorce_train) |>\n",
    "    step_scale(all_predictors()) |>\n",
    "    step_center(all_predictors())\n",
    "\n",
    "\n",
    "knn_tune <- nearest_neighbor(weight_func = \"rectangular\", neighbors = tune()) |>\n",
    "            set_engine(\"kknn\") |>\n",
    "            set_mode(\"classification\")\n",
    "\n",
    "divorce_vfold <- vfold_cv(divorce_train, v = 5, strata = Divorce)\n",
    "\n",
    "k_vals <- tibble(neighbors = seq(from = 1, to = 100, by = 5))\n",
    "\n",
    "divorce_fit <- workflow() |>\n",
    "                    add_recipe(divorce_recipe) |>\n",
    "                    add_model(knn_tune) |>\n",
    "                    fit(data = divorce_train) |>\n",
    "                    tune_grid(resamples = divorce_vfold, grid = k_vals)\n",
    "divorce_fit"
   ]
  }
 ],
 "metadata": {
  "kernelspec": {
   "display_name": "R",
   "language": "R",
   "name": "ir"
  },
  "language_info": {
   "codemirror_mode": "r",
   "file_extension": ".r",
   "mimetype": "text/x-r-source",
   "name": "R",
   "pygments_lexer": "r",
   "version": "4.1.3"
  }
 },
 "nbformat": 4,
 "nbformat_minor": 5
}
