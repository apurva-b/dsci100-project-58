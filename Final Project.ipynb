{
 "cells": [
  {
   "cell_type": "markdown",
   "id": "b8763cf1-ea65-49c5-9c0f-45e7ddbabc0a",
   "metadata": {
    "tags": []
   },
   "source": [
    "# Are We Going to Last?\n",
    "## Predicting Divorce Rates Based on Self Reported Levels of Negative Communication Patterns"
   ]
  },
  {
   "cell_type": "markdown",
   "id": "43cb7486-7c77-4566-9e16-478ece12cc3b",
   "metadata": {},
   "source": [
    "**Introduction** - Every newlywed couple has asked themselves at least once: are we going to last? We use the Divorce Prediction Dataset to see how well we can predict whether a couple will get divorced. The dataset contains responses from 150 couples from Turkey on 54 questions about their relationship. The responses are on a  5 point scale (0=Never, 1=Seldom, 2=Averagely, 3=Frequently, 4=Always). \n",
    "\n",
    "John Gottman is a renowned psychologist who is widely recognized for his work in martial relationships. His research highlights four major predictors of divorce which he refers to as \"Four Horsemen of the Apocalypse\" - critcism, contempt, defensiveness and stonewalling. \n",
    "\n",
    "The variables used are the following:\n",
    "1. Divorce- A dummy variable - 1 = divorce and 0 = Married \n",
    "2. Criticism- This includes couple's score (0-4) across questions that show criticism. John Gottman describes criticism as attacking your partner’s character instead of voicing a complaint. \n",
    "3. Contempt- This includes couple's score (0-4) across questions that show contempt. Described as assuming a position of moral superiority while criticising. \n",
    "4. Defensiveness This includes couple's score (0-4) across questions that show defensiveness. Described as not taking your partner’s concerns seriously and not taking responsibility for your mistakes.\n",
    "5. Stonewalling- This includes couple's score (0-4) across questions that show stonewalling. Described as withdrawing from the interaction, shutting down, and not responding to your partner.\n",
    "\n",
    "Our team has selected questions from the Divorce Prediction Dataset that meet the criteria of one of these negative communication patterns. Our goals is to use classification to train the dataset and then see how well we can predict if a couple will get divorced based on their score across these four negative communication patterns."
   ]
  },
  {
   "cell_type": "code",
   "execution_count": 37,
   "id": "ab689022-73be-4d40-971d-3ea5131e77f9",
   "metadata": {
    "tags": []
   },
   "outputs": [],
   "source": [
    "#loading the necessary libraries\n",
    "library(dplyr)\n",
    "library(tidyverse)\n",
    "library(repr)\n",
    "library(tidymodels)\n",
    "library(rsample)\n",
    "library(tibble)\n",
    "library(ggplot2)"
   ]
  },
  {
   "cell_type": "markdown",
   "id": "47363c60-71d3-4288-a5df-184c26ef159f",
   "metadata": {},
   "source": [
    "**Reading and Mutating Data:**"
   ]
  },
  {
   "cell_type": "markdown",
   "id": "48ce9d1e-3fe1-48d9-bc2e-b5a2e18559ac",
   "metadata": {},
   "source": [
    "**Step 1** - Downloading the data into R from a raw CSV file"
   ]
  },
  {
   "cell_type": "code",
   "execution_count": 2,
   "id": "f89b5e01-b711-418a-8a17-fe72516420fd",
   "metadata": {
    "tags": []
   },
   "outputs": [
    {
     "name": "stderr",
     "output_type": "stream",
     "text": [
      "\u001b[1mRows: \u001b[22m\u001b[34m170\u001b[39m \u001b[1mColumns: \u001b[22m\u001b[34m55\u001b[39m\n",
      "\u001b[36m──\u001b[39m \u001b[1mColumn specification\u001b[22m \u001b[36m────────────────────────────────────────────────────────\u001b[39m\n",
      "\u001b[1mDelimiter:\u001b[22m \";\"\n",
      "\u001b[32mdbl\u001b[39m (55): Q1, Q2, Q3, Q4, Q5, Q6, Q7, Q8, Q9, Q10, Q11, Q12, Q13, Q14, Q15, ...\n",
      "\n",
      "\u001b[36mℹ\u001b[39m Use `spec()` to retrieve the full column specification for this data.\n",
      "\u001b[36mℹ\u001b[39m Specify the column types or set `show_col_types = FALSE` to quiet this message.\n"
     ]
    },
    {
     "data": {
      "text/html": [
       "<table class=\"dataframe\">\n",
       "<caption>A tibble: 6 × 55</caption>\n",
       "<thead>\n",
       "\t<tr><th scope=col>Q1</th><th scope=col>Q2</th><th scope=col>Q3</th><th scope=col>Q4</th><th scope=col>Q5</th><th scope=col>Q6</th><th scope=col>Q7</th><th scope=col>Q8</th><th scope=col>Q9</th><th scope=col>Q10</th><th scope=col>⋯</th><th scope=col>Q46</th><th scope=col>Q47</th><th scope=col>Q48</th><th scope=col>Q49</th><th scope=col>Q50</th><th scope=col>Q51</th><th scope=col>Q52</th><th scope=col>Q53</th><th scope=col>Q54</th><th scope=col>Divorce</th></tr>\n",
       "\t<tr><th scope=col>&lt;dbl&gt;</th><th scope=col>&lt;dbl&gt;</th><th scope=col>&lt;dbl&gt;</th><th scope=col>&lt;dbl&gt;</th><th scope=col>&lt;dbl&gt;</th><th scope=col>&lt;dbl&gt;</th><th scope=col>&lt;dbl&gt;</th><th scope=col>&lt;dbl&gt;</th><th scope=col>&lt;dbl&gt;</th><th scope=col>&lt;dbl&gt;</th><th scope=col>⋯</th><th scope=col>&lt;dbl&gt;</th><th scope=col>&lt;dbl&gt;</th><th scope=col>&lt;dbl&gt;</th><th scope=col>&lt;dbl&gt;</th><th scope=col>&lt;dbl&gt;</th><th scope=col>&lt;dbl&gt;</th><th scope=col>&lt;dbl&gt;</th><th scope=col>&lt;dbl&gt;</th><th scope=col>&lt;dbl&gt;</th><th scope=col>&lt;dbl&gt;</th></tr>\n",
       "</thead>\n",
       "<tbody>\n",
       "\t<tr><td>2</td><td>2</td><td>4</td><td>1</td><td>0</td><td>0</td><td>0</td><td>0</td><td>0</td><td>0</td><td>⋯</td><td>2</td><td>1</td><td>3</td><td>3</td><td>3</td><td>2</td><td>3</td><td>2</td><td>1</td><td>1</td></tr>\n",
       "\t<tr><td>4</td><td>4</td><td>4</td><td>4</td><td>4</td><td>0</td><td>0</td><td>4</td><td>4</td><td>4</td><td>⋯</td><td>2</td><td>2</td><td>3</td><td>4</td><td>4</td><td>4</td><td>4</td><td>2</td><td>2</td><td>1</td></tr>\n",
       "\t<tr><td>2</td><td>2</td><td>2</td><td>2</td><td>1</td><td>3</td><td>2</td><td>1</td><td>1</td><td>2</td><td>⋯</td><td>3</td><td>2</td><td>3</td><td>1</td><td>1</td><td>1</td><td>2</td><td>2</td><td>2</td><td>1</td></tr>\n",
       "\t<tr><td>3</td><td>2</td><td>3</td><td>2</td><td>3</td><td>3</td><td>3</td><td>3</td><td>3</td><td>3</td><td>⋯</td><td>2</td><td>2</td><td>3</td><td>3</td><td>3</td><td>3</td><td>2</td><td>2</td><td>2</td><td>1</td></tr>\n",
       "\t<tr><td>2</td><td>2</td><td>1</td><td>1</td><td>1</td><td>1</td><td>0</td><td>0</td><td>0</td><td>0</td><td>⋯</td><td>2</td><td>1</td><td>2</td><td>3</td><td>2</td><td>2</td><td>2</td><td>1</td><td>0</td><td>1</td></tr>\n",
       "\t<tr><td>0</td><td>0</td><td>1</td><td>0</td><td>0</td><td>2</td><td>0</td><td>0</td><td>0</td><td>1</td><td>⋯</td><td>2</td><td>2</td><td>1</td><td>2</td><td>1</td><td>1</td><td>1</td><td>2</td><td>0</td><td>1</td></tr>\n",
       "</tbody>\n",
       "</table>\n"
      ],
      "text/latex": [
       "A tibble: 6 × 55\n",
       "\\begin{tabular}{lllllllllllllllllllll}\n",
       " Q1 & Q2 & Q3 & Q4 & Q5 & Q6 & Q7 & Q8 & Q9 & Q10 & ⋯ & Q46 & Q47 & Q48 & Q49 & Q50 & Q51 & Q52 & Q53 & Q54 & Divorce\\\\\n",
       " <dbl> & <dbl> & <dbl> & <dbl> & <dbl> & <dbl> & <dbl> & <dbl> & <dbl> & <dbl> & ⋯ & <dbl> & <dbl> & <dbl> & <dbl> & <dbl> & <dbl> & <dbl> & <dbl> & <dbl> & <dbl>\\\\\n",
       "\\hline\n",
       "\t 2 & 2 & 4 & 1 & 0 & 0 & 0 & 0 & 0 & 0 & ⋯ & 2 & 1 & 3 & 3 & 3 & 2 & 3 & 2 & 1 & 1\\\\\n",
       "\t 4 & 4 & 4 & 4 & 4 & 0 & 0 & 4 & 4 & 4 & ⋯ & 2 & 2 & 3 & 4 & 4 & 4 & 4 & 2 & 2 & 1\\\\\n",
       "\t 2 & 2 & 2 & 2 & 1 & 3 & 2 & 1 & 1 & 2 & ⋯ & 3 & 2 & 3 & 1 & 1 & 1 & 2 & 2 & 2 & 1\\\\\n",
       "\t 3 & 2 & 3 & 2 & 3 & 3 & 3 & 3 & 3 & 3 & ⋯ & 2 & 2 & 3 & 3 & 3 & 3 & 2 & 2 & 2 & 1\\\\\n",
       "\t 2 & 2 & 1 & 1 & 1 & 1 & 0 & 0 & 0 & 0 & ⋯ & 2 & 1 & 2 & 3 & 2 & 2 & 2 & 1 & 0 & 1\\\\\n",
       "\t 0 & 0 & 1 & 0 & 0 & 2 & 0 & 0 & 0 & 1 & ⋯ & 2 & 2 & 1 & 2 & 1 & 1 & 1 & 2 & 0 & 1\\\\\n",
       "\\end{tabular}\n"
      ],
      "text/markdown": [
       "\n",
       "A tibble: 6 × 55\n",
       "\n",
       "| Q1 &lt;dbl&gt; | Q2 &lt;dbl&gt; | Q3 &lt;dbl&gt; | Q4 &lt;dbl&gt; | Q5 &lt;dbl&gt; | Q6 &lt;dbl&gt; | Q7 &lt;dbl&gt; | Q8 &lt;dbl&gt; | Q9 &lt;dbl&gt; | Q10 &lt;dbl&gt; | ⋯ ⋯ | Q46 &lt;dbl&gt; | Q47 &lt;dbl&gt; | Q48 &lt;dbl&gt; | Q49 &lt;dbl&gt; | Q50 &lt;dbl&gt; | Q51 &lt;dbl&gt; | Q52 &lt;dbl&gt; | Q53 &lt;dbl&gt; | Q54 &lt;dbl&gt; | Divorce &lt;dbl&gt; |\n",
       "|---|---|---|---|---|---|---|---|---|---|---|---|---|---|---|---|---|---|---|---|---|\n",
       "| 2 | 2 | 4 | 1 | 0 | 0 | 0 | 0 | 0 | 0 | ⋯ | 2 | 1 | 3 | 3 | 3 | 2 | 3 | 2 | 1 | 1 |\n",
       "| 4 | 4 | 4 | 4 | 4 | 0 | 0 | 4 | 4 | 4 | ⋯ | 2 | 2 | 3 | 4 | 4 | 4 | 4 | 2 | 2 | 1 |\n",
       "| 2 | 2 | 2 | 2 | 1 | 3 | 2 | 1 | 1 | 2 | ⋯ | 3 | 2 | 3 | 1 | 1 | 1 | 2 | 2 | 2 | 1 |\n",
       "| 3 | 2 | 3 | 2 | 3 | 3 | 3 | 3 | 3 | 3 | ⋯ | 2 | 2 | 3 | 3 | 3 | 3 | 2 | 2 | 2 | 1 |\n",
       "| 2 | 2 | 1 | 1 | 1 | 1 | 0 | 0 | 0 | 0 | ⋯ | 2 | 1 | 2 | 3 | 2 | 2 | 2 | 1 | 0 | 1 |\n",
       "| 0 | 0 | 1 | 0 | 0 | 2 | 0 | 0 | 0 | 1 | ⋯ | 2 | 2 | 1 | 2 | 1 | 1 | 1 | 2 | 0 | 1 |\n",
       "\n"
      ],
      "text/plain": [
       "  Q1 Q2 Q3 Q4 Q5 Q6 Q7 Q8 Q9 Q10 ⋯ Q46 Q47 Q48 Q49 Q50 Q51 Q52 Q53 Q54 Divorce\n",
       "1 2  2  4  1  0  0  0  0  0  0   ⋯ 2   1   3   3   3   2   3   2   1   1      \n",
       "2 4  4  4  4  4  0  0  4  4  4   ⋯ 2   2   3   4   4   4   4   2   2   1      \n",
       "3 2  2  2  2  1  3  2  1  1  2   ⋯ 3   2   3   1   1   1   2   2   2   1      \n",
       "4 3  2  3  2  3  3  3  3  3  3   ⋯ 2   2   3   3   3   3   2   2   2   1      \n",
       "5 2  2  1  1  1  1  0  0  0  0   ⋯ 2   1   2   3   2   2   2   1   0   1      \n",
       "6 0  0  1  0  0  2  0  0  0  1   ⋯ 2   2   1   2   1   1   1   2   0   1      "
      ]
     },
     "metadata": {},
     "output_type": "display_data"
    }
   ],
   "source": [
    "my_url <- \"https://raw.githubusercontent.com/apurva-b/dsci100-project-58/main/divorce_data.csv\"\n",
    "data <- read_delim(my_url, delim = \";\")\n",
    "head(data)"
   ]
  },
  {
   "cell_type": "markdown",
   "id": "692472a4-5c4d-494b-b643-b833a4928542",
   "metadata": {},
   "source": [
    "**Step 2** - Selecting the columns that are relevant to our variables and research question and mutate the data so that the Divorce column is read as a factor instead of an integer\n"
   ]
  },
  {
   "cell_type": "code",
   "execution_count": 3,
   "id": "d1e73314-58df-4ab2-8e4d-ddc9e7bd1da6",
   "metadata": {
    "tags": []
   },
   "outputs": [],
   "source": [
    "data <- data |> \n",
    "    mutate(Divorce = as_factor(Divorce))\n",
    "\n",
    "selected_data <- select(data, Divorce, Q32:Q37, Q52, Q31, Q38, Q41, Q48, Q53, Q54, Q49, Q50, Q51, Q42:Q47 )"
   ]
  },
  {
   "cell_type": "code",
   "execution_count": 4,
   "id": "3ecdc643-ba7d-402c-84e6-d80531e767aa",
   "metadata": {
    "tags": []
   },
   "outputs": [
    {
     "data": {
      "text/html": [
       "<table class=\"dataframe\">\n",
       "<caption>A tibble: 6 × 23</caption>\n",
       "<thead>\n",
       "\t<tr><th scope=col>Divorce</th><th scope=col>Q32</th><th scope=col>Q33</th><th scope=col>Q34</th><th scope=col>Q35</th><th scope=col>Q36</th><th scope=col>Q37</th><th scope=col>Q52</th><th scope=col>Q31</th><th scope=col>Q38</th><th scope=col>⋯</th><th scope=col>Q54</th><th scope=col>Q49</th><th scope=col>Q50</th><th scope=col>Q51</th><th scope=col>Q42</th><th scope=col>Q43</th><th scope=col>Q44</th><th scope=col>Q45</th><th scope=col>Q46</th><th scope=col>Q47</th></tr>\n",
       "\t<tr><th scope=col>&lt;fct&gt;</th><th scope=col>&lt;dbl&gt;</th><th scope=col>&lt;dbl&gt;</th><th scope=col>&lt;dbl&gt;</th><th scope=col>&lt;dbl&gt;</th><th scope=col>&lt;dbl&gt;</th><th scope=col>&lt;dbl&gt;</th><th scope=col>&lt;dbl&gt;</th><th scope=col>&lt;dbl&gt;</th><th scope=col>&lt;dbl&gt;</th><th scope=col>⋯</th><th scope=col>&lt;dbl&gt;</th><th scope=col>&lt;dbl&gt;</th><th scope=col>&lt;dbl&gt;</th><th scope=col>&lt;dbl&gt;</th><th scope=col>&lt;dbl&gt;</th><th scope=col>&lt;dbl&gt;</th><th scope=col>&lt;dbl&gt;</th><th scope=col>&lt;dbl&gt;</th><th scope=col>&lt;dbl&gt;</th><th scope=col>&lt;dbl&gt;</th></tr>\n",
       "</thead>\n",
       "<tbody>\n",
       "\t<tr><td>1</td><td>2</td><td>1</td><td>2</td><td>0</td><td>1</td><td>2</td><td>3</td><td>1</td><td>1</td><td>⋯</td><td>1</td><td>3</td><td>3</td><td>2</td><td>1</td><td>1</td><td>2</td><td>3</td><td>2</td><td>1</td></tr>\n",
       "\t<tr><td>1</td><td>4</td><td>2</td><td>3</td><td>0</td><td>2</td><td>3</td><td>4</td><td>0</td><td>4</td><td>⋯</td><td>2</td><td>4</td><td>4</td><td>4</td><td>2</td><td>3</td><td>4</td><td>2</td><td>2</td><td>2</td></tr>\n",
       "\t<tr><td>1</td><td>3</td><td>1</td><td>1</td><td>1</td><td>1</td><td>2</td><td>2</td><td>3</td><td>1</td><td>⋯</td><td>2</td><td>1</td><td>1</td><td>1</td><td>3</td><td>2</td><td>3</td><td>2</td><td>3</td><td>2</td></tr>\n",
       "\t<tr><td>1</td><td>3</td><td>2</td><td>2</td><td>1</td><td>1</td><td>3</td><td>2</td><td>2</td><td>3</td><td>⋯</td><td>2</td><td>3</td><td>3</td><td>3</td><td>2</td><td>3</td><td>2</td><td>3</td><td>2</td><td>2</td></tr>\n",
       "\t<tr><td>1</td><td>1</td><td>1</td><td>1</td><td>0</td><td>0</td><td>0</td><td>2</td><td>1</td><td>0</td><td>⋯</td><td>0</td><td>3</td><td>2</td><td>2</td><td>2</td><td>3</td><td>0</td><td>2</td><td>2</td><td>1</td></tr>\n",
       "\t<tr><td>1</td><td>1</td><td>1</td><td>1</td><td>1</td><td>1</td><td>1</td><td>1</td><td>4</td><td>2</td><td>⋯</td><td>0</td><td>2</td><td>1</td><td>1</td><td>1</td><td>2</td><td>3</td><td>0</td><td>2</td><td>2</td></tr>\n",
       "</tbody>\n",
       "</table>\n"
      ],
      "text/latex": [
       "A tibble: 6 × 23\n",
       "\\begin{tabular}{lllllllllllllllllllll}\n",
       " Divorce & Q32 & Q33 & Q34 & Q35 & Q36 & Q37 & Q52 & Q31 & Q38 & ⋯ & Q54 & Q49 & Q50 & Q51 & Q42 & Q43 & Q44 & Q45 & Q46 & Q47\\\\\n",
       " <fct> & <dbl> & <dbl> & <dbl> & <dbl> & <dbl> & <dbl> & <dbl> & <dbl> & <dbl> & ⋯ & <dbl> & <dbl> & <dbl> & <dbl> & <dbl> & <dbl> & <dbl> & <dbl> & <dbl> & <dbl>\\\\\n",
       "\\hline\n",
       "\t 1 & 2 & 1 & 2 & 0 & 1 & 2 & 3 & 1 & 1 & ⋯ & 1 & 3 & 3 & 2 & 1 & 1 & 2 & 3 & 2 & 1\\\\\n",
       "\t 1 & 4 & 2 & 3 & 0 & 2 & 3 & 4 & 0 & 4 & ⋯ & 2 & 4 & 4 & 4 & 2 & 3 & 4 & 2 & 2 & 2\\\\\n",
       "\t 1 & 3 & 1 & 1 & 1 & 1 & 2 & 2 & 3 & 1 & ⋯ & 2 & 1 & 1 & 1 & 3 & 2 & 3 & 2 & 3 & 2\\\\\n",
       "\t 1 & 3 & 2 & 2 & 1 & 1 & 3 & 2 & 2 & 3 & ⋯ & 2 & 3 & 3 & 3 & 2 & 3 & 2 & 3 & 2 & 2\\\\\n",
       "\t 1 & 1 & 1 & 1 & 0 & 0 & 0 & 2 & 1 & 0 & ⋯ & 0 & 3 & 2 & 2 & 2 & 3 & 0 & 2 & 2 & 1\\\\\n",
       "\t 1 & 1 & 1 & 1 & 1 & 1 & 1 & 1 & 4 & 2 & ⋯ & 0 & 2 & 1 & 1 & 1 & 2 & 3 & 0 & 2 & 2\\\\\n",
       "\\end{tabular}\n"
      ],
      "text/markdown": [
       "\n",
       "A tibble: 6 × 23\n",
       "\n",
       "| Divorce &lt;fct&gt; | Q32 &lt;dbl&gt; | Q33 &lt;dbl&gt; | Q34 &lt;dbl&gt; | Q35 &lt;dbl&gt; | Q36 &lt;dbl&gt; | Q37 &lt;dbl&gt; | Q52 &lt;dbl&gt; | Q31 &lt;dbl&gt; | Q38 &lt;dbl&gt; | ⋯ ⋯ | Q54 &lt;dbl&gt; | Q49 &lt;dbl&gt; | Q50 &lt;dbl&gt; | Q51 &lt;dbl&gt; | Q42 &lt;dbl&gt; | Q43 &lt;dbl&gt; | Q44 &lt;dbl&gt; | Q45 &lt;dbl&gt; | Q46 &lt;dbl&gt; | Q47 &lt;dbl&gt; |\n",
       "|---|---|---|---|---|---|---|---|---|---|---|---|---|---|---|---|---|---|---|---|---|\n",
       "| 1 | 2 | 1 | 2 | 0 | 1 | 2 | 3 | 1 | 1 | ⋯ | 1 | 3 | 3 | 2 | 1 | 1 | 2 | 3 | 2 | 1 |\n",
       "| 1 | 4 | 2 | 3 | 0 | 2 | 3 | 4 | 0 | 4 | ⋯ | 2 | 4 | 4 | 4 | 2 | 3 | 4 | 2 | 2 | 2 |\n",
       "| 1 | 3 | 1 | 1 | 1 | 1 | 2 | 2 | 3 | 1 | ⋯ | 2 | 1 | 1 | 1 | 3 | 2 | 3 | 2 | 3 | 2 |\n",
       "| 1 | 3 | 2 | 2 | 1 | 1 | 3 | 2 | 2 | 3 | ⋯ | 2 | 3 | 3 | 3 | 2 | 3 | 2 | 3 | 2 | 2 |\n",
       "| 1 | 1 | 1 | 1 | 0 | 0 | 0 | 2 | 1 | 0 | ⋯ | 0 | 3 | 2 | 2 | 2 | 3 | 0 | 2 | 2 | 1 |\n",
       "| 1 | 1 | 1 | 1 | 1 | 1 | 1 | 1 | 4 | 2 | ⋯ | 0 | 2 | 1 | 1 | 1 | 2 | 3 | 0 | 2 | 2 |\n",
       "\n"
      ],
      "text/plain": [
       "  Divorce Q32 Q33 Q34 Q35 Q36 Q37 Q52 Q31 Q38 ⋯ Q54 Q49 Q50 Q51 Q42 Q43 Q44 Q45\n",
       "1 1       2   1   2   0   1   2   3   1   1   ⋯ 1   3   3   2   1   1   2   3  \n",
       "2 1       4   2   3   0   2   3   4   0   4   ⋯ 2   4   4   4   2   3   4   2  \n",
       "3 1       3   1   1   1   1   2   2   3   1   ⋯ 2   1   1   1   3   2   3   2  \n",
       "4 1       3   2   2   1   1   3   2   2   3   ⋯ 2   3   3   3   2   3   2   3  \n",
       "5 1       1   1   1   0   0   0   2   1   0   ⋯ 0   3   2   2   2   3   0   2  \n",
       "6 1       1   1   1   1   1   1   1   4   2   ⋯ 0   2   1   1   1   2   3   0  \n",
       "  Q46 Q47\n",
       "1 2   1  \n",
       "2 2   2  \n",
       "3 3   2  \n",
       "4 2   2  \n",
       "5 2   1  \n",
       "6 2   2  "
      ]
     },
     "metadata": {},
     "output_type": "display_data"
    }
   ],
   "source": [
    "head(selected_data)"
   ]
  },
  {
   "cell_type": "markdown",
   "id": "10148753-8a63-4b55-a01f-af5a85a37028",
   "metadata": {},
   "source": [
    "**Step 3** - Creating a new column for each negative communication style by averaging the score for the questions relevant for them. \n",
    "\n",
    "For example- Creating a column named Contempt that includes the average score of all the questions that correspond to having contempt in a relationship"
   ]
  },
  {
   "cell_type": "code",
   "execution_count": 5,
   "id": "3890fb62-9286-440b-98f2-7dec17c997de",
   "metadata": {
    "tags": []
   },
   "outputs": [],
   "source": [
    "mutated_data <- selected_data %>%\n",
    "mutate( \n",
    "    Criticism= rowMeans(across(2:8)), \n",
    "    Contempt= rowMeans(across(9:14)), \n",
    "    Defensiveness= rowMeans(across(15:17)), \n",
    "    Stonewalling = rowMeans(across(18:23)))"
   ]
  },
  {
   "cell_type": "code",
   "execution_count": 6,
   "id": "b594d338-3a66-4a0a-84ff-efb54ab82489",
   "metadata": {
    "tags": []
   },
   "outputs": [
    {
     "data": {
      "text/html": [
       "<table class=\"dataframe\">\n",
       "<caption>A tibble: 6 × 27</caption>\n",
       "<thead>\n",
       "\t<tr><th scope=col>Divorce</th><th scope=col>Q32</th><th scope=col>Q33</th><th scope=col>Q34</th><th scope=col>Q35</th><th scope=col>Q36</th><th scope=col>Q37</th><th scope=col>Q52</th><th scope=col>Q31</th><th scope=col>Q38</th><th scope=col>⋯</th><th scope=col>Q42</th><th scope=col>Q43</th><th scope=col>Q44</th><th scope=col>Q45</th><th scope=col>Q46</th><th scope=col>Q47</th><th scope=col>Criticism</th><th scope=col>Contempt</th><th scope=col>Defensiveness</th><th scope=col>Stonewalling</th></tr>\n",
       "\t<tr><th scope=col>&lt;fct&gt;</th><th scope=col>&lt;dbl&gt;</th><th scope=col>&lt;dbl&gt;</th><th scope=col>&lt;dbl&gt;</th><th scope=col>&lt;dbl&gt;</th><th scope=col>&lt;dbl&gt;</th><th scope=col>&lt;dbl&gt;</th><th scope=col>&lt;dbl&gt;</th><th scope=col>&lt;dbl&gt;</th><th scope=col>&lt;dbl&gt;</th><th scope=col>⋯</th><th scope=col>&lt;dbl&gt;</th><th scope=col>&lt;dbl&gt;</th><th scope=col>&lt;dbl&gt;</th><th scope=col>&lt;dbl&gt;</th><th scope=col>&lt;dbl&gt;</th><th scope=col>&lt;dbl&gt;</th><th scope=col>&lt;dbl&gt;</th><th scope=col>&lt;dbl&gt;</th><th scope=col>&lt;dbl&gt;</th><th scope=col>&lt;dbl&gt;</th></tr>\n",
       "</thead>\n",
       "<tbody>\n",
       "\t<tr><td>1</td><td>2</td><td>1</td><td>2</td><td>0</td><td>1</td><td>2</td><td>3</td><td>1</td><td>1</td><td>⋯</td><td>1</td><td>1</td><td>2</td><td>3</td><td>2</td><td>1</td><td>1.5714286</td><td>1.6666667</td><td>2.666667</td><td>1.666667</td></tr>\n",
       "\t<tr><td>1</td><td>4</td><td>2</td><td>3</td><td>0</td><td>2</td><td>3</td><td>4</td><td>0</td><td>4</td><td>⋯</td><td>2</td><td>3</td><td>4</td><td>2</td><td>2</td><td>2</td><td>2.5714286</td><td>2.1666667</td><td>4.000000</td><td>2.500000</td></tr>\n",
       "\t<tr><td>1</td><td>3</td><td>1</td><td>1</td><td>1</td><td>1</td><td>2</td><td>2</td><td>3</td><td>1</td><td>⋯</td><td>3</td><td>2</td><td>3</td><td>2</td><td>3</td><td>2</td><td>1.5714286</td><td>2.3333333</td><td>1.000000</td><td>2.500000</td></tr>\n",
       "\t<tr><td>1</td><td>3</td><td>2</td><td>2</td><td>1</td><td>1</td><td>3</td><td>2</td><td>2</td><td>3</td><td>⋯</td><td>2</td><td>3</td><td>2</td><td>3</td><td>2</td><td>2</td><td>2.0000000</td><td>2.3333333</td><td>3.000000</td><td>2.333333</td></tr>\n",
       "\t<tr><td>1</td><td>1</td><td>1</td><td>1</td><td>0</td><td>0</td><td>0</td><td>2</td><td>1</td><td>0</td><td>⋯</td><td>2</td><td>3</td><td>0</td><td>2</td><td>2</td><td>1</td><td>0.7142857</td><td>0.6666667</td><td>2.333333</td><td>1.666667</td></tr>\n",
       "\t<tr><td>1</td><td>1</td><td>1</td><td>1</td><td>1</td><td>1</td><td>1</td><td>1</td><td>4</td><td>2</td><td>⋯</td><td>1</td><td>2</td><td>3</td><td>0</td><td>2</td><td>2</td><td>1.0000000</td><td>1.8333333</td><td>1.333333</td><td>1.666667</td></tr>\n",
       "</tbody>\n",
       "</table>\n"
      ],
      "text/latex": [
       "A tibble: 6 × 27\n",
       "\\begin{tabular}{lllllllllllllllllllll}\n",
       " Divorce & Q32 & Q33 & Q34 & Q35 & Q36 & Q37 & Q52 & Q31 & Q38 & ⋯ & Q42 & Q43 & Q44 & Q45 & Q46 & Q47 & Criticism & Contempt & Defensiveness & Stonewalling\\\\\n",
       " <fct> & <dbl> & <dbl> & <dbl> & <dbl> & <dbl> & <dbl> & <dbl> & <dbl> & <dbl> & ⋯ & <dbl> & <dbl> & <dbl> & <dbl> & <dbl> & <dbl> & <dbl> & <dbl> & <dbl> & <dbl>\\\\\n",
       "\\hline\n",
       "\t 1 & 2 & 1 & 2 & 0 & 1 & 2 & 3 & 1 & 1 & ⋯ & 1 & 1 & 2 & 3 & 2 & 1 & 1.5714286 & 1.6666667 & 2.666667 & 1.666667\\\\\n",
       "\t 1 & 4 & 2 & 3 & 0 & 2 & 3 & 4 & 0 & 4 & ⋯ & 2 & 3 & 4 & 2 & 2 & 2 & 2.5714286 & 2.1666667 & 4.000000 & 2.500000\\\\\n",
       "\t 1 & 3 & 1 & 1 & 1 & 1 & 2 & 2 & 3 & 1 & ⋯ & 3 & 2 & 3 & 2 & 3 & 2 & 1.5714286 & 2.3333333 & 1.000000 & 2.500000\\\\\n",
       "\t 1 & 3 & 2 & 2 & 1 & 1 & 3 & 2 & 2 & 3 & ⋯ & 2 & 3 & 2 & 3 & 2 & 2 & 2.0000000 & 2.3333333 & 3.000000 & 2.333333\\\\\n",
       "\t 1 & 1 & 1 & 1 & 0 & 0 & 0 & 2 & 1 & 0 & ⋯ & 2 & 3 & 0 & 2 & 2 & 1 & 0.7142857 & 0.6666667 & 2.333333 & 1.666667\\\\\n",
       "\t 1 & 1 & 1 & 1 & 1 & 1 & 1 & 1 & 4 & 2 & ⋯ & 1 & 2 & 3 & 0 & 2 & 2 & 1.0000000 & 1.8333333 & 1.333333 & 1.666667\\\\\n",
       "\\end{tabular}\n"
      ],
      "text/markdown": [
       "\n",
       "A tibble: 6 × 27\n",
       "\n",
       "| Divorce &lt;fct&gt; | Q32 &lt;dbl&gt; | Q33 &lt;dbl&gt; | Q34 &lt;dbl&gt; | Q35 &lt;dbl&gt; | Q36 &lt;dbl&gt; | Q37 &lt;dbl&gt; | Q52 &lt;dbl&gt; | Q31 &lt;dbl&gt; | Q38 &lt;dbl&gt; | ⋯ ⋯ | Q42 &lt;dbl&gt; | Q43 &lt;dbl&gt; | Q44 &lt;dbl&gt; | Q45 &lt;dbl&gt; | Q46 &lt;dbl&gt; | Q47 &lt;dbl&gt; | Criticism &lt;dbl&gt; | Contempt &lt;dbl&gt; | Defensiveness &lt;dbl&gt; | Stonewalling &lt;dbl&gt; |\n",
       "|---|---|---|---|---|---|---|---|---|---|---|---|---|---|---|---|---|---|---|---|---|\n",
       "| 1 | 2 | 1 | 2 | 0 | 1 | 2 | 3 | 1 | 1 | ⋯ | 1 | 1 | 2 | 3 | 2 | 1 | 1.5714286 | 1.6666667 | 2.666667 | 1.666667 |\n",
       "| 1 | 4 | 2 | 3 | 0 | 2 | 3 | 4 | 0 | 4 | ⋯ | 2 | 3 | 4 | 2 | 2 | 2 | 2.5714286 | 2.1666667 | 4.000000 | 2.500000 |\n",
       "| 1 | 3 | 1 | 1 | 1 | 1 | 2 | 2 | 3 | 1 | ⋯ | 3 | 2 | 3 | 2 | 3 | 2 | 1.5714286 | 2.3333333 | 1.000000 | 2.500000 |\n",
       "| 1 | 3 | 2 | 2 | 1 | 1 | 3 | 2 | 2 | 3 | ⋯ | 2 | 3 | 2 | 3 | 2 | 2 | 2.0000000 | 2.3333333 | 3.000000 | 2.333333 |\n",
       "| 1 | 1 | 1 | 1 | 0 | 0 | 0 | 2 | 1 | 0 | ⋯ | 2 | 3 | 0 | 2 | 2 | 1 | 0.7142857 | 0.6666667 | 2.333333 | 1.666667 |\n",
       "| 1 | 1 | 1 | 1 | 1 | 1 | 1 | 1 | 4 | 2 | ⋯ | 1 | 2 | 3 | 0 | 2 | 2 | 1.0000000 | 1.8333333 | 1.333333 | 1.666667 |\n",
       "\n"
      ],
      "text/plain": [
       "  Divorce Q32 Q33 Q34 Q35 Q36 Q37 Q52 Q31 Q38 ⋯ Q42 Q43 Q44 Q45 Q46 Q47\n",
       "1 1       2   1   2   0   1   2   3   1   1   ⋯ 1   1   2   3   2   1  \n",
       "2 1       4   2   3   0   2   3   4   0   4   ⋯ 2   3   4   2   2   2  \n",
       "3 1       3   1   1   1   1   2   2   3   1   ⋯ 3   2   3   2   3   2  \n",
       "4 1       3   2   2   1   1   3   2   2   3   ⋯ 2   3   2   3   2   2  \n",
       "5 1       1   1   1   0   0   0   2   1   0   ⋯ 2   3   0   2   2   1  \n",
       "6 1       1   1   1   1   1   1   1   4   2   ⋯ 1   2   3   0   2   2  \n",
       "  Criticism Contempt  Defensiveness Stonewalling\n",
       "1 1.5714286 1.6666667 2.666667      1.666667    \n",
       "2 2.5714286 2.1666667 4.000000      2.500000    \n",
       "3 1.5714286 2.3333333 1.000000      2.500000    \n",
       "4 2.0000000 2.3333333 3.000000      2.333333    \n",
       "5 0.7142857 0.6666667 2.333333      1.666667    \n",
       "6 1.0000000 1.8333333 1.333333      1.666667    "
      ]
     },
     "metadata": {},
     "output_type": "display_data"
    }
   ],
   "source": [
    "head(mutated_data)"
   ]
  },
  {
   "cell_type": "markdown",
   "id": "bb755ca6-30c0-492f-9269-221187d60b62",
   "metadata": {},
   "source": [
    "**Step 4** - Selecting the columns relevant for our analysis"
   ]
  },
  {
   "cell_type": "code",
   "execution_count": 7,
   "id": "4bf11909-cea7-4a0d-ad65-c8d297d622a6",
   "metadata": {
    "tags": []
   },
   "outputs": [],
   "source": [
    "final_dataset <- select(mutated_data, Divorce, Criticism, Contempt, Defensiveness, Stonewalling)"
   ]
  },
  {
   "cell_type": "code",
   "execution_count": 8,
   "id": "3a4d24fd-d00c-4c0a-a112-5054446ff860",
   "metadata": {
    "tags": []
   },
   "outputs": [
    {
     "data": {
      "text/html": [
       "<table class=\"dataframe\">\n",
       "<caption>A tibble: 6 × 5</caption>\n",
       "<thead>\n",
       "\t<tr><th scope=col>Divorce</th><th scope=col>Criticism</th><th scope=col>Contempt</th><th scope=col>Defensiveness</th><th scope=col>Stonewalling</th></tr>\n",
       "\t<tr><th scope=col>&lt;fct&gt;</th><th scope=col>&lt;dbl&gt;</th><th scope=col>&lt;dbl&gt;</th><th scope=col>&lt;dbl&gt;</th><th scope=col>&lt;dbl&gt;</th></tr>\n",
       "</thead>\n",
       "<tbody>\n",
       "\t<tr><td>1</td><td>1.5714286</td><td>1.6666667</td><td>2.666667</td><td>1.666667</td></tr>\n",
       "\t<tr><td>1</td><td>2.5714286</td><td>2.1666667</td><td>4.000000</td><td>2.500000</td></tr>\n",
       "\t<tr><td>1</td><td>1.5714286</td><td>2.3333333</td><td>1.000000</td><td>2.500000</td></tr>\n",
       "\t<tr><td>1</td><td>2.0000000</td><td>2.3333333</td><td>3.000000</td><td>2.333333</td></tr>\n",
       "\t<tr><td>1</td><td>0.7142857</td><td>0.6666667</td><td>2.333333</td><td>1.666667</td></tr>\n",
       "\t<tr><td>1</td><td>1.0000000</td><td>1.8333333</td><td>1.333333</td><td>1.666667</td></tr>\n",
       "</tbody>\n",
       "</table>\n"
      ],
      "text/latex": [
       "A tibble: 6 × 5\n",
       "\\begin{tabular}{lllll}\n",
       " Divorce & Criticism & Contempt & Defensiveness & Stonewalling\\\\\n",
       " <fct> & <dbl> & <dbl> & <dbl> & <dbl>\\\\\n",
       "\\hline\n",
       "\t 1 & 1.5714286 & 1.6666667 & 2.666667 & 1.666667\\\\\n",
       "\t 1 & 2.5714286 & 2.1666667 & 4.000000 & 2.500000\\\\\n",
       "\t 1 & 1.5714286 & 2.3333333 & 1.000000 & 2.500000\\\\\n",
       "\t 1 & 2.0000000 & 2.3333333 & 3.000000 & 2.333333\\\\\n",
       "\t 1 & 0.7142857 & 0.6666667 & 2.333333 & 1.666667\\\\\n",
       "\t 1 & 1.0000000 & 1.8333333 & 1.333333 & 1.666667\\\\\n",
       "\\end{tabular}\n"
      ],
      "text/markdown": [
       "\n",
       "A tibble: 6 × 5\n",
       "\n",
       "| Divorce &lt;fct&gt; | Criticism &lt;dbl&gt; | Contempt &lt;dbl&gt; | Defensiveness &lt;dbl&gt; | Stonewalling &lt;dbl&gt; |\n",
       "|---|---|---|---|---|\n",
       "| 1 | 1.5714286 | 1.6666667 | 2.666667 | 1.666667 |\n",
       "| 1 | 2.5714286 | 2.1666667 | 4.000000 | 2.500000 |\n",
       "| 1 | 1.5714286 | 2.3333333 | 1.000000 | 2.500000 |\n",
       "| 1 | 2.0000000 | 2.3333333 | 3.000000 | 2.333333 |\n",
       "| 1 | 0.7142857 | 0.6666667 | 2.333333 | 1.666667 |\n",
       "| 1 | 1.0000000 | 1.8333333 | 1.333333 | 1.666667 |\n",
       "\n"
      ],
      "text/plain": [
       "  Divorce Criticism Contempt  Defensiveness Stonewalling\n",
       "1 1       1.5714286 1.6666667 2.666667      1.666667    \n",
       "2 1       2.5714286 2.1666667 4.000000      2.500000    \n",
       "3 1       1.5714286 2.3333333 1.000000      2.500000    \n",
       "4 1       2.0000000 2.3333333 3.000000      2.333333    \n",
       "5 1       0.7142857 0.6666667 2.333333      1.666667    \n",
       "6 1       1.0000000 1.8333333 1.333333      1.666667    "
      ]
     },
     "metadata": {},
     "output_type": "display_data"
    }
   ],
   "source": [
    "head(final_dataset)"
   ]
  },
  {
   "cell_type": "markdown",
   "id": "14cd9b7c-c1f4-4f9b-a850-bbbf99244257",
   "metadata": {},
   "source": [
    "# Summary Table \n",
    "The summary table provides a general idea of how average scores across the divorce predictors are correlated with the marriage status, where Marriage = 0, and Divorce = 1. "
   ]
  },
  {
   "cell_type": "code",
   "execution_count": 43,
   "id": "c7587c6b-03f2-4c62-821a-a077bf41604b",
   "metadata": {},
   "outputs": [
    {
     "data": {
      "text/html": [
       "<table class=\"dataframe\">\n",
       "<caption>A tibble: 2 × 5</caption>\n",
       "<thead>\n",
       "\t<tr><th scope=col>Divorce</th><th scope=col>Criticism</th><th scope=col>Contempt</th><th scope=col>Defensiveness</th><th scope=col>Stonewalling</th></tr>\n",
       "\t<tr><th scope=col>&lt;fct&gt;</th><th scope=col>&lt;dbl&gt;</th><th scope=col>&lt;dbl&gt;</th><th scope=col>&lt;dbl&gt;</th><th scope=col>&lt;dbl&gt;</th></tr>\n",
       "</thead>\n",
       "<tbody>\n",
       "\t<tr><td>0</td><td>0.5598007</td><td>0.9302326</td><td>1.426357</td><td>1.391473</td></tr>\n",
       "\t<tr><td>1</td><td>3.3724490</td><td>3.4226190</td><td>3.456349</td><td>3.327381</td></tr>\n",
       "</tbody>\n",
       "</table>\n"
      ],
      "text/latex": [
       "A tibble: 2 × 5\n",
       "\\begin{tabular}{lllll}\n",
       " Divorce & Criticism & Contempt & Defensiveness & Stonewalling\\\\\n",
       " <fct> & <dbl> & <dbl> & <dbl> & <dbl>\\\\\n",
       "\\hline\n",
       "\t 0 & 0.5598007 & 0.9302326 & 1.426357 & 1.391473\\\\\n",
       "\t 1 & 3.3724490 & 3.4226190 & 3.456349 & 3.327381\\\\\n",
       "\\end{tabular}\n"
      ],
      "text/markdown": [
       "\n",
       "A tibble: 2 × 5\n",
       "\n",
       "| Divorce &lt;fct&gt; | Criticism &lt;dbl&gt; | Contempt &lt;dbl&gt; | Defensiveness &lt;dbl&gt; | Stonewalling &lt;dbl&gt; |\n",
       "|---|---|---|---|---|\n",
       "| 0 | 0.5598007 | 0.9302326 | 1.426357 | 1.391473 |\n",
       "| 1 | 3.3724490 | 3.4226190 | 3.456349 | 3.327381 |\n",
       "\n"
      ],
      "text/plain": [
       "  Divorce Criticism Contempt  Defensiveness Stonewalling\n",
       "1 0       0.5598007 0.9302326 1.426357      1.391473    \n",
       "2 1       3.3724490 3.4226190 3.456349      3.327381    "
      ]
     },
     "metadata": {},
     "output_type": "display_data"
    }
   ],
   "source": [
    "divorce_summary_table <- final_dataset |>\n",
    "                group_by(Divorce) |>\n",
    "                summarise(across(Criticism:Stonewalling, mean))\n",
    "\n",
    "divorce_summary_table"
   ]
  },
  {
   "cell_type": "markdown",
   "id": "e0e96f11-fb5e-4f73-97fe-38e3ab87b1f4",
   "metadata": {},
   "source": [
    "\n",
    "# Methods \n",
    "\n",
    "We are using knn classification to predict if a couple will divorce or not as we are identifying between two classes(1 and 0) instead predicting a number. \n",
    "\n",
    "To visualize our data, we will use a grouped bar graph where each group represents the marriage status (divorced or married), each group has data from the 4 variables with corresponding average scores in those categories shown on the y-axis. This would be a visually simplistic way to compare overall scores between the married and divorced cohorts, determine which variable (or communication pattern) correlates the strongest with the outcome of divorce.\n",
    "\n",
    "**Expected Outcomes and Significance**\n",
    "We expect to find out how likely couples are to get a divorce based on how they answer these questions. \n",
    "The impact of these findings could astronomically change the way couples about to get married feel about their relationship and help them look at their compatibility and how they approach their relationship. It also could potentially give new couples the information they need to target their weaker areas in their relationship allowing them to properly tackle issues and arguments that may arise in their marriage, in turn helping lower their chances of divorce. \n",
    "\n",
    "Possible future questions this could lead to could include: should certain couples get married?  Are specific personality types and people better suited together? Is there a way to change how people deal with communication if they score worse in order to save their marriage?\n",
    " \n"
   ]
  },
  {
   "cell_type": "markdown",
   "id": "1a0b6882-a8ca-4f28-be2d-d961a3677be1",
   "metadata": {},
   "source": [
    "**Cross-Validation** - The graph is split into 75% training data and 25% testing data as it is a good split in order to train the data while making sure the testing data is large enough."
   ]
  },
  {
   "cell_type": "code",
   "execution_count": 9,
   "id": "ed375872-ba6e-4bb7-8d65-375661cbfc3d",
   "metadata": {},
   "outputs": [
    {
     "data": {
      "text/html": [
       "<table class=\"dataframe\">\n",
       "<caption>A tibble: 6 × 5</caption>\n",
       "<thead>\n",
       "\t<tr><th scope=col>Divorce</th><th scope=col>Criticism</th><th scope=col>Contempt</th><th scope=col>Defensiveness</th><th scope=col>Stonewalling</th></tr>\n",
       "\t<tr><th scope=col>&lt;fct&gt;</th><th scope=col>&lt;dbl&gt;</th><th scope=col>&lt;dbl&gt;</th><th scope=col>&lt;dbl&gt;</th><th scope=col>&lt;dbl&gt;</th></tr>\n",
       "</thead>\n",
       "<tbody>\n",
       "\t<tr><td>0</td><td>0.1428571</td><td>0.6666667</td><td>0.0000000</td><td>0.8333333</td></tr>\n",
       "\t<tr><td>0</td><td>0.4285714</td><td>0.8333333</td><td>0.3333333</td><td>0.5000000</td></tr>\n",
       "\t<tr><td>0</td><td>0.0000000</td><td>0.6666667</td><td>0.0000000</td><td>0.0000000</td></tr>\n",
       "\t<tr><td>0</td><td>0.7142857</td><td>1.0000000</td><td>1.0000000</td><td>0.1666667</td></tr>\n",
       "\t<tr><td>0</td><td>0.2857143</td><td>0.1666667</td><td>0.0000000</td><td>1.1666667</td></tr>\n",
       "\t<tr><td>0</td><td>0.1428571</td><td>0.3333333</td><td>1.0000000</td><td>1.0000000</td></tr>\n",
       "</tbody>\n",
       "</table>\n"
      ],
      "text/latex": [
       "A tibble: 6 × 5\n",
       "\\begin{tabular}{lllll}\n",
       " Divorce & Criticism & Contempt & Defensiveness & Stonewalling\\\\\n",
       " <fct> & <dbl> & <dbl> & <dbl> & <dbl>\\\\\n",
       "\\hline\n",
       "\t 0 & 0.1428571 & 0.6666667 & 0.0000000 & 0.8333333\\\\\n",
       "\t 0 & 0.4285714 & 0.8333333 & 0.3333333 & 0.5000000\\\\\n",
       "\t 0 & 0.0000000 & 0.6666667 & 0.0000000 & 0.0000000\\\\\n",
       "\t 0 & 0.7142857 & 1.0000000 & 1.0000000 & 0.1666667\\\\\n",
       "\t 0 & 0.2857143 & 0.1666667 & 0.0000000 & 1.1666667\\\\\n",
       "\t 0 & 0.1428571 & 0.3333333 & 1.0000000 & 1.0000000\\\\\n",
       "\\end{tabular}\n"
      ],
      "text/markdown": [
       "\n",
       "A tibble: 6 × 5\n",
       "\n",
       "| Divorce &lt;fct&gt; | Criticism &lt;dbl&gt; | Contempt &lt;dbl&gt; | Defensiveness &lt;dbl&gt; | Stonewalling &lt;dbl&gt; |\n",
       "|---|---|---|---|---|\n",
       "| 0 | 0.1428571 | 0.6666667 | 0.0000000 | 0.8333333 |\n",
       "| 0 | 0.4285714 | 0.8333333 | 0.3333333 | 0.5000000 |\n",
       "| 0 | 0.0000000 | 0.6666667 | 0.0000000 | 0.0000000 |\n",
       "| 0 | 0.7142857 | 1.0000000 | 1.0000000 | 0.1666667 |\n",
       "| 0 | 0.2857143 | 0.1666667 | 0.0000000 | 1.1666667 |\n",
       "| 0 | 0.1428571 | 0.3333333 | 1.0000000 | 1.0000000 |\n",
       "\n"
      ],
      "text/plain": [
       "  Divorce Criticism Contempt  Defensiveness Stonewalling\n",
       "1 0       0.1428571 0.6666667 0.0000000     0.8333333   \n",
       "2 0       0.4285714 0.8333333 0.3333333     0.5000000   \n",
       "3 0       0.0000000 0.6666667 0.0000000     0.0000000   \n",
       "4 0       0.7142857 1.0000000 1.0000000     0.1666667   \n",
       "5 0       0.2857143 0.1666667 0.0000000     1.1666667   \n",
       "6 0       0.1428571 0.3333333 1.0000000     1.0000000   "
      ]
     },
     "metadata": {},
     "output_type": "display_data"
    },
    {
     "data": {
      "text/html": [
       "<table class=\"dataframe\">\n",
       "<caption>A tibble: 6 × 5</caption>\n",
       "<thead>\n",
       "\t<tr><th scope=col>Divorce</th><th scope=col>Criticism</th><th scope=col>Contempt</th><th scope=col>Defensiveness</th><th scope=col>Stonewalling</th></tr>\n",
       "\t<tr><th scope=col>&lt;fct&gt;</th><th scope=col>&lt;dbl&gt;</th><th scope=col>&lt;dbl&gt;</th><th scope=col>&lt;dbl&gt;</th><th scope=col>&lt;dbl&gt;</th></tr>\n",
       "</thead>\n",
       "<tbody>\n",
       "\t<tr><td>1</td><td>1.571429</td><td>1.666667</td><td>2.666667</td><td>1.666667</td></tr>\n",
       "\t<tr><td>1</td><td>1.571429</td><td>2.000000</td><td>1.666667</td><td>1.666667</td></tr>\n",
       "\t<tr><td>1</td><td>4.000000</td><td>4.000000</td><td>4.000000</td><td>4.000000</td></tr>\n",
       "\t<tr><td>1</td><td>4.000000</td><td>4.000000</td><td>4.000000</td><td>4.000000</td></tr>\n",
       "\t<tr><td>1</td><td>4.000000</td><td>4.000000</td><td>4.000000</td><td>4.000000</td></tr>\n",
       "\t<tr><td>1</td><td>4.000000</td><td>4.000000</td><td>4.000000</td><td>4.000000</td></tr>\n",
       "</tbody>\n",
       "</table>\n"
      ],
      "text/latex": [
       "A tibble: 6 × 5\n",
       "\\begin{tabular}{lllll}\n",
       " Divorce & Criticism & Contempt & Defensiveness & Stonewalling\\\\\n",
       " <fct> & <dbl> & <dbl> & <dbl> & <dbl>\\\\\n",
       "\\hline\n",
       "\t 1 & 1.571429 & 1.666667 & 2.666667 & 1.666667\\\\\n",
       "\t 1 & 1.571429 & 2.000000 & 1.666667 & 1.666667\\\\\n",
       "\t 1 & 4.000000 & 4.000000 & 4.000000 & 4.000000\\\\\n",
       "\t 1 & 4.000000 & 4.000000 & 4.000000 & 4.000000\\\\\n",
       "\t 1 & 4.000000 & 4.000000 & 4.000000 & 4.000000\\\\\n",
       "\t 1 & 4.000000 & 4.000000 & 4.000000 & 4.000000\\\\\n",
       "\\end{tabular}\n"
      ],
      "text/markdown": [
       "\n",
       "A tibble: 6 × 5\n",
       "\n",
       "| Divorce &lt;fct&gt; | Criticism &lt;dbl&gt; | Contempt &lt;dbl&gt; | Defensiveness &lt;dbl&gt; | Stonewalling &lt;dbl&gt; |\n",
       "|---|---|---|---|---|\n",
       "| 1 | 1.571429 | 1.666667 | 2.666667 | 1.666667 |\n",
       "| 1 | 1.571429 | 2.000000 | 1.666667 | 1.666667 |\n",
       "| 1 | 4.000000 | 4.000000 | 4.000000 | 4.000000 |\n",
       "| 1 | 4.000000 | 4.000000 | 4.000000 | 4.000000 |\n",
       "| 1 | 4.000000 | 4.000000 | 4.000000 | 4.000000 |\n",
       "| 1 | 4.000000 | 4.000000 | 4.000000 | 4.000000 |\n",
       "\n"
      ],
      "text/plain": [
       "  Divorce Criticism Contempt Defensiveness Stonewalling\n",
       "1 1       1.571429  1.666667 2.666667      1.666667    \n",
       "2 1       1.571429  2.000000 1.666667      1.666667    \n",
       "3 1       4.000000  4.000000 4.000000      4.000000    \n",
       "4 1       4.000000  4.000000 4.000000      4.000000    \n",
       "5 1       4.000000  4.000000 4.000000      4.000000    \n",
       "6 1       4.000000  4.000000 4.000000      4.000000    "
      ]
     },
     "metadata": {},
     "output_type": "display_data"
    }
   ],
   "source": [
    "#Training the data\n",
    "\n",
    "set.seed(2023)\n",
    "\n",
    "divorce_split <- initial_split(final_dataset, prop = 0.75, strata = Divorce)   \n",
    " divorce_train <- training(divorce_split)    \n",
    " divorce_test <- testing(divorce_split) \n",
    " head(divorce_train)\n",
    " head(divorce_test)"
   ]
  },
  {
   "cell_type": "markdown",
   "id": "bf2e4924-0c9d-4bd4-b68e-b44dd148ae06",
   "metadata": {},
   "source": [
    "# Sample Visualization with Training Data\n",
    "\n",
    "The training data can be visualized using a bar graph that compares distributions of the scores from each variable (the four predictors of divorce) and state of marriage (eg. divorce or married). The training data is summarized into a table that shows the mean of the 4 variables separated into class(1 meaning divorced and 0 meaning married)."
   ]
  },
  {
   "cell_type": "code",
   "execution_count": 44,
   "id": "e2c7b0a8-64d6-44aa-9b0c-f836a1ba9388",
   "metadata": {},
   "outputs": [
    {
     "data": {
      "text/html": [
       "<table class=\"dataframe\">\n",
       "<caption>A tibble: 2 × 5</caption>\n",
       "<thead>\n",
       "\t<tr><th scope=col>Divorce</th><th scope=col>Criticism</th><th scope=col>Contempt</th><th scope=col>Defensiveness</th><th scope=col>Stonewalling</th></tr>\n",
       "\t<tr><th scope=col>&lt;fct&gt;</th><th scope=col>&lt;dbl&gt;</th><th scope=col>&lt;dbl&gt;</th><th scope=col>&lt;dbl&gt;</th><th scope=col>&lt;dbl&gt;</th></tr>\n",
       "</thead>\n",
       "<tbody>\n",
       "\t<tr><td>0</td><td>0.609375</td><td>0.9296875</td><td>1.375000</td><td>1.364583</td></tr>\n",
       "\t<tr><td>1</td><td>3.321995</td><td>3.3809524</td><td>3.439153</td><td>3.351852</td></tr>\n",
       "</tbody>\n",
       "</table>\n"
      ],
      "text/latex": [
       "A tibble: 2 × 5\n",
       "\\begin{tabular}{lllll}\n",
       " Divorce & Criticism & Contempt & Defensiveness & Stonewalling\\\\\n",
       " <fct> & <dbl> & <dbl> & <dbl> & <dbl>\\\\\n",
       "\\hline\n",
       "\t 0 & 0.609375 & 0.9296875 & 1.375000 & 1.364583\\\\\n",
       "\t 1 & 3.321995 & 3.3809524 & 3.439153 & 3.351852\\\\\n",
       "\\end{tabular}\n"
      ],
      "text/markdown": [
       "\n",
       "A tibble: 2 × 5\n",
       "\n",
       "| Divorce &lt;fct&gt; | Criticism &lt;dbl&gt; | Contempt &lt;dbl&gt; | Defensiveness &lt;dbl&gt; | Stonewalling &lt;dbl&gt; |\n",
       "|---|---|---|---|---|\n",
       "| 0 | 0.609375 | 0.9296875 | 1.375000 | 1.364583 |\n",
       "| 1 | 3.321995 | 3.3809524 | 3.439153 | 3.351852 |\n",
       "\n"
      ],
      "text/plain": [
       "  Divorce Criticism Contempt  Defensiveness Stonewalling\n",
       "1 0       0.609375  0.9296875 1.375000      1.364583    \n",
       "2 1       3.321995  3.3809524 3.439153      3.351852    "
      ]
     },
     "metadata": {},
     "output_type": "display_data"
    },
    {
     "data": {
      "image/png": "[encoded data removed]",
      "text/plain": [
       "plot without title"
      ]
     },
     "metadata": {
      "image/png": {
       "height": 360,
       "width": 600
      }
     },
     "output_type": "display_data"
    }
   ],
   "source": [
    "# The training data is summarized into a table that shows the mean of the 4 variables separated into class(1 meaning divorced and 0 meaning married)\n",
    "summary_divorce <- divorce_train |>\n",
    "                    group_by(Divorce) |>\n",
    "                    summarise(across(c(\"Criticism\", \"Contempt\", \"Defensiveness\", \"Stonewalling\"), ~mean(.x, na.rm = TRUE)))\n",
    "summary_divorce\n",
    "# A pivot table is created from the summarized data to group the 4 predictors under a column and corresponding average scores under another to aid in data visualization\n",
    "divorce_train_longer <- summary_divorce |>\n",
    "                          pivot_longer(cols = -Divorce, names_to = \"Predictor\", values_to = \"Score\")\n",
    "\n",
    "options(repr.plot.width=10, repr.plot.height=6)\n",
    "# Creating a bar graph showing average scores across the divorce predictors, grouped by marriage status\n",
    "divorce_train_plot <- ggplot(divorce_train_longer, aes(x = Divorce, y = Score, fill = Predictor)) +\n",
    "                        geom_bar(stat = \"identity\", position = \"dodge\", width = 0.8) +\n",
    "                        labs(x = \"Marriage Status (0 = Married, 1 = Divorced)\", y = \"Average Score\", fill = \"Predictor\") +\n",
    "                        ggtitle(\"Average Scores for Divorce Predictors by Marriage Status\")+\n",
    "                        theme(text = element_text(size=17))\n",
    "divorce_train_plot\n"
   ]
  },
  {
   "cell_type": "markdown",
   "id": "83267585-1781-4297-82e0-61636ca4d99d",
   "metadata": {},
   "source": [
    "**Figure 1:** The graph above shows visualization of average scores across the four divorce predictors for marriage status. The data consists of a sample of individuals categorized as either \"Married\" or \"Divorced.\" The pivot_longer() function was used to reshape the data from wide to long format, facilitating the plotting process.\n",
    "\n",
    "The data is plotted using a bar plot and provides a clear comparison of the average scores (y-axis) for each divorce predictor between the two marriage status groups (x-axis). Each of the predictors are differentiated by different colours for easy visual comparison. The bar plot effectively illustrates any differences or similarities in the scores, aiding in the understanding of the relationship between divorce predictors and marital status."
   ]
  },
  {
   "cell_type": "code",
   "execution_count": null,
   "id": "82862081-2b18-4cb2-aaf0-49dd82c72620",
   "metadata": {},
   "outputs": [],
   "source": []
  },
  {
   "cell_type": "code",
   "execution_count": 11,
   "id": "3324f4ce-660c-443c-a3da-5370e827b6d8",
   "metadata": {},
   "outputs": [
    {
     "data": {
      "text/html": [
       "<style>\n",
       ".list-inline {list-style: none; margin:0; padding: 0}\n",
       ".list-inline>li {display: inline-block}\n",
       ".list-inline>li:not(:last-child)::after {content: \"\\00b7\"; padding: 0 .5ex}\n",
       "</style>\n",
       "<ol class=list-inline><li>'tbl_df'</li><li>'tbl'</li><li>'data.frame'</li></ol>\n"
      ],
      "text/latex": [
       "\\begin{enumerate*}\n",
       "\\item 'tbl\\_df'\n",
       "\\item 'tbl'\n",
       "\\item 'data.frame'\n",
       "\\end{enumerate*}\n"
      ],
      "text/markdown": [
       "1. 'tbl_df'\n",
       "2. 'tbl'\n",
       "3. 'data.frame'\n",
       "\n",
       "\n"
      ],
      "text/plain": [
       "[1] \"tbl_df\"     \"tbl\"        \"data.frame\""
      ]
     },
     "metadata": {},
     "output_type": "display_data"
    }
   ],
   "source": [
    "class(divorce_train)"
   ]
  },
  {
   "cell_type": "code",
   "execution_count": 32,
   "id": "4abd008f-108d-43c4-b964-85854a685ff2",
   "metadata": {},
   "outputs": [
    {
     "data": {
      "text/html": [
       "<style>\n",
       ".list-inline {list-style: none; margin:0; padding: 0}\n",
       ".list-inline>li {display: inline-block}\n",
       ".list-inline>li:not(:last-child)::after {content: \"\\00b7\"; padding: 0 .5ex}\n",
       "</style>\n",
       "<ol class=list-inline><li>4</li><li>4</li><li>4</li><li>4</li><li>4</li></ol>\n"
      ],
      "text/latex": [
       "\\begin{enumerate*}\n",
       "\\item 4\n",
       "\\item 4\n",
       "\\item 4\n",
       "\\item 4\n",
       "\\item 4\n",
       "\\end{enumerate*}\n"
      ],
      "text/markdown": [
       "1. 4\n",
       "2. 4\n",
       "3. 4\n",
       "4. 4\n",
       "5. 4\n",
       "\n",
       "\n"
      ],
      "text/plain": [
       "[1] 4 4 4 4 4"
      ]
     },
     "metadata": {},
     "output_type": "display_data"
    }
   ],
   "source": [
    "folds <- vfold_cv(divorce_train, v = 5, strata = Divorce)\n",
    "\n",
    "fold_lengths <- lengths(folds$splits)\n",
    "fold_lengths"
   ]
  },
  {
   "cell_type": "code",
   "execution_count": 33,
   "id": "d669f412-a4c2-4ed3-a5c0-5a874df9f7dc",
   "metadata": {},
   "outputs": [
    {
     "name": "stdout",
     "output_type": "stream",
     "text": [
      "K-Nearest Neighbor Model Specification (classification)\n",
      "\n",
      "Main Arguments:\n",
      "  neighbors = tune(\"neighbors\")\n",
      "  weight_func = rectangular\n",
      "\n",
      "Computational engine: kknn \n",
      "\n"
     ]
    },
    {
     "data": {
      "text/html": [
       "<table class=\"dataframe\">\n",
       "<caption>A tibble: 20 × 7</caption>\n",
       "<thead>\n",
       "\t<tr><th scope=col>neighbors</th><th scope=col>.metric</th><th scope=col>.estimator</th><th scope=col>mean</th><th scope=col>n</th><th scope=col>std_err</th><th scope=col>.config</th></tr>\n",
       "\t<tr><th scope=col>&lt;dbl&gt;</th><th scope=col>&lt;chr&gt;</th><th scope=col>&lt;chr&gt;</th><th scope=col>&lt;dbl&gt;</th><th scope=col>&lt;int&gt;</th><th scope=col>&lt;dbl&gt;</th><th scope=col>&lt;chr&gt;</th></tr>\n",
       "</thead>\n",
       "<tbody>\n",
       "\t<tr><td> 1</td><td>accuracy</td><td>binary</td><td>0.9455128</td><td>5</td><td>0.025999102</td><td>Preprocessor1_Model01</td></tr>\n",
       "\t<tr><td> 6</td><td>accuracy</td><td>binary</td><td>0.9685897</td><td>5</td><td>0.007877055</td><td>Preprocessor1_Model02</td></tr>\n",
       "\t<tr><td>11</td><td>accuracy</td><td>binary</td><td>0.9608974</td><td>5</td><td>0.012179487</td><td>Preprocessor1_Model03</td></tr>\n",
       "\t<tr><td>16</td><td>accuracy</td><td>binary</td><td>0.9608974</td><td>5</td><td>0.012179487</td><td>Preprocessor1_Model04</td></tr>\n",
       "\t<tr><td>21</td><td>accuracy</td><td>binary</td><td>0.9608974</td><td>5</td><td>0.012179487</td><td>Preprocessor1_Model05</td></tr>\n",
       "\t<tr><td>26</td><td>accuracy</td><td>binary</td><td>0.9608974</td><td>5</td><td>0.012179487</td><td>Preprocessor1_Model06</td></tr>\n",
       "\t<tr><td>31</td><td>accuracy</td><td>binary</td><td>0.9528974</td><td>5</td><td>0.007478613</td><td>Preprocessor1_Model07</td></tr>\n",
       "\t<tr><td>36</td><td>accuracy</td><td>binary</td><td>0.9528974</td><td>5</td><td>0.007478613</td><td>Preprocessor1_Model08</td></tr>\n",
       "\t<tr><td>41</td><td>accuracy</td><td>binary</td><td>0.9608974</td><td>5</td><td>0.012179487</td><td>Preprocessor1_Model09</td></tr>\n",
       "\t<tr><td>46</td><td>accuracy</td><td>binary</td><td>0.9608974</td><td>5</td><td>0.012179487</td><td>Preprocessor1_Model10</td></tr>\n",
       "\t<tr><td>51</td><td>accuracy</td><td>binary</td><td>0.9608974</td><td>5</td><td>0.012179487</td><td>Preprocessor1_Model11</td></tr>\n",
       "\t<tr><td>56</td><td>accuracy</td><td>binary</td><td>0.9532051</td><td>5</td><td>0.014319428</td><td>Preprocessor1_Model12</td></tr>\n",
       "\t<tr><td>61</td><td>accuracy</td><td>binary</td><td>0.9532051</td><td>5</td><td>0.014319428</td><td>Preprocessor1_Model13</td></tr>\n",
       "\t<tr><td>66</td><td>accuracy</td><td>binary</td><td>0.9452051</td><td>5</td><td>0.009048013</td><td>Preprocessor1_Model14</td></tr>\n",
       "\t<tr><td>71</td><td>accuracy</td><td>binary</td><td>0.9452051</td><td>5</td><td>0.009048013</td><td>Preprocessor1_Model15</td></tr>\n",
       "\t<tr><td>76</td><td>accuracy</td><td>binary</td><td>0.9452051</td><td>5</td><td>0.009048013</td><td>Preprocessor1_Model16</td></tr>\n",
       "\t<tr><td>81</td><td>accuracy</td><td>binary</td><td>0.9452051</td><td>5</td><td>0.009048013</td><td>Preprocessor1_Model17</td></tr>\n",
       "\t<tr><td>86</td><td>accuracy</td><td>binary</td><td>0.9452051</td><td>5</td><td>0.009048013</td><td>Preprocessor1_Model18</td></tr>\n",
       "\t<tr><td>91</td><td>accuracy</td><td>binary</td><td>0.9452051</td><td>5</td><td>0.009048013</td><td>Preprocessor1_Model19</td></tr>\n",
       "\t<tr><td>96</td><td>accuracy</td><td>binary</td><td>0.9608974</td><td>5</td><td>0.012179487</td><td>Preprocessor1_Model20</td></tr>\n",
       "</tbody>\n",
       "</table>\n"
      ],
      "text/latex": [
       "A tibble: 20 × 7\n",
       "\\begin{tabular}{lllllll}\n",
       " neighbors & .metric & .estimator & mean & n & std\\_err & .config\\\\\n",
       " <dbl> & <chr> & <chr> & <dbl> & <int> & <dbl> & <chr>\\\\\n",
       "\\hline\n",
       "\t  1 & accuracy & binary & 0.9455128 & 5 & 0.025999102 & Preprocessor1\\_Model01\\\\\n",
       "\t  6 & accuracy & binary & 0.9685897 & 5 & 0.007877055 & Preprocessor1\\_Model02\\\\\n",
       "\t 11 & accuracy & binary & 0.9608974 & 5 & 0.012179487 & Preprocessor1\\_Model03\\\\\n",
       "\t 16 & accuracy & binary & 0.9608974 & 5 & 0.012179487 & Preprocessor1\\_Model04\\\\\n",
       "\t 21 & accuracy & binary & 0.9608974 & 5 & 0.012179487 & Preprocessor1\\_Model05\\\\\n",
       "\t 26 & accuracy & binary & 0.9608974 & 5 & 0.012179487 & Preprocessor1\\_Model06\\\\\n",
       "\t 31 & accuracy & binary & 0.9528974 & 5 & 0.007478613 & Preprocessor1\\_Model07\\\\\n",
       "\t 36 & accuracy & binary & 0.9528974 & 5 & 0.007478613 & Preprocessor1\\_Model08\\\\\n",
       "\t 41 & accuracy & binary & 0.9608974 & 5 & 0.012179487 & Preprocessor1\\_Model09\\\\\n",
       "\t 46 & accuracy & binary & 0.9608974 & 5 & 0.012179487 & Preprocessor1\\_Model10\\\\\n",
       "\t 51 & accuracy & binary & 0.9608974 & 5 & 0.012179487 & Preprocessor1\\_Model11\\\\\n",
       "\t 56 & accuracy & binary & 0.9532051 & 5 & 0.014319428 & Preprocessor1\\_Model12\\\\\n",
       "\t 61 & accuracy & binary & 0.9532051 & 5 & 0.014319428 & Preprocessor1\\_Model13\\\\\n",
       "\t 66 & accuracy & binary & 0.9452051 & 5 & 0.009048013 & Preprocessor1\\_Model14\\\\\n",
       "\t 71 & accuracy & binary & 0.9452051 & 5 & 0.009048013 & Preprocessor1\\_Model15\\\\\n",
       "\t 76 & accuracy & binary & 0.9452051 & 5 & 0.009048013 & Preprocessor1\\_Model16\\\\\n",
       "\t 81 & accuracy & binary & 0.9452051 & 5 & 0.009048013 & Preprocessor1\\_Model17\\\\\n",
       "\t 86 & accuracy & binary & 0.9452051 & 5 & 0.009048013 & Preprocessor1\\_Model18\\\\\n",
       "\t 91 & accuracy & binary & 0.9452051 & 5 & 0.009048013 & Preprocessor1\\_Model19\\\\\n",
       "\t 96 & accuracy & binary & 0.9608974 & 5 & 0.012179487 & Preprocessor1\\_Model20\\\\\n",
       "\\end{tabular}\n"
      ],
      "text/markdown": [
       "\n",
       "A tibble: 20 × 7\n",
       "\n",
       "| neighbors &lt;dbl&gt; | .metric &lt;chr&gt; | .estimator &lt;chr&gt; | mean &lt;dbl&gt; | n &lt;int&gt; | std_err &lt;dbl&gt; | .config &lt;chr&gt; |\n",
       "|---|---|---|---|---|---|---|\n",
       "|  1 | accuracy | binary | 0.9455128 | 5 | 0.025999102 | Preprocessor1_Model01 |\n",
       "|  6 | accuracy | binary | 0.9685897 | 5 | 0.007877055 | Preprocessor1_Model02 |\n",
       "| 11 | accuracy | binary | 0.9608974 | 5 | 0.012179487 | Preprocessor1_Model03 |\n",
       "| 16 | accuracy | binary | 0.9608974 | 5 | 0.012179487 | Preprocessor1_Model04 |\n",
       "| 21 | accuracy | binary | 0.9608974 | 5 | 0.012179487 | Preprocessor1_Model05 |\n",
       "| 26 | accuracy | binary | 0.9608974 | 5 | 0.012179487 | Preprocessor1_Model06 |\n",
       "| 31 | accuracy | binary | 0.9528974 | 5 | 0.007478613 | Preprocessor1_Model07 |\n",
       "| 36 | accuracy | binary | 0.9528974 | 5 | 0.007478613 | Preprocessor1_Model08 |\n",
       "| 41 | accuracy | binary | 0.9608974 | 5 | 0.012179487 | Preprocessor1_Model09 |\n",
       "| 46 | accuracy | binary | 0.9608974 | 5 | 0.012179487 | Preprocessor1_Model10 |\n",
       "| 51 | accuracy | binary | 0.9608974 | 5 | 0.012179487 | Preprocessor1_Model11 |\n",
       "| 56 | accuracy | binary | 0.9532051 | 5 | 0.014319428 | Preprocessor1_Model12 |\n",
       "| 61 | accuracy | binary | 0.9532051 | 5 | 0.014319428 | Preprocessor1_Model13 |\n",
       "| 66 | accuracy | binary | 0.9452051 | 5 | 0.009048013 | Preprocessor1_Model14 |\n",
       "| 71 | accuracy | binary | 0.9452051 | 5 | 0.009048013 | Preprocessor1_Model15 |\n",
       "| 76 | accuracy | binary | 0.9452051 | 5 | 0.009048013 | Preprocessor1_Model16 |\n",
       "| 81 | accuracy | binary | 0.9452051 | 5 | 0.009048013 | Preprocessor1_Model17 |\n",
       "| 86 | accuracy | binary | 0.9452051 | 5 | 0.009048013 | Preprocessor1_Model18 |\n",
       "| 91 | accuracy | binary | 0.9452051 | 5 | 0.009048013 | Preprocessor1_Model19 |\n",
       "| 96 | accuracy | binary | 0.9608974 | 5 | 0.012179487 | Preprocessor1_Model20 |\n",
       "\n"
      ],
      "text/plain": [
       "   neighbors .metric  .estimator mean      n std_err     .config              \n",
       "1   1        accuracy binary     0.9455128 5 0.025999102 Preprocessor1_Model01\n",
       "2   6        accuracy binary     0.9685897 5 0.007877055 Preprocessor1_Model02\n",
       "3  11        accuracy binary     0.9608974 5 0.012179487 Preprocessor1_Model03\n",
       "4  16        accuracy binary     0.9608974 5 0.012179487 Preprocessor1_Model04\n",
       "5  21        accuracy binary     0.9608974 5 0.012179487 Preprocessor1_Model05\n",
       "6  26        accuracy binary     0.9608974 5 0.012179487 Preprocessor1_Model06\n",
       "7  31        accuracy binary     0.9528974 5 0.007478613 Preprocessor1_Model07\n",
       "8  36        accuracy binary     0.9528974 5 0.007478613 Preprocessor1_Model08\n",
       "9  41        accuracy binary     0.9608974 5 0.012179487 Preprocessor1_Model09\n",
       "10 46        accuracy binary     0.9608974 5 0.012179487 Preprocessor1_Model10\n",
       "11 51        accuracy binary     0.9608974 5 0.012179487 Preprocessor1_Model11\n",
       "12 56        accuracy binary     0.9532051 5 0.014319428 Preprocessor1_Model12\n",
       "13 61        accuracy binary     0.9532051 5 0.014319428 Preprocessor1_Model13\n",
       "14 66        accuracy binary     0.9452051 5 0.009048013 Preprocessor1_Model14\n",
       "15 71        accuracy binary     0.9452051 5 0.009048013 Preprocessor1_Model15\n",
       "16 76        accuracy binary     0.9452051 5 0.009048013 Preprocessor1_Model16\n",
       "17 81        accuracy binary     0.9452051 5 0.009048013 Preprocessor1_Model17\n",
       "18 86        accuracy binary     0.9452051 5 0.009048013 Preprocessor1_Model18\n",
       "19 91        accuracy binary     0.9452051 5 0.009048013 Preprocessor1_Model19\n",
       "20 96        accuracy binary     0.9608974 5 0.012179487 Preprocessor1_Model20"
      ]
     },
     "metadata": {},
     "output_type": "display_data"
    }
   ],
   "source": [
    "divorce_recipe <- recipe(Divorce ~ Criticism + Contempt + Defensiveness + Stonewalling, data = divorce_train)|>\n",
    " step_normalize(Criticism , Contempt , Defensiveness, Stonewalling)\n",
    "\n",
    "knn_spec <- nearest_neighbor(weight_func = \"rectangular\", \n",
    "                             neighbors = tune(\"neighbors\")) |>\n",
    "                             set_engine(\"kknn\") |>\n",
    "                             set_mode(\"classification\")\n",
    "print(knn_spec)\n",
    "\n",
    "k_vals <- tibble(neighbors = seq(from = 1, to = 100, by = 5))\n",
    "\n",
    "knn_results <- workflow() |>\n",
    "               add_recipe(divorce_recipe) |>\n",
    "               add_model(knn_spec) |>\n",
    "               tune_grid(resamples = folds, grid = k_vals)|>\n",
    "               collect_metrics()\n",
    "\n",
    "accuracies <- knn_results |>\n",
    "              filter(.metric == \"accuracy\")\n",
    "accuracies"
   ]
  },
  {
   "cell_type": "markdown",
   "id": "2a27cdf8-33cc-43fe-a2e9-fd907617d9c0",
   "metadata": {},
   "source": [
    "**Determining the Best K-value - Cross-Validation Plot**\n",
    "\n",
    "Cross-validation plot depicts k values ranging from 1 to 96 to determine the K value with the highest accuracy. The x-axis shows the range of possible K values to identify nearest neighbors that would underfit or overfit the training data and give us the K-value that would have the highest accuracy.\n"
   ]
  },
  {
   "cell_type": "code",
   "execution_count": 40,
   "id": "f1f6e6b0-6ee7-4879-aab2-64cdced31838",
   "metadata": {},
   "outputs": [
    {
     "data": {
      "text/html": [
       "6"
      ],
      "text/latex": [
       "6"
      ],
      "text/markdown": [
       "6"
      ],
      "text/plain": [
       "[1] 6"
      ]
     },
     "metadata": {},
     "output_type": "display_data"
    },
    {
     "data": {
      "image/png": "[encoded data removed]",
      "text/plain": [
       "plot without title"
      ]
     },
     "metadata": {
      "image/png": {
       "height": 360,
       "width": 600
      }
     },
     "output_type": "display_data"
    }
   ],
   "source": [
    "accuracy_versus_k <- ggplot(accuracies, aes(x = neighbors, y = mean))+\n",
    "      geom_point() +\n",
    "      geom_line() +\n",
    "      labs(x = \"Neighbors\", y = \"Accuracy Estimate\") +\n",
    "      ggtitle(\"Plotting Accuracy Estimate for K Nearest Neighbors\")+\n",
    "      theme(text = element_text(size = 12))\n",
    "\n",
    "accuracy_versus_k\n",
    " # determining k with highest accuracy estimate\n",
    "k_max <- accuracies |>\n",
    "         arrange(desc(mean)) |>\n",
    "         slice(1) |>\n",
    "        pull(neighbors)\n",
    "k_max"
   ]
  },
  {
   "cell_type": "markdown",
   "id": "f5cc2316-a214-48b2-a2e7-73fe70dd410c",
   "metadata": {},
   "source": [
    "**Figure 2**: According to our cross-validation plot, the best K-value, giving us the highest accuracy estimate, is K=1. Generally, K = 1 is indicative of a model being too influenced by the training data, and therefore overfit the data. In our model, this could be a result of insufficient data available to the model but we will use K = 1 to train the model as we have limited data from the database. "
   ]
  },
  {
   "cell_type": "markdown",
   "id": "bad411e8-18f9-4d80-86ca-5ab57c061a6c",
   "metadata": {},
   "source": [
    "**Training Model with K = 1**"
   ]
  },
  {
   "cell_type": "code",
   "execution_count": 17,
   "id": "c9bf2018-323d-4776-9207-62e43d66ea7f",
   "metadata": {},
   "outputs": [],
   "source": [
    "knn_best <- nearest_neighbor(weight_func = \"rectangular\", neighbors = 1) |>\n",
    "  set_engine(\"kknn\") |>\n",
    "  set_mode(\"classification\")\n",
    "\n",
    "knn_final <- workflow() |>\n",
    "  add_recipe(divorce_recipe) |>\n",
    "  add_model(knn_best)\n",
    "\n",
    "knn_final_fit <- fit(knn_final, data = divorce_train)\n",
    "\n"
   ]
  },
  {
   "cell_type": "markdown",
   "id": "36037e7a-d294-455f-a127-52aa6f08fcea",
   "metadata": {},
   "source": [
    "**Prediction of Accuracy and Confusion Matrix** \n",
    "\n",
    "Cross-validation helps us evaluate the accuracy of our classifier, we can use cross-validation to calculate an accuracy for our determined value of K."
   ]
  },
  {
   "cell_type": "code",
   "execution_count": 18,
   "id": "606af5a8-a559-46c3-a49b-5c015504f74d",
   "metadata": {},
   "outputs": [
    {
     "data": {
      "text/html": [
       "<table class=\"dataframe\">\n",
       "<caption>A tibble: 1 × 3</caption>\n",
       "<thead>\n",
       "\t<tr><th scope=col>.metric</th><th scope=col>.estimator</th><th scope=col>.estimate</th></tr>\n",
       "\t<tr><th scope=col>&lt;chr&gt;</th><th scope=col>&lt;chr&gt;</th><th scope=col>&lt;dbl&gt;</th></tr>\n",
       "</thead>\n",
       "<tbody>\n",
       "\t<tr><td>accuracy</td><td>binary</td><td>0.9534884</td></tr>\n",
       "</tbody>\n",
       "</table>\n"
      ],
      "text/latex": [
       "A tibble: 1 × 3\n",
       "\\begin{tabular}{lll}\n",
       " .metric & .estimator & .estimate\\\\\n",
       " <chr> & <chr> & <dbl>\\\\\n",
       "\\hline\n",
       "\t accuracy & binary & 0.9534884\\\\\n",
       "\\end{tabular}\n"
      ],
      "text/markdown": [
       "\n",
       "A tibble: 1 × 3\n",
       "\n",
       "| .metric &lt;chr&gt; | .estimator &lt;chr&gt; | .estimate &lt;dbl&gt; |\n",
       "|---|---|---|\n",
       "| accuracy | binary | 0.9534884 |\n",
       "\n"
      ],
      "text/plain": [
       "  .metric  .estimator .estimate\n",
       "1 accuracy binary     0.9534884"
      ]
     },
     "metadata": {},
     "output_type": "display_data"
    },
    {
     "data": {
      "text/plain": [
       "          Truth\n",
       "Prediction  0  1\n",
       "         0 21  1\n",
       "         1  1 20"
      ]
     },
     "metadata": {},
     "output_type": "display_data"
    }
   ],
   "source": [
    "predict_final <- predict(knn_final_fit, divorce_test) |>\n",
    "                    bind_cols(divorce_test) |>\n",
    "                    metrics(truth = Divorce, estimate = .pred_class) |>\n",
    "                    filter(.metric == \"accuracy\")\n",
    "predict_final\n",
    "\n",
    "confmatrix_final <- predict(knn_final_fit, divorce_test) |>\n",
    "                    bind_cols(divorce_test) |>\n",
    "                    conf_mat(truth = Divorce, estimate = .pred_class)\n",
    "confmatrix_final"
   ]
  },
  {
   "cell_type": "markdown",
   "id": "51af7581-d977-41b0-ac3e-6bd1fa0895fb",
   "metadata": {},
   "source": [
    "The accuracy of our model is about 95.3% which is reliable enough to test marriage status using our predictors. The confusion matrix shows 21 observations predicting marriage and 20 observations predicting divorce correctly and only classified one observation as marriage when it should have been divorce and one observation as divorce when it should have been marriage. Overall, the model performed well when evaluated with accuracy and a confusion matrix. "
   ]
  },
  {
   "cell_type": "markdown",
   "id": "22aa956f-85cd-4f6d-9c9d-a0a2974680e7",
   "metadata": {},
   "source": [
    "**Testing Model with New Data**"
   ]
  },
  {
   "cell_type": "code",
   "execution_count": 19,
   "id": "d5a1e08f-965d-4369-93f5-7fb5ff13491b",
   "metadata": {},
   "outputs": [
    {
     "data": {
      "text/html": [
       "<table class=\"dataframe\">\n",
       "<caption>A data.frame: 1 × 4</caption>\n",
       "<thead>\n",
       "\t<tr><th scope=col>Defensiveness</th><th scope=col>Contempt</th><th scope=col>Criticism</th><th scope=col>Stonewalling</th></tr>\n",
       "\t<tr><th scope=col>&lt;dbl&gt;</th><th scope=col>&lt;dbl&gt;</th><th scope=col>&lt;dbl&gt;</th><th scope=col>&lt;dbl&gt;</th></tr>\n",
       "</thead>\n",
       "<tbody>\n",
       "\t<tr><td>3</td><td>2.5</td><td>2</td><td>1</td></tr>\n",
       "</tbody>\n",
       "</table>\n"
      ],
      "text/latex": [
       "A data.frame: 1 × 4\n",
       "\\begin{tabular}{llll}\n",
       " Defensiveness & Contempt & Criticism & Stonewalling\\\\\n",
       " <dbl> & <dbl> & <dbl> & <dbl>\\\\\n",
       "\\hline\n",
       "\t 3 & 2.5 & 2 & 1\\\\\n",
       "\\end{tabular}\n"
      ],
      "text/markdown": [
       "\n",
       "A data.frame: 1 × 4\n",
       "\n",
       "| Defensiveness &lt;dbl&gt; | Contempt &lt;dbl&gt; | Criticism &lt;dbl&gt; | Stonewalling &lt;dbl&gt; |\n",
       "|---|---|---|---|\n",
       "| 3 | 2.5 | 2 | 1 |\n",
       "\n"
      ],
      "text/plain": [
       "  Defensiveness Contempt Criticism Stonewalling\n",
       "1 3             2.5      2         1           "
      ]
     },
     "metadata": {},
     "output_type": "display_data"
    },
    {
     "name": "stdout",
     "output_type": "stream",
     "text": [
      "\u001b[90m# A tibble: 1 × 1\u001b[39m\n",
      "  .pred_class\n",
      "  \u001b[3m\u001b[90m<fct>\u001b[39m\u001b[23m      \n",
      "\u001b[90m1\u001b[39m 1          \n"
     ]
    }
   ],
   "source": [
    "# Hypothetical test scores to evaluate results obtained from model\n",
    "new_data <- data.frame (Defensiveness = 3, Contempt = 2.5, Criticism = 2, Stonewalling = 1)\n",
    "new_data\n",
    "# Results from the Model: 1 = Divorce, 0 = Married \n",
    "predictions <- predict(knn_final_fit, new_data)\n",
    "print(predictions)"
   ]
  }
 ],
 "metadata": {
  "kernelspec": {
   "display_name": "R",
   "language": "R",
   "name": "ir"
  },
  "language_info": {
   "codemirror_mode": "r",
   "file_extension": ".r",
   "mimetype": "text/x-r-source",
   "name": "R",
   "pygments_lexer": "r",
   "version": "4.1.3"
  }
 },
 "nbformat": 4,
 "nbformat_minor": 5
}
